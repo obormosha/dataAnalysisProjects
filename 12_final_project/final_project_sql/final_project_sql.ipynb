{
 "cells": [
  {
   "cell_type": "markdown",
   "metadata": {},
   "source": [
    "<div style=\"background: #6b7b8c; color: white; padding: 10px; font-size: 18pt; line-height: 1.5\">\n",
    "<b><center> Анализ базы данных (SQL)<b>\n",
    "    \n",
    "</div>"
   ]
  },
  {
   "cell_type": "markdown",
   "metadata": {},
   "source": [
    "## Оглавление"
   ]
  },
  {
   "cell_type": "markdown",
   "metadata": {},
   "source": [
    "[Описание задачи](#description)  \n",
    "[Импорты и настройки](#imports)\n",
    "   \n",
    "[1 Изучение общей информации](#start) \n",
    "* [1.1 Таблица books](#books)\n",
    "* [1.2 Таблица authors](#authors)\n",
    "* [1.3 Таблица publishers](#publishers)\n",
    "* [1.4 Таблица ratings](#ratings)\n",
    "* [1.5 Таблица reviews](#reviews)\n",
    "\n",
    "[2 Анализ данных](#eda)\n",
    "* [2.1 Количество книг после 1 января 2000 года](#quantity)\n",
    "* [2.2 Количество обзоров и средняя оценка по книгам](#review)    \n",
    "* [2.3 Издательство, которое выпустило наибольшее число книг толще 50 страниц](#publisher)\n",
    "* [2.4 Автор с самой высокой средней оценкой книг (книги с 50 и более оценками)](#author)\n",
    "* [2.5 Среднее количество обзоров от пользователей, которые поставили больше 50 оценок](#avg_reviews)\n",
    "\n",
    "[Общий вывод](#total_conclusion)"
   ]
  },
  {
   "cell_type": "markdown",
   "metadata": {},
   "source": [
    "<a id='description'></a>\n",
    "## Описание задачи\n",
    "\n",
    "**Цель** - проанализировать базу данных купленного сервиса для чтения книг по подписке для дальнейшего формулирования ценностного предложения для нового продукта.\n",
    "\n",
    "Задачи:\n",
    "* познакомиться с хранящимися в базе данными,\n",
    "* проанализировать результаты запросов.\n",
    "\n",
    "Данные расположены в 5 таблицах, содержащих информацию о книгах, издательствах, авторах, пользовательских оценках и обзорах книг."
   ]
  },
  {
   "cell_type": "markdown",
   "metadata": {},
   "source": [
    "<a id='imports'></a>\n",
    "## Импорты и настройки"
   ]
  },
  {
   "cell_type": "code",
   "execution_count": 1,
   "metadata": {},
   "outputs": [],
   "source": [
    "import pandas as pd\n",
    "from sqlalchemy import create_engine"
   ]
  },
  {
   "cell_type": "code",
   "execution_count": 2,
   "metadata": {},
   "outputs": [],
   "source": [
    "# устанавливаем параметры\n",
    "db_config = {'user': 'praktikum_student', # имя пользователя\n",
    "'pwd': 'Sdf4$2;d-d30pp', # пароль\n",
    " 'host': 'rc1b-wcoijxj3yxfsf3fs.mdb.yandexcloud.net',\n",
    " 'port': 6432, # порт подключения\n",
    " 'db': 'data-analyst-final-project-db'} # название базы данных\n",
    "connection_string = 'postgresql://{}:{}@{}:{}/{}'.format(db_config['user'],\n",
    " db_config['pwd'],\n",
    " db_config['host'],\n",
    " db_config['port'],\n",
    " db_config['db'])\n",
    "# сохраняем коннектор\n",
    "engine = create_engine(connection_string, connect_args={'sslmode':'require'})"
   ]
  },
  {
   "cell_type": "markdown",
   "metadata": {},
   "source": [
    "<a id='start'></a>\n",
    "## 1 Изучение общей информации"
   ]
  },
  {
   "cell_type": "code",
   "execution_count": 5,
   "metadata": {},
   "outputs": [],
   "source": [
    "def look_table_from_sql(table):\n",
    "    '''Display head and information about table in Database'''\n",
    "    \n",
    "    display(pd.io.sql.read_sql('''SELECT * FROM {} LIMIT 3'''.format(table), con = engine))\n",
    "    display()\n",
    "    display(pd.io.sql.read_sql('''SELECT * FROM {}'''.format(table), con = engine).describe())"
   ]
  },
  {
   "cell_type": "markdown",
   "metadata": {},
   "source": [
    "<a id='books'></a>\n",
    "### 1.1 Таблица books"
   ]
  },
  {
   "cell_type": "code",
   "execution_count": 7,
   "metadata": {},
   "outputs": [
    {
     "data": {
      "text/html": [
       "<div>\n",
       "<style scoped>\n",
       "    .dataframe tbody tr th:only-of-type {\n",
       "        vertical-align: middle;\n",
       "    }\n",
       "\n",
       "    .dataframe tbody tr th {\n",
       "        vertical-align: top;\n",
       "    }\n",
       "\n",
       "    .dataframe thead th {\n",
       "        text-align: right;\n",
       "    }\n",
       "</style>\n",
       "<table border=\"1\" class=\"dataframe\">\n",
       "  <thead>\n",
       "    <tr style=\"text-align: right;\">\n",
       "      <th></th>\n",
       "      <th>book_id</th>\n",
       "      <th>author_id</th>\n",
       "      <th>title</th>\n",
       "      <th>num_pages</th>\n",
       "      <th>publication_date</th>\n",
       "      <th>publisher_id</th>\n",
       "    </tr>\n",
       "  </thead>\n",
       "  <tbody>\n",
       "    <tr>\n",
       "      <td>0</td>\n",
       "      <td>1</td>\n",
       "      <td>546</td>\n",
       "      <td>'Salem's Lot</td>\n",
       "      <td>594</td>\n",
       "      <td>2005-11-01</td>\n",
       "      <td>93</td>\n",
       "    </tr>\n",
       "    <tr>\n",
       "      <td>1</td>\n",
       "      <td>2</td>\n",
       "      <td>465</td>\n",
       "      <td>1 000 Places to See Before You Die</td>\n",
       "      <td>992</td>\n",
       "      <td>2003-05-22</td>\n",
       "      <td>336</td>\n",
       "    </tr>\n",
       "    <tr>\n",
       "      <td>2</td>\n",
       "      <td>3</td>\n",
       "      <td>407</td>\n",
       "      <td>13 Little Blue Envelopes (Little Blue Envelope...</td>\n",
       "      <td>322</td>\n",
       "      <td>2010-12-21</td>\n",
       "      <td>135</td>\n",
       "    </tr>\n",
       "  </tbody>\n",
       "</table>\n",
       "</div>"
      ],
      "text/plain": [
       "   book_id  author_id                                              title  \\\n",
       "0        1        546                                       'Salem's Lot   \n",
       "1        2        465                 1 000 Places to See Before You Die   \n",
       "2        3        407  13 Little Blue Envelopes (Little Blue Envelope...   \n",
       "\n",
       "   num_pages publication_date  publisher_id  \n",
       "0        594       2005-11-01            93  \n",
       "1        992       2003-05-22           336  \n",
       "2        322       2010-12-21           135  "
      ]
     },
     "metadata": {},
     "output_type": "display_data"
    },
    {
     "data": {
      "text/html": [
       "<div>\n",
       "<style scoped>\n",
       "    .dataframe tbody tr th:only-of-type {\n",
       "        vertical-align: middle;\n",
       "    }\n",
       "\n",
       "    .dataframe tbody tr th {\n",
       "        vertical-align: top;\n",
       "    }\n",
       "\n",
       "    .dataframe thead th {\n",
       "        text-align: right;\n",
       "    }\n",
       "</style>\n",
       "<table border=\"1\" class=\"dataframe\">\n",
       "  <thead>\n",
       "    <tr style=\"text-align: right;\">\n",
       "      <th></th>\n",
       "      <th>book_id</th>\n",
       "      <th>author_id</th>\n",
       "      <th>num_pages</th>\n",
       "      <th>publisher_id</th>\n",
       "    </tr>\n",
       "  </thead>\n",
       "  <tbody>\n",
       "    <tr>\n",
       "      <td>count</td>\n",
       "      <td>1000.000000</td>\n",
       "      <td>1000.000000</td>\n",
       "      <td>1000.00000</td>\n",
       "      <td>1000.000000</td>\n",
       "    </tr>\n",
       "    <tr>\n",
       "      <td>mean</td>\n",
       "      <td>500.500000</td>\n",
       "      <td>320.417000</td>\n",
       "      <td>389.11100</td>\n",
       "      <td>171.270000</td>\n",
       "    </tr>\n",
       "    <tr>\n",
       "      <td>std</td>\n",
       "      <td>288.819436</td>\n",
       "      <td>181.620172</td>\n",
       "      <td>229.39014</td>\n",
       "      <td>99.082685</td>\n",
       "    </tr>\n",
       "    <tr>\n",
       "      <td>min</td>\n",
       "      <td>1.000000</td>\n",
       "      <td>1.000000</td>\n",
       "      <td>14.00000</td>\n",
       "      <td>1.000000</td>\n",
       "    </tr>\n",
       "    <tr>\n",
       "      <td>25%</td>\n",
       "      <td>250.750000</td>\n",
       "      <td>162.750000</td>\n",
       "      <td>249.00000</td>\n",
       "      <td>83.000000</td>\n",
       "    </tr>\n",
       "    <tr>\n",
       "      <td>50%</td>\n",
       "      <td>500.500000</td>\n",
       "      <td>316.500000</td>\n",
       "      <td>352.00000</td>\n",
       "      <td>177.500000</td>\n",
       "    </tr>\n",
       "    <tr>\n",
       "      <td>75%</td>\n",
       "      <td>750.250000</td>\n",
       "      <td>481.000000</td>\n",
       "      <td>453.00000</td>\n",
       "      <td>258.000000</td>\n",
       "    </tr>\n",
       "    <tr>\n",
       "      <td>max</td>\n",
       "      <td>1000.000000</td>\n",
       "      <td>636.000000</td>\n",
       "      <td>2690.00000</td>\n",
       "      <td>340.000000</td>\n",
       "    </tr>\n",
       "  </tbody>\n",
       "</table>\n",
       "</div>"
      ],
      "text/plain": [
       "           book_id    author_id   num_pages  publisher_id\n",
       "count  1000.000000  1000.000000  1000.00000   1000.000000\n",
       "mean    500.500000   320.417000   389.11100    171.270000\n",
       "std     288.819436   181.620172   229.39014     99.082685\n",
       "min       1.000000     1.000000    14.00000      1.000000\n",
       "25%     250.750000   162.750000   249.00000     83.000000\n",
       "50%     500.500000   316.500000   352.00000    177.500000\n",
       "75%     750.250000   481.000000   453.00000    258.000000\n",
       "max    1000.000000   636.000000  2690.00000    340.000000"
      ]
     },
     "metadata": {},
     "output_type": "display_data"
    }
   ],
   "source": [
    "look_table_from_sql('books')"
   ]
  },
  {
   "cell_type": "markdown",
   "metadata": {},
   "source": [
    "<a id='authors'></a>\n",
    "### 1.2 Таблица authors"
   ]
  },
  {
   "cell_type": "code",
   "execution_count": 8,
   "metadata": {},
   "outputs": [
    {
     "data": {
      "text/html": [
       "<div>\n",
       "<style scoped>\n",
       "    .dataframe tbody tr th:only-of-type {\n",
       "        vertical-align: middle;\n",
       "    }\n",
       "\n",
       "    .dataframe tbody tr th {\n",
       "        vertical-align: top;\n",
       "    }\n",
       "\n",
       "    .dataframe thead th {\n",
       "        text-align: right;\n",
       "    }\n",
       "</style>\n",
       "<table border=\"1\" class=\"dataframe\">\n",
       "  <thead>\n",
       "    <tr style=\"text-align: right;\">\n",
       "      <th></th>\n",
       "      <th>author_id</th>\n",
       "      <th>author</th>\n",
       "    </tr>\n",
       "  </thead>\n",
       "  <tbody>\n",
       "    <tr>\n",
       "      <td>0</td>\n",
       "      <td>1</td>\n",
       "      <td>A.S. Byatt</td>\n",
       "    </tr>\n",
       "    <tr>\n",
       "      <td>1</td>\n",
       "      <td>2</td>\n",
       "      <td>Aesop/Laura Harris/Laura Gibbs</td>\n",
       "    </tr>\n",
       "    <tr>\n",
       "      <td>2</td>\n",
       "      <td>3</td>\n",
       "      <td>Agatha Christie</td>\n",
       "    </tr>\n",
       "  </tbody>\n",
       "</table>\n",
       "</div>"
      ],
      "text/plain": [
       "   author_id                          author\n",
       "0          1                      A.S. Byatt\n",
       "1          2  Aesop/Laura Harris/Laura Gibbs\n",
       "2          3                 Agatha Christie"
      ]
     },
     "metadata": {},
     "output_type": "display_data"
    },
    {
     "data": {
      "text/html": [
       "<div>\n",
       "<style scoped>\n",
       "    .dataframe tbody tr th:only-of-type {\n",
       "        vertical-align: middle;\n",
       "    }\n",
       "\n",
       "    .dataframe tbody tr th {\n",
       "        vertical-align: top;\n",
       "    }\n",
       "\n",
       "    .dataframe thead th {\n",
       "        text-align: right;\n",
       "    }\n",
       "</style>\n",
       "<table border=\"1\" class=\"dataframe\">\n",
       "  <thead>\n",
       "    <tr style=\"text-align: right;\">\n",
       "      <th></th>\n",
       "      <th>author_id</th>\n",
       "    </tr>\n",
       "  </thead>\n",
       "  <tbody>\n",
       "    <tr>\n",
       "      <td>count</td>\n",
       "      <td>636.000000</td>\n",
       "    </tr>\n",
       "    <tr>\n",
       "      <td>mean</td>\n",
       "      <td>318.500000</td>\n",
       "    </tr>\n",
       "    <tr>\n",
       "      <td>std</td>\n",
       "      <td>183.741666</td>\n",
       "    </tr>\n",
       "    <tr>\n",
       "      <td>min</td>\n",
       "      <td>1.000000</td>\n",
       "    </tr>\n",
       "    <tr>\n",
       "      <td>25%</td>\n",
       "      <td>159.750000</td>\n",
       "    </tr>\n",
       "    <tr>\n",
       "      <td>50%</td>\n",
       "      <td>318.500000</td>\n",
       "    </tr>\n",
       "    <tr>\n",
       "      <td>75%</td>\n",
       "      <td>477.250000</td>\n",
       "    </tr>\n",
       "    <tr>\n",
       "      <td>max</td>\n",
       "      <td>636.000000</td>\n",
       "    </tr>\n",
       "  </tbody>\n",
       "</table>\n",
       "</div>"
      ],
      "text/plain": [
       "        author_id\n",
       "count  636.000000\n",
       "mean   318.500000\n",
       "std    183.741666\n",
       "min      1.000000\n",
       "25%    159.750000\n",
       "50%    318.500000\n",
       "75%    477.250000\n",
       "max    636.000000"
      ]
     },
     "metadata": {},
     "output_type": "display_data"
    }
   ],
   "source": [
    "look_table_from_sql('authors')"
   ]
  },
  {
   "cell_type": "markdown",
   "metadata": {},
   "source": [
    "<a id='publishers'></a>\n",
    "### 1.3 Таблица publishers"
   ]
  },
  {
   "cell_type": "code",
   "execution_count": 9,
   "metadata": {},
   "outputs": [
    {
     "data": {
      "text/html": [
       "<div>\n",
       "<style scoped>\n",
       "    .dataframe tbody tr th:only-of-type {\n",
       "        vertical-align: middle;\n",
       "    }\n",
       "\n",
       "    .dataframe tbody tr th {\n",
       "        vertical-align: top;\n",
       "    }\n",
       "\n",
       "    .dataframe thead th {\n",
       "        text-align: right;\n",
       "    }\n",
       "</style>\n",
       "<table border=\"1\" class=\"dataframe\">\n",
       "  <thead>\n",
       "    <tr style=\"text-align: right;\">\n",
       "      <th></th>\n",
       "      <th>publisher_id</th>\n",
       "      <th>publisher</th>\n",
       "    </tr>\n",
       "  </thead>\n",
       "  <tbody>\n",
       "    <tr>\n",
       "      <td>0</td>\n",
       "      <td>1</td>\n",
       "      <td>Ace</td>\n",
       "    </tr>\n",
       "    <tr>\n",
       "      <td>1</td>\n",
       "      <td>2</td>\n",
       "      <td>Ace Book</td>\n",
       "    </tr>\n",
       "    <tr>\n",
       "      <td>2</td>\n",
       "      <td>3</td>\n",
       "      <td>Ace Books</td>\n",
       "    </tr>\n",
       "  </tbody>\n",
       "</table>\n",
       "</div>"
      ],
      "text/plain": [
       "   publisher_id  publisher\n",
       "0             1        Ace\n",
       "1             2   Ace Book\n",
       "2             3  Ace Books"
      ]
     },
     "metadata": {},
     "output_type": "display_data"
    },
    {
     "data": {
      "text/html": [
       "<div>\n",
       "<style scoped>\n",
       "    .dataframe tbody tr th:only-of-type {\n",
       "        vertical-align: middle;\n",
       "    }\n",
       "\n",
       "    .dataframe tbody tr th {\n",
       "        vertical-align: top;\n",
       "    }\n",
       "\n",
       "    .dataframe thead th {\n",
       "        text-align: right;\n",
       "    }\n",
       "</style>\n",
       "<table border=\"1\" class=\"dataframe\">\n",
       "  <thead>\n",
       "    <tr style=\"text-align: right;\">\n",
       "      <th></th>\n",
       "      <th>publisher_id</th>\n",
       "    </tr>\n",
       "  </thead>\n",
       "  <tbody>\n",
       "    <tr>\n",
       "      <td>count</td>\n",
       "      <td>340.000000</td>\n",
       "    </tr>\n",
       "    <tr>\n",
       "      <td>mean</td>\n",
       "      <td>170.500000</td>\n",
       "    </tr>\n",
       "    <tr>\n",
       "      <td>std</td>\n",
       "      <td>98.293777</td>\n",
       "    </tr>\n",
       "    <tr>\n",
       "      <td>min</td>\n",
       "      <td>1.000000</td>\n",
       "    </tr>\n",
       "    <tr>\n",
       "      <td>25%</td>\n",
       "      <td>85.750000</td>\n",
       "    </tr>\n",
       "    <tr>\n",
       "      <td>50%</td>\n",
       "      <td>170.500000</td>\n",
       "    </tr>\n",
       "    <tr>\n",
       "      <td>75%</td>\n",
       "      <td>255.250000</td>\n",
       "    </tr>\n",
       "    <tr>\n",
       "      <td>max</td>\n",
       "      <td>340.000000</td>\n",
       "    </tr>\n",
       "  </tbody>\n",
       "</table>\n",
       "</div>"
      ],
      "text/plain": [
       "       publisher_id\n",
       "count    340.000000\n",
       "mean     170.500000\n",
       "std       98.293777\n",
       "min        1.000000\n",
       "25%       85.750000\n",
       "50%      170.500000\n",
       "75%      255.250000\n",
       "max      340.000000"
      ]
     },
     "metadata": {},
     "output_type": "display_data"
    }
   ],
   "source": [
    "look_table_from_sql('publishers')"
   ]
  },
  {
   "cell_type": "markdown",
   "metadata": {},
   "source": [
    "<a id='ratings'></a>\n",
    "### 1.4 Таблица ratings"
   ]
  },
  {
   "cell_type": "code",
   "execution_count": 10,
   "metadata": {},
   "outputs": [
    {
     "data": {
      "text/html": [
       "<div>\n",
       "<style scoped>\n",
       "    .dataframe tbody tr th:only-of-type {\n",
       "        vertical-align: middle;\n",
       "    }\n",
       "\n",
       "    .dataframe tbody tr th {\n",
       "        vertical-align: top;\n",
       "    }\n",
       "\n",
       "    .dataframe thead th {\n",
       "        text-align: right;\n",
       "    }\n",
       "</style>\n",
       "<table border=\"1\" class=\"dataframe\">\n",
       "  <thead>\n",
       "    <tr style=\"text-align: right;\">\n",
       "      <th></th>\n",
       "      <th>rating_id</th>\n",
       "      <th>book_id</th>\n",
       "      <th>username</th>\n",
       "      <th>rating</th>\n",
       "    </tr>\n",
       "  </thead>\n",
       "  <tbody>\n",
       "    <tr>\n",
       "      <td>0</td>\n",
       "      <td>1</td>\n",
       "      <td>1</td>\n",
       "      <td>ryanfranco</td>\n",
       "      <td>4</td>\n",
       "    </tr>\n",
       "    <tr>\n",
       "      <td>1</td>\n",
       "      <td>2</td>\n",
       "      <td>1</td>\n",
       "      <td>grantpatricia</td>\n",
       "      <td>2</td>\n",
       "    </tr>\n",
       "    <tr>\n",
       "      <td>2</td>\n",
       "      <td>3</td>\n",
       "      <td>1</td>\n",
       "      <td>brandtandrea</td>\n",
       "      <td>5</td>\n",
       "    </tr>\n",
       "  </tbody>\n",
       "</table>\n",
       "</div>"
      ],
      "text/plain": [
       "   rating_id  book_id       username  rating\n",
       "0          1        1     ryanfranco       4\n",
       "1          2        1  grantpatricia       2\n",
       "2          3        1   brandtandrea       5"
      ]
     },
     "metadata": {},
     "output_type": "display_data"
    },
    {
     "data": {
      "text/html": [
       "<div>\n",
       "<style scoped>\n",
       "    .dataframe tbody tr th:only-of-type {\n",
       "        vertical-align: middle;\n",
       "    }\n",
       "\n",
       "    .dataframe tbody tr th {\n",
       "        vertical-align: top;\n",
       "    }\n",
       "\n",
       "    .dataframe thead th {\n",
       "        text-align: right;\n",
       "    }\n",
       "</style>\n",
       "<table border=\"1\" class=\"dataframe\">\n",
       "  <thead>\n",
       "    <tr style=\"text-align: right;\">\n",
       "      <th></th>\n",
       "      <th>rating_id</th>\n",
       "      <th>book_id</th>\n",
       "      <th>rating</th>\n",
       "    </tr>\n",
       "  </thead>\n",
       "  <tbody>\n",
       "    <tr>\n",
       "      <td>count</td>\n",
       "      <td>6456.000000</td>\n",
       "      <td>6456.000000</td>\n",
       "      <td>6456.000000</td>\n",
       "    </tr>\n",
       "    <tr>\n",
       "      <td>mean</td>\n",
       "      <td>3228.500000</td>\n",
       "      <td>510.574195</td>\n",
       "      <td>3.928284</td>\n",
       "    </tr>\n",
       "    <tr>\n",
       "      <td>std</td>\n",
       "      <td>1863.831001</td>\n",
       "      <td>284.141636</td>\n",
       "      <td>0.943303</td>\n",
       "    </tr>\n",
       "    <tr>\n",
       "      <td>min</td>\n",
       "      <td>1.000000</td>\n",
       "      <td>1.000000</td>\n",
       "      <td>1.000000</td>\n",
       "    </tr>\n",
       "    <tr>\n",
       "      <td>25%</td>\n",
       "      <td>1614.750000</td>\n",
       "      <td>291.000000</td>\n",
       "      <td>3.000000</td>\n",
       "    </tr>\n",
       "    <tr>\n",
       "      <td>50%</td>\n",
       "      <td>3228.500000</td>\n",
       "      <td>506.000000</td>\n",
       "      <td>4.000000</td>\n",
       "    </tr>\n",
       "    <tr>\n",
       "      <td>75%</td>\n",
       "      <td>4842.250000</td>\n",
       "      <td>750.000000</td>\n",
       "      <td>5.000000</td>\n",
       "    </tr>\n",
       "    <tr>\n",
       "      <td>max</td>\n",
       "      <td>6456.000000</td>\n",
       "      <td>1000.000000</td>\n",
       "      <td>5.000000</td>\n",
       "    </tr>\n",
       "  </tbody>\n",
       "</table>\n",
       "</div>"
      ],
      "text/plain": [
       "         rating_id      book_id       rating\n",
       "count  6456.000000  6456.000000  6456.000000\n",
       "mean   3228.500000   510.574195     3.928284\n",
       "std    1863.831001   284.141636     0.943303\n",
       "min       1.000000     1.000000     1.000000\n",
       "25%    1614.750000   291.000000     3.000000\n",
       "50%    3228.500000   506.000000     4.000000\n",
       "75%    4842.250000   750.000000     5.000000\n",
       "max    6456.000000  1000.000000     5.000000"
      ]
     },
     "metadata": {},
     "output_type": "display_data"
    }
   ],
   "source": [
    "look_table_from_sql('ratings')"
   ]
  },
  {
   "cell_type": "markdown",
   "metadata": {},
   "source": [
    "<a id='reviews'></a>\n",
    "### 1.5 Таблица reviews"
   ]
  },
  {
   "cell_type": "code",
   "execution_count": 11,
   "metadata": {},
   "outputs": [
    {
     "data": {
      "text/html": [
       "<div>\n",
       "<style scoped>\n",
       "    .dataframe tbody tr th:only-of-type {\n",
       "        vertical-align: middle;\n",
       "    }\n",
       "\n",
       "    .dataframe tbody tr th {\n",
       "        vertical-align: top;\n",
       "    }\n",
       "\n",
       "    .dataframe thead th {\n",
       "        text-align: right;\n",
       "    }\n",
       "</style>\n",
       "<table border=\"1\" class=\"dataframe\">\n",
       "  <thead>\n",
       "    <tr style=\"text-align: right;\">\n",
       "      <th></th>\n",
       "      <th>review_id</th>\n",
       "      <th>book_id</th>\n",
       "      <th>username</th>\n",
       "      <th>text</th>\n",
       "    </tr>\n",
       "  </thead>\n",
       "  <tbody>\n",
       "    <tr>\n",
       "      <td>0</td>\n",
       "      <td>1</td>\n",
       "      <td>1</td>\n",
       "      <td>brandtandrea</td>\n",
       "      <td>Mention society tell send professor analysis. ...</td>\n",
       "    </tr>\n",
       "    <tr>\n",
       "      <td>1</td>\n",
       "      <td>2</td>\n",
       "      <td>1</td>\n",
       "      <td>ryanfranco</td>\n",
       "      <td>Foot glass pretty audience hit themselves. Amo...</td>\n",
       "    </tr>\n",
       "    <tr>\n",
       "      <td>2</td>\n",
       "      <td>3</td>\n",
       "      <td>2</td>\n",
       "      <td>lorichen</td>\n",
       "      <td>Listen treat keep worry. Miss husband tax but ...</td>\n",
       "    </tr>\n",
       "  </tbody>\n",
       "</table>\n",
       "</div>"
      ],
      "text/plain": [
       "   review_id  book_id      username  \\\n",
       "0          1        1  brandtandrea   \n",
       "1          2        1    ryanfranco   \n",
       "2          3        2      lorichen   \n",
       "\n",
       "                                                text  \n",
       "0  Mention society tell send professor analysis. ...  \n",
       "1  Foot glass pretty audience hit themselves. Amo...  \n",
       "2  Listen treat keep worry. Miss husband tax but ...  "
      ]
     },
     "metadata": {},
     "output_type": "display_data"
    },
    {
     "data": {
      "text/html": [
       "<div>\n",
       "<style scoped>\n",
       "    .dataframe tbody tr th:only-of-type {\n",
       "        vertical-align: middle;\n",
       "    }\n",
       "\n",
       "    .dataframe tbody tr th {\n",
       "        vertical-align: top;\n",
       "    }\n",
       "\n",
       "    .dataframe thead th {\n",
       "        text-align: right;\n",
       "    }\n",
       "</style>\n",
       "<table border=\"1\" class=\"dataframe\">\n",
       "  <thead>\n",
       "    <tr style=\"text-align: right;\">\n",
       "      <th></th>\n",
       "      <th>review_id</th>\n",
       "      <th>book_id</th>\n",
       "    </tr>\n",
       "  </thead>\n",
       "  <tbody>\n",
       "    <tr>\n",
       "      <td>count</td>\n",
       "      <td>2793.000000</td>\n",
       "      <td>2793.000000</td>\n",
       "    </tr>\n",
       "    <tr>\n",
       "      <td>mean</td>\n",
       "      <td>1397.000000</td>\n",
       "      <td>504.693161</td>\n",
       "    </tr>\n",
       "    <tr>\n",
       "      <td>std</td>\n",
       "      <td>806.413976</td>\n",
       "      <td>288.472931</td>\n",
       "    </tr>\n",
       "    <tr>\n",
       "      <td>min</td>\n",
       "      <td>1.000000</td>\n",
       "      <td>1.000000</td>\n",
       "    </tr>\n",
       "    <tr>\n",
       "      <td>25%</td>\n",
       "      <td>699.000000</td>\n",
       "      <td>259.000000</td>\n",
       "    </tr>\n",
       "    <tr>\n",
       "      <td>50%</td>\n",
       "      <td>1397.000000</td>\n",
       "      <td>505.000000</td>\n",
       "    </tr>\n",
       "    <tr>\n",
       "      <td>75%</td>\n",
       "      <td>2095.000000</td>\n",
       "      <td>753.000000</td>\n",
       "    </tr>\n",
       "    <tr>\n",
       "      <td>max</td>\n",
       "      <td>2793.000000</td>\n",
       "      <td>1000.000000</td>\n",
       "    </tr>\n",
       "  </tbody>\n",
       "</table>\n",
       "</div>"
      ],
      "text/plain": [
       "         review_id      book_id\n",
       "count  2793.000000  2793.000000\n",
       "mean   1397.000000   504.693161\n",
       "std     806.413976   288.472931\n",
       "min       1.000000     1.000000\n",
       "25%     699.000000   259.000000\n",
       "50%    1397.000000   505.000000\n",
       "75%    2095.000000   753.000000\n",
       "max    2793.000000  1000.000000"
      ]
     },
     "metadata": {},
     "output_type": "display_data"
    }
   ],
   "source": [
    "look_table_from_sql('reviews')"
   ]
  },
  {
   "cell_type": "markdown",
   "metadata": {},
   "source": [
    "<a id='eda'></a>\n",
    "## 2 Анализ данных"
   ]
  },
  {
   "cell_type": "markdown",
   "metadata": {},
   "source": [
    "<a id='quantity'></a>\n",
    "### 2.1 Количество книг после 1 января 2000 года"
   ]
  },
  {
   "cell_type": "code",
   "execution_count": 8,
   "metadata": {},
   "outputs": [],
   "source": [
    "# количество новых книг\n",
    "query = ''' SELECT COUNT(book_id) AS cnt_book\n",
    "            FROM books\n",
    "            WHERE publication_date >= DATE('2000-01-01')\n",
    "        '''"
   ]
  },
  {
   "cell_type": "code",
   "execution_count": 9,
   "metadata": {
    "scrolled": false
   },
   "outputs": [
    {
     "data": {
      "text/html": [
       "<div>\n",
       "<style scoped>\n",
       "    .dataframe tbody tr th:only-of-type {\n",
       "        vertical-align: middle;\n",
       "    }\n",
       "\n",
       "    .dataframe tbody tr th {\n",
       "        vertical-align: top;\n",
       "    }\n",
       "\n",
       "    .dataframe thead th {\n",
       "        text-align: right;\n",
       "    }\n",
       "</style>\n",
       "<table border=\"1\" class=\"dataframe\">\n",
       "  <thead>\n",
       "    <tr style=\"text-align: right;\">\n",
       "      <th></th>\n",
       "      <th>cnt_book</th>\n",
       "    </tr>\n",
       "  </thead>\n",
       "  <tbody>\n",
       "    <tr>\n",
       "      <td>0</td>\n",
       "      <td>821</td>\n",
       "    </tr>\n",
       "  </tbody>\n",
       "</table>\n",
       "</div>"
      ],
      "text/plain": [
       "   cnt_book\n",
       "0       821"
      ]
     },
     "execution_count": 9,
     "metadata": {},
     "output_type": "execute_result"
    }
   ],
   "source": [
    "pd.io.sql.read_sql(query, con = engine)"
   ]
  },
  {
   "cell_type": "code",
   "execution_count": 10,
   "metadata": {},
   "outputs": [],
   "source": [
    "# количество новых книг и их доля в базе\n",
    "query = ''' SELECT \n",
    "            SUM(CASE WHEN publication_date >= DATE('2000-01-01') \n",
    "            THEN 1 ELSE 0\n",
    "            END) AS cnt_book, \n",
    "            SUM(CASE WHEN publication_date >= DATE('2000-01-01') \n",
    "            THEN 1 ELSE 0\n",
    "            END) * 100 / count(*) AS share_of_new_books\n",
    "            FROM books\n",
    "        '''"
   ]
  },
  {
   "cell_type": "code",
   "execution_count": 11,
   "metadata": {},
   "outputs": [
    {
     "data": {
      "text/html": [
       "<div>\n",
       "<style scoped>\n",
       "    .dataframe tbody tr th:only-of-type {\n",
       "        vertical-align: middle;\n",
       "    }\n",
       "\n",
       "    .dataframe tbody tr th {\n",
       "        vertical-align: top;\n",
       "    }\n",
       "\n",
       "    .dataframe thead th {\n",
       "        text-align: right;\n",
       "    }\n",
       "</style>\n",
       "<table border=\"1\" class=\"dataframe\">\n",
       "  <thead>\n",
       "    <tr style=\"text-align: right;\">\n",
       "      <th></th>\n",
       "      <th>cnt_book</th>\n",
       "      <th>share_of_new_books</th>\n",
       "    </tr>\n",
       "  </thead>\n",
       "  <tbody>\n",
       "    <tr>\n",
       "      <td>0</td>\n",
       "      <td>821</td>\n",
       "      <td>82</td>\n",
       "    </tr>\n",
       "  </tbody>\n",
       "</table>\n",
       "</div>"
      ],
      "text/plain": [
       "   cnt_book  share_of_new_books\n",
       "0       821                  82"
      ]
     },
     "execution_count": 11,
     "metadata": {},
     "output_type": "execute_result"
    }
   ],
   "source": [
    "pd.io.sql.read_sql(query, con = engine)"
   ]
  },
  {
   "cell_type": "markdown",
   "metadata": {},
   "source": [
    "<a id='review'></a>\n",
    "### 2.2 Количество обзоров и средняя оценка по книгам"
   ]
  },
  {
   "cell_type": "code",
   "execution_count": 12,
   "metadata": {},
   "outputs": [],
   "source": [
    "query = ''' SELECT title, SUM(cnt_review) AS cnt_review, AVG(avg_raiting) AS avg_raiting\n",
    "            FROM books \n",
    "            LEFT JOIN (SELECT book_id, COUNT(review_id) AS cnt_review \n",
    "                        FROM reviews\n",
    "                        GROUP BY book_id) AS sub\n",
    "            ON books.book_id = sub.book_id\n",
    "            LEFT JOIN (SELECT book_id, AVG(rating) AS avg_raiting\n",
    "                        FROM ratings \n",
    "                        GROUP BY book_id) AS sub_2\n",
    "            ON books.book_id = sub_2.book_id\n",
    "            GROUP BY books.title\n",
    "        '''"
   ]
  },
  {
   "cell_type": "code",
   "execution_count": 13,
   "metadata": {
    "scrolled": false
   },
   "outputs": [
    {
     "data": {
      "text/html": [
       "<div>\n",
       "<style scoped>\n",
       "    .dataframe tbody tr th:only-of-type {\n",
       "        vertical-align: middle;\n",
       "    }\n",
       "\n",
       "    .dataframe tbody tr th {\n",
       "        vertical-align: top;\n",
       "    }\n",
       "\n",
       "    .dataframe thead th {\n",
       "        text-align: right;\n",
       "    }\n",
       "</style>\n",
       "<table border=\"1\" class=\"dataframe\">\n",
       "  <thead>\n",
       "    <tr style=\"text-align: right;\">\n",
       "      <th></th>\n",
       "      <th>title</th>\n",
       "      <th>cnt_review</th>\n",
       "      <th>avg_raiting</th>\n",
       "    </tr>\n",
       "  </thead>\n",
       "  <tbody>\n",
       "    <tr>\n",
       "      <td>0</td>\n",
       "      <td>The Count of Monte Cristo</td>\n",
       "      <td>5.0</td>\n",
       "      <td>4.217391</td>\n",
       "    </tr>\n",
       "    <tr>\n",
       "      <td>1</td>\n",
       "      <td>Count Zero (Sprawl  #2)</td>\n",
       "      <td>2.0</td>\n",
       "      <td>2.500000</td>\n",
       "    </tr>\n",
       "    <tr>\n",
       "      <td>2</td>\n",
       "      <td>The Botany of Desire: A Plant's-Eye View of th...</td>\n",
       "      <td>2.0</td>\n",
       "      <td>3.500000</td>\n",
       "    </tr>\n",
       "    <tr>\n",
       "      <td>3</td>\n",
       "      <td>The Poisonwood Bible</td>\n",
       "      <td>5.0</td>\n",
       "      <td>4.363636</td>\n",
       "    </tr>\n",
       "    <tr>\n",
       "      <td>4</td>\n",
       "      <td>The Canterbury Tales</td>\n",
       "      <td>3.0</td>\n",
       "      <td>3.333333</td>\n",
       "    </tr>\n",
       "    <tr>\n",
       "      <td>...</td>\n",
       "      <td>...</td>\n",
       "      <td>...</td>\n",
       "      <td>...</td>\n",
       "    </tr>\n",
       "    <tr>\n",
       "      <td>994</td>\n",
       "      <td>In the Heart of the Sea: The Tragedy of the Wh...</td>\n",
       "      <td>3.0</td>\n",
       "      <td>3.333333</td>\n",
       "    </tr>\n",
       "    <tr>\n",
       "      <td>995</td>\n",
       "      <td>Of Love and Other Demons</td>\n",
       "      <td>2.0</td>\n",
       "      <td>4.500000</td>\n",
       "    </tr>\n",
       "    <tr>\n",
       "      <td>996</td>\n",
       "      <td>Welcome to Temptation (Dempseys  #1)</td>\n",
       "      <td>2.0</td>\n",
       "      <td>5.000000</td>\n",
       "    </tr>\n",
       "    <tr>\n",
       "      <td>997</td>\n",
       "      <td>World's End (The Sandman  #8)</td>\n",
       "      <td>2.0</td>\n",
       "      <td>4.500000</td>\n",
       "    </tr>\n",
       "    <tr>\n",
       "      <td>998</td>\n",
       "      <td>Holes (Holes  #1)</td>\n",
       "      <td>5.0</td>\n",
       "      <td>3.967742</td>\n",
       "    </tr>\n",
       "  </tbody>\n",
       "</table>\n",
       "<p>999 rows × 3 columns</p>\n",
       "</div>"
      ],
      "text/plain": [
       "                                                 title  cnt_review  \\\n",
       "0                            The Count of Monte Cristo         5.0   \n",
       "1                              Count Zero (Sprawl  #2)         2.0   \n",
       "2    The Botany of Desire: A Plant's-Eye View of th...         2.0   \n",
       "3                                 The Poisonwood Bible         5.0   \n",
       "4                                 The Canterbury Tales         3.0   \n",
       "..                                                 ...         ...   \n",
       "994  In the Heart of the Sea: The Tragedy of the Wh...         3.0   \n",
       "995                           Of Love and Other Demons         2.0   \n",
       "996               Welcome to Temptation (Dempseys  #1)         2.0   \n",
       "997                      World's End (The Sandman  #8)         2.0   \n",
       "998                                  Holes (Holes  #1)         5.0   \n",
       "\n",
       "     avg_raiting  \n",
       "0       4.217391  \n",
       "1       2.500000  \n",
       "2       3.500000  \n",
       "3       4.363636  \n",
       "4       3.333333  \n",
       "..           ...  \n",
       "994     3.333333  \n",
       "995     4.500000  \n",
       "996     5.000000  \n",
       "997     4.500000  \n",
       "998     3.967742  \n",
       "\n",
       "[999 rows x 3 columns]"
      ]
     },
     "execution_count": 13,
     "metadata": {},
     "output_type": "execute_result"
    }
   ],
   "source": [
    "pd.io.sql.read_sql(query, con = engine)"
   ]
  },
  {
   "cell_type": "markdown",
   "metadata": {},
   "source": [
    "<a id='publisher'></a>\n",
    "### 2.3 Издательство, которое выпустило наибольшее число книг толще 50 страниц"
   ]
  },
  {
   "cell_type": "code",
   "execution_count": 16,
   "metadata": {},
   "outputs": [],
   "source": [
    "# 1 способ\n",
    "query = ''' SELECT publisher, COUNT(book_id) as cnt_book \n",
    "            FROM books LEFt JOIN publishers ON books.publisher_id = publishers.publisher_id\n",
    "            WHERE num_pages > 50\n",
    "            GROUP BY publisher\n",
    "            ORDER BY cnt_book DESC\n",
    "            LIMIT 1\n",
    "        '''"
   ]
  },
  {
   "cell_type": "code",
   "execution_count": 17,
   "metadata": {},
   "outputs": [
    {
     "data": {
      "text/html": [
       "<div>\n",
       "<style scoped>\n",
       "    .dataframe tbody tr th:only-of-type {\n",
       "        vertical-align: middle;\n",
       "    }\n",
       "\n",
       "    .dataframe tbody tr th {\n",
       "        vertical-align: top;\n",
       "    }\n",
       "\n",
       "    .dataframe thead th {\n",
       "        text-align: right;\n",
       "    }\n",
       "</style>\n",
       "<table border=\"1\" class=\"dataframe\">\n",
       "  <thead>\n",
       "    <tr style=\"text-align: right;\">\n",
       "      <th></th>\n",
       "      <th>publisher</th>\n",
       "      <th>cnt_book</th>\n",
       "    </tr>\n",
       "  </thead>\n",
       "  <tbody>\n",
       "    <tr>\n",
       "      <td>0</td>\n",
       "      <td>Penguin Books</td>\n",
       "      <td>42</td>\n",
       "    </tr>\n",
       "  </tbody>\n",
       "</table>\n",
       "</div>"
      ],
      "text/plain": [
       "       publisher  cnt_book\n",
       "0  Penguin Books        42"
      ]
     },
     "execution_count": 17,
     "metadata": {},
     "output_type": "execute_result"
    }
   ],
   "source": [
    "pd.io.sql.read_sql(query, con = engine)"
   ]
  },
  {
   "cell_type": "code",
   "execution_count": 18,
   "metadata": {},
   "outputs": [],
   "source": [
    "# 2 способ - через подзапрос и оконную функцию\n",
    "query = ''' SELECT publisher, cnt_book\n",
    "            FROM\n",
    "            (SELECT publisher, COUNT(book_id) as cnt_book, \n",
    "            MAX(COUNT(book_id)) OVER() as max_cnt_book \n",
    "            FROM books LEFT JOIN publishers ON books.publisher_id = publishers.publisher_id\n",
    "            WHERE num_pages > 50\n",
    "            GROUP BY publisher) AS sub\n",
    "            WHERE cnt_book = max_cnt_book\n",
    "        '''"
   ]
  },
  {
   "cell_type": "code",
   "execution_count": 19,
   "metadata": {},
   "outputs": [
    {
     "data": {
      "text/html": [
       "<div>\n",
       "<style scoped>\n",
       "    .dataframe tbody tr th:only-of-type {\n",
       "        vertical-align: middle;\n",
       "    }\n",
       "\n",
       "    .dataframe tbody tr th {\n",
       "        vertical-align: top;\n",
       "    }\n",
       "\n",
       "    .dataframe thead th {\n",
       "        text-align: right;\n",
       "    }\n",
       "</style>\n",
       "<table border=\"1\" class=\"dataframe\">\n",
       "  <thead>\n",
       "    <tr style=\"text-align: right;\">\n",
       "      <th></th>\n",
       "      <th>publisher</th>\n",
       "      <th>cnt_book</th>\n",
       "    </tr>\n",
       "  </thead>\n",
       "  <tbody>\n",
       "    <tr>\n",
       "      <td>0</td>\n",
       "      <td>Penguin Books</td>\n",
       "      <td>42</td>\n",
       "    </tr>\n",
       "  </tbody>\n",
       "</table>\n",
       "</div>"
      ],
      "text/plain": [
       "       publisher  cnt_book\n",
       "0  Penguin Books        42"
      ]
     },
     "execution_count": 19,
     "metadata": {},
     "output_type": "execute_result"
    }
   ],
   "source": [
    "pd.io.sql.read_sql(query, con = engine)"
   ]
  },
  {
   "cell_type": "markdown",
   "metadata": {},
   "source": [
    "<a id='author'></a>\n",
    "### 2.4  Автор с самой высокой средней оценкой книг (книги с 50 и более оценками)"
   ]
  },
  {
   "cell_type": "code",
   "execution_count": 20,
   "metadata": {},
   "outputs": [],
   "source": [
    "# вывод топ-5 авторов, их средний рейтинг и количество оценок\n",
    "query = '''\n",
    "        SELECT author, \n",
    "        ROUND(AVG(avg_raiting), 2) AS avg_raiting_by_author, SUM(cnt) AS cnt_raiting\n",
    "        FROM\n",
    "        (SELECT author_id, title, AVG(rating) AS avg_raiting, COUNT(rating) AS cnt\n",
    "        FROM books LEFT JOIN ratings ON books.book_id = ratings.book_id \n",
    "        GROUP BY title, author_id\n",
    "        HAVING COUNT(rating_id) >= 50) AS sub\n",
    "        LEFT JOIN authors ON sub.author_id = authors.author_id\n",
    "        GROUP BY author\n",
    "        ORDER BY avg_raiting_by_author DESC\n",
    "        LIMIT 5\n",
    "        '''"
   ]
  },
  {
   "cell_type": "code",
   "execution_count": 21,
   "metadata": {
    "scrolled": true
   },
   "outputs": [
    {
     "data": {
      "text/html": [
       "<div>\n",
       "<style scoped>\n",
       "    .dataframe tbody tr th:only-of-type {\n",
       "        vertical-align: middle;\n",
       "    }\n",
       "\n",
       "    .dataframe tbody tr th {\n",
       "        vertical-align: top;\n",
       "    }\n",
       "\n",
       "    .dataframe thead th {\n",
       "        text-align: right;\n",
       "    }\n",
       "</style>\n",
       "<table border=\"1\" class=\"dataframe\">\n",
       "  <thead>\n",
       "    <tr style=\"text-align: right;\">\n",
       "      <th></th>\n",
       "      <th>author</th>\n",
       "      <th>avg_raiting_by_author</th>\n",
       "      <th>cnt_raiting</th>\n",
       "    </tr>\n",
       "  </thead>\n",
       "  <tbody>\n",
       "    <tr>\n",
       "      <td>0</td>\n",
       "      <td>J.K. Rowling/Mary GrandPré</td>\n",
       "      <td>4.28</td>\n",
       "      <td>310.0</td>\n",
       "    </tr>\n",
       "    <tr>\n",
       "      <td>1</td>\n",
       "      <td>Markus Zusak/Cao Xuân Việt Khương</td>\n",
       "      <td>4.26</td>\n",
       "      <td>53.0</td>\n",
       "    </tr>\n",
       "    <tr>\n",
       "      <td>2</td>\n",
       "      <td>J.R.R. Tolkien</td>\n",
       "      <td>4.26</td>\n",
       "      <td>162.0</td>\n",
       "    </tr>\n",
       "    <tr>\n",
       "      <td>3</td>\n",
       "      <td>Louisa May Alcott</td>\n",
       "      <td>4.19</td>\n",
       "      <td>52.0</td>\n",
       "    </tr>\n",
       "    <tr>\n",
       "      <td>4</td>\n",
       "      <td>Arthur Golden</td>\n",
       "      <td>4.11</td>\n",
       "      <td>56.0</td>\n",
       "    </tr>\n",
       "  </tbody>\n",
       "</table>\n",
       "</div>"
      ],
      "text/plain": [
       "                              author  avg_raiting_by_author  cnt_raiting\n",
       "0         J.K. Rowling/Mary GrandPré                   4.28        310.0\n",
       "1  Markus Zusak/Cao Xuân Việt Khương                   4.26         53.0\n",
       "2                     J.R.R. Tolkien                   4.26        162.0\n",
       "3                  Louisa May Alcott                   4.19         52.0\n",
       "4                      Arthur Golden                   4.11         56.0"
      ]
     },
     "execution_count": 21,
     "metadata": {},
     "output_type": "execute_result"
    }
   ],
   "source": [
    "pd.io.sql.read_sql(query, con = engine)"
   ]
  },
  {
   "cell_type": "markdown",
   "metadata": {},
   "source": [
    "<a id='avg_reviews'></a>\n",
    "### 2.5 Среднее количество обзоров от пользователей, которые поставили больше 50 оценок"
   ]
  },
  {
   "cell_type": "code",
   "execution_count": 22,
   "metadata": {},
   "outputs": [],
   "source": [
    "query = '''\n",
    "        SELECT ROUND(AVG(cnt_reviews)) AS avg_reviews\n",
    "        FROM\n",
    "        (\n",
    "        SELECT COUNT(review_id) AS cnt_reviews\n",
    "        FROM\n",
    "        (SELECT username \n",
    "        FROM ratings\n",
    "        GROUP BY username\n",
    "        HAVING COUNT(rating_id) > 50) AS sub\n",
    "        LEFT JOIN reviews ON sub.username = reviews.username\n",
    "        GROUP BY sub.username) AS sub_2\n",
    "        '''"
   ]
  },
  {
   "cell_type": "code",
   "execution_count": 23,
   "metadata": {},
   "outputs": [
    {
     "data": {
      "text/html": [
       "<div>\n",
       "<style scoped>\n",
       "    .dataframe tbody tr th:only-of-type {\n",
       "        vertical-align: middle;\n",
       "    }\n",
       "\n",
       "    .dataframe tbody tr th {\n",
       "        vertical-align: top;\n",
       "    }\n",
       "\n",
       "    .dataframe thead th {\n",
       "        text-align: right;\n",
       "    }\n",
       "</style>\n",
       "<table border=\"1\" class=\"dataframe\">\n",
       "  <thead>\n",
       "    <tr style=\"text-align: right;\">\n",
       "      <th></th>\n",
       "      <th>avg_reviews</th>\n",
       "    </tr>\n",
       "  </thead>\n",
       "  <tbody>\n",
       "    <tr>\n",
       "      <td>0</td>\n",
       "      <td>24.0</td>\n",
       "    </tr>\n",
       "  </tbody>\n",
       "</table>\n",
       "</div>"
      ],
      "text/plain": [
       "   avg_reviews\n",
       "0         24.0"
      ]
     },
     "execution_count": 23,
     "metadata": {},
     "output_type": "execute_result"
    }
   ],
   "source": [
    "pd.io.sql.read_sql(query, con = engine)"
   ]
  },
  {
   "cell_type": "markdown",
   "metadata": {},
   "source": [
    "<a id='total_conclusion'></a>\n",
    "## Общий вывод"
   ]
  },
  {
   "cell_type": "markdown",
   "metadata": {},
   "source": [
    "Подключились к базе данных PostgreSQL, ознакомились с содержимым 5 таблиц: `books`, `authors`, `publishers`, `ratings`, `reviews`.\n",
    "\n",
    "Анализ данных показал, что:\n",
    "1. Количество книг, выпущенных после 1 января 2000 года, составляет **821** штуку, это 82% от всех книг в базе\n",
    "2. Посчитали количество обзоров и среднюю оценку для каждой из книг (количество книг 999)\n",
    "3. Издательство, которое выпустило наибольшее число книг толще 50 страниц, это **Penguin Books** с 42 книгами (исключая брошюры)\n",
    "4. Автор с самой высокой средней оценкой книг - это **J.K. Rowling/Mary GrandPré** со средним рейтингом 4.28, составленным по 310 оценкам пользователей\n",
    "5. В среднем количество обзоров от пользователей, которые поставили больше 50 оценок, составляет **24 штуки**"
   ]
  }
 ],
 "metadata": {
  "ExecuteTimeLog": [
   {
    "duration": 601,
    "start_time": "2021-07-10T17:54:35.105Z"
   },
   {
    "duration": 60,
    "start_time": "2021-07-10T17:54:48.289Z"
   },
   {
    "duration": 406,
    "start_time": "2021-07-11T13:22:05.715Z"
   },
   {
    "duration": 877,
    "start_time": "2021-07-11T13:22:09.269Z"
   },
   {
    "duration": 43,
    "start_time": "2021-07-11T13:22:11.274Z"
   },
   {
    "duration": 398,
    "start_time": "2021-07-11T13:22:13.860Z"
   },
   {
    "duration": 7,
    "start_time": "2021-07-11T13:22:31.742Z"
   },
   {
    "duration": 542,
    "start_time": "2021-07-11T13:22:34.078Z"
   },
   {
    "duration": 6,
    "start_time": "2021-07-11T13:22:42.589Z"
   },
   {
    "duration": 264,
    "start_time": "2021-07-11T13:22:59.874Z"
   },
   {
    "duration": 68,
    "start_time": "2021-07-11T13:23:05.043Z"
   },
   {
    "duration": 65,
    "start_time": "2021-07-11T13:23:18.569Z"
   },
   {
    "duration": 64,
    "start_time": "2021-07-11T13:23:27.956Z"
   },
   {
    "duration": 66,
    "start_time": "2021-07-11T13:23:38.114Z"
   },
   {
    "duration": 70,
    "start_time": "2021-07-11T13:23:43.915Z"
   },
   {
    "duration": 3,
    "start_time": "2021-07-11T13:24:40.641Z"
   },
   {
    "duration": 63,
    "start_time": "2021-07-11T13:25:06.994Z"
   },
   {
    "duration": 4,
    "start_time": "2021-07-11T13:25:55.405Z"
   },
   {
    "duration": 101,
    "start_time": "2021-07-11T13:25:59.225Z"
   },
   {
    "duration": 4,
    "start_time": "2021-07-11T13:29:09.942Z"
   },
   {
    "duration": 65,
    "start_time": "2021-07-11T13:29:15.351Z"
   },
   {
    "duration": 3,
    "start_time": "2021-07-11T13:30:01.067Z"
   },
   {
    "duration": 65,
    "start_time": "2021-07-11T13:30:05.146Z"
   },
   {
    "duration": 3,
    "start_time": "2021-07-11T13:30:32.751Z"
   },
   {
    "duration": 68,
    "start_time": "2021-07-11T13:30:37.544Z"
   },
   {
    "duration": 3,
    "start_time": "2021-07-11T13:31:29.608Z"
   },
   {
    "duration": 66,
    "start_time": "2021-07-11T13:31:36.021Z"
   },
   {
    "duration": 4,
    "start_time": "2021-07-11T13:31:49.484Z"
   },
   {
    "duration": 66,
    "start_time": "2021-07-11T13:31:51.607Z"
   },
   {
    "duration": 3,
    "start_time": "2021-07-11T13:34:35.197Z"
   },
   {
    "duration": 67,
    "start_time": "2021-07-11T13:34:37.050Z"
   },
   {
    "duration": 3,
    "start_time": "2021-07-11T13:34:51.049Z"
   },
   {
    "duration": 68,
    "start_time": "2021-07-11T13:34:53.222Z"
   },
   {
    "duration": 909,
    "start_time": "2021-07-11T13:42:16.914Z"
   },
   {
    "duration": 37,
    "start_time": "2021-07-11T13:42:17.826Z"
   },
   {
    "duration": 230,
    "start_time": "2021-07-11T13:42:17.866Z"
   },
   {
    "duration": 63,
    "start_time": "2021-07-11T13:42:18.099Z"
   },
   {
    "duration": 63,
    "start_time": "2021-07-11T13:42:18.165Z"
   },
   {
    "duration": 65,
    "start_time": "2021-07-11T13:42:18.230Z"
   },
   {
    "duration": 66,
    "start_time": "2021-07-11T13:42:18.297Z"
   },
   {
    "duration": 4,
    "start_time": "2021-07-11T13:42:18.365Z"
   },
   {
    "duration": 65,
    "start_time": "2021-07-11T13:42:18.374Z"
   },
   {
    "duration": 4,
    "start_time": "2021-07-11T13:42:18.442Z"
   },
   {
    "duration": 104,
    "start_time": "2021-07-11T13:42:18.449Z"
   },
   {
    "duration": 3,
    "start_time": "2021-07-11T13:42:18.556Z"
   },
   {
    "duration": 68,
    "start_time": "2021-07-11T13:42:18.562Z"
   },
   {
    "duration": 3,
    "start_time": "2021-07-11T13:42:18.632Z"
   },
   {
    "duration": 75,
    "start_time": "2021-07-11T13:42:18.637Z"
   },
   {
    "duration": 3,
    "start_time": "2021-07-11T13:42:18.714Z"
   },
   {
    "duration": 83,
    "start_time": "2021-07-11T13:42:18.720Z"
   },
   {
    "duration": 4,
    "start_time": "2021-07-11T13:42:18.806Z"
   },
   {
    "duration": 75,
    "start_time": "2021-07-11T13:42:18.812Z"
   },
   {
    "duration": 817,
    "start_time": "2021-07-12T08:13:44.559Z"
   },
   {
    "duration": 50,
    "start_time": "2021-07-12T08:13:45.379Z"
   },
   {
    "duration": 206,
    "start_time": "2021-07-12T08:13:45.432Z"
   },
   {
    "duration": 55,
    "start_time": "2021-07-12T08:13:45.641Z"
   },
   {
    "duration": 56,
    "start_time": "2021-07-12T08:13:45.698Z"
   },
   {
    "duration": 58,
    "start_time": "2021-07-12T08:13:45.756Z"
   },
   {
    "duration": 58,
    "start_time": "2021-07-12T08:13:45.816Z"
   },
   {
    "duration": 4,
    "start_time": "2021-07-12T08:13:45.877Z"
   },
   {
    "duration": 61,
    "start_time": "2021-07-12T08:13:45.883Z"
   },
   {
    "duration": 4,
    "start_time": "2021-07-12T08:13:45.946Z"
   },
   {
    "duration": 98,
    "start_time": "2021-07-12T08:13:45.952Z"
   },
   {
    "duration": 3,
    "start_time": "2021-07-12T08:13:46.052Z"
   },
   {
    "duration": 69,
    "start_time": "2021-07-12T08:13:46.058Z"
   },
   {
    "duration": 4,
    "start_time": "2021-07-12T08:13:46.129Z"
   },
   {
    "duration": 71,
    "start_time": "2021-07-12T08:13:46.135Z"
   },
   {
    "duration": 3,
    "start_time": "2021-07-12T08:13:46.209Z"
   },
   {
    "duration": 66,
    "start_time": "2021-07-12T08:13:46.214Z"
   },
   {
    "duration": 3,
    "start_time": "2021-07-12T08:13:46.282Z"
   },
   {
    "duration": 64,
    "start_time": "2021-07-12T08:13:46.287Z"
   },
   {
    "duration": 4,
    "start_time": "2021-07-12T08:17:35.648Z"
   },
   {
    "duration": 87,
    "start_time": "2021-07-12T08:17:35.800Z"
   },
   {
    "duration": 86,
    "start_time": "2021-07-12T08:17:48.526Z"
   },
   {
    "duration": 749,
    "start_time": "2021-07-12T08:25:48.392Z"
   },
   {
    "duration": 36,
    "start_time": "2021-07-12T08:25:49.143Z"
   },
   {
    "duration": 266,
    "start_time": "2021-07-12T08:25:49.181Z"
   },
   {
    "duration": 72,
    "start_time": "2021-07-12T08:25:49.449Z"
   },
   {
    "duration": 72,
    "start_time": "2021-07-12T08:25:49.523Z"
   },
   {
    "duration": 73,
    "start_time": "2021-07-12T08:25:49.597Z"
   },
   {
    "duration": 73,
    "start_time": "2021-07-12T08:25:49.671Z"
   },
   {
    "duration": 3,
    "start_time": "2021-07-12T08:25:49.746Z"
   },
   {
    "duration": 72,
    "start_time": "2021-07-12T08:25:53.533Z"
   },
   {
    "duration": 2,
    "start_time": "2021-07-12T11:22:19.597Z"
   },
   {
    "duration": 391,
    "start_time": "2021-07-12T11:22:24.743Z"
   },
   {
    "duration": 2,
    "start_time": "2021-07-12T11:22:44.347Z"
   },
   {
    "duration": 70,
    "start_time": "2021-07-12T11:22:46.359Z"
   },
   {
    "duration": 3,
    "start_time": "2021-07-12T11:23:43.356Z"
   },
   {
    "duration": 71,
    "start_time": "2021-07-12T11:23:45.143Z"
   },
   {
    "duration": 2,
    "start_time": "2021-07-12T11:26:54.296Z"
   },
   {
    "duration": 70,
    "start_time": "2021-07-12T11:26:58.376Z"
   },
   {
    "duration": 2,
    "start_time": "2021-07-12T11:28:29.500Z"
   },
   {
    "duration": 2,
    "start_time": "2021-07-12T11:28:34.684Z"
   },
   {
    "duration": 70,
    "start_time": "2021-07-12T11:28:36.741Z"
   },
   {
    "duration": 2,
    "start_time": "2021-07-12T11:28:57.077Z"
   },
   {
    "duration": 69,
    "start_time": "2021-07-12T11:28:58.927Z"
   },
   {
    "duration": 2,
    "start_time": "2021-07-12T11:35:49.218Z"
   },
   {
    "duration": 97,
    "start_time": "2021-07-12T11:35:52.711Z"
   },
   {
    "duration": 93,
    "start_time": "2021-07-12T11:36:05.478Z"
   },
   {
    "duration": 2,
    "start_time": "2021-07-12T11:41:07.773Z"
   },
   {
    "duration": 102,
    "start_time": "2021-07-12T11:41:09.773Z"
   },
   {
    "duration": 3,
    "start_time": "2021-07-12T11:45:17.951Z"
   },
   {
    "duration": 667,
    "start_time": "2021-07-12T11:45:19.828Z"
   },
   {
    "duration": 3,
    "start_time": "2021-07-12T11:45:34.375Z"
   },
   {
    "duration": 491,
    "start_time": "2021-07-12T11:45:35.974Z"
   },
   {
    "duration": 2,
    "start_time": "2021-07-12T11:45:46.163Z"
   },
   {
    "duration": 74,
    "start_time": "2021-07-12T11:45:47.976Z"
   },
   {
    "duration": 69,
    "start_time": "2021-07-12T11:45:52.878Z"
   },
   {
    "duration": 3,
    "start_time": "2021-07-12T11:46:16.717Z"
   },
   {
    "duration": 391,
    "start_time": "2021-07-12T11:46:19.021Z"
   },
   {
    "duration": 2,
    "start_time": "2021-07-12T11:46:44.059Z"
   },
   {
    "duration": 85,
    "start_time": "2021-07-12T11:46:46.088Z"
   },
   {
    "duration": 3,
    "start_time": "2021-07-12T11:49:16.696Z"
   },
   {
    "duration": 401,
    "start_time": "2021-07-12T11:49:20.519Z"
   },
   {
    "duration": 3,
    "start_time": "2021-07-12T11:50:17.028Z"
   },
   {
    "duration": 100,
    "start_time": "2021-07-12T11:50:19.384Z"
   },
   {
    "duration": 95,
    "start_time": "2021-07-12T11:50:29.906Z"
   },
   {
    "duration": 3,
    "start_time": "2021-07-12T11:50:52.487Z"
   },
   {
    "duration": 106,
    "start_time": "2021-07-12T11:50:54.750Z"
   },
   {
    "duration": 7152,
    "start_time": "2021-07-12T11:50:58.088Z"
   },
   {
    "duration": 96,
    "start_time": "2021-07-12T11:51:17.242Z"
   },
   {
    "duration": 2,
    "start_time": "2021-07-12T11:52:18.176Z"
   },
   {
    "duration": 101,
    "start_time": "2021-07-12T11:52:21.248Z"
   },
   {
    "duration": 96,
    "start_time": "2021-07-12T11:52:26.765Z"
   },
   {
    "duration": 3,
    "start_time": "2021-07-12T11:59:02.758Z"
   },
   {
    "duration": 2,
    "start_time": "2021-07-12T11:59:08.246Z"
   },
   {
    "duration": 75,
    "start_time": "2021-07-12T11:59:10.106Z"
   },
   {
    "duration": 3,
    "start_time": "2021-07-12T12:00:16.767Z"
   },
   {
    "duration": 328,
    "start_time": "2021-07-12T12:00:18.751Z"
   },
   {
    "duration": 3,
    "start_time": "2021-07-12T12:00:58.426Z"
   },
   {
    "duration": 361,
    "start_time": "2021-07-12T12:01:01.181Z"
   },
   {
    "duration": 3,
    "start_time": "2021-07-12T12:01:40.141Z"
   },
   {
    "duration": 76,
    "start_time": "2021-07-12T12:01:42.652Z"
   },
   {
    "duration": 2,
    "start_time": "2021-07-12T12:03:12.816Z"
   },
   {
    "duration": 338,
    "start_time": "2021-07-12T12:03:18.165Z"
   },
   {
    "duration": 2,
    "start_time": "2021-07-12T12:03:34.477Z"
   },
   {
    "duration": 85,
    "start_time": "2021-07-12T12:03:36.469Z"
   },
   {
    "duration": 3,
    "start_time": "2021-07-12T12:04:43.749Z"
   },
   {
    "duration": 344,
    "start_time": "2021-07-12T12:04:47.987Z"
   },
   {
    "duration": 3,
    "start_time": "2021-07-12T12:05:02.016Z"
   },
   {
    "duration": 321,
    "start_time": "2021-07-12T12:05:04.039Z"
   },
   {
    "duration": 2,
    "start_time": "2021-07-12T12:05:10.892Z"
   },
   {
    "duration": 319,
    "start_time": "2021-07-12T12:05:13.507Z"
   },
   {
    "duration": 4,
    "start_time": "2021-07-12T12:06:04.498Z"
   },
   {
    "duration": 357,
    "start_time": "2021-07-12T12:06:06.874Z"
   },
   {
    "duration": 3,
    "start_time": "2021-07-12T12:07:25.200Z"
   },
   {
    "duration": 326,
    "start_time": "2021-07-12T12:07:27.739Z"
   },
   {
    "duration": 2,
    "start_time": "2021-07-12T12:07:54.935Z"
   },
   {
    "duration": 85,
    "start_time": "2021-07-12T12:07:56.543Z"
   },
   {
    "duration": 3,
    "start_time": "2021-07-12T12:08:26.371Z"
   },
   {
    "duration": 319,
    "start_time": "2021-07-12T12:08:27.896Z"
   },
   {
    "duration": 2,
    "start_time": "2021-07-12T12:08:35.304Z"
   },
   {
    "duration": 71,
    "start_time": "2021-07-12T12:08:37.168Z"
   },
   {
    "duration": 2,
    "start_time": "2021-07-12T12:08:45.294Z"
   },
   {
    "duration": 70,
    "start_time": "2021-07-12T12:08:47.157Z"
   },
   {
    "duration": 3,
    "start_time": "2021-07-12T12:08:51.436Z"
   },
   {
    "duration": 71,
    "start_time": "2021-07-12T12:08:53.188Z"
   },
   {
    "duration": 2,
    "start_time": "2021-07-12T12:09:18.257Z"
   },
   {
    "duration": 327,
    "start_time": "2021-07-12T12:09:19.718Z"
   },
   {
    "duration": 2,
    "start_time": "2021-07-12T12:09:24.190Z"
   },
   {
    "duration": 316,
    "start_time": "2021-07-12T12:09:26.087Z"
   },
   {
    "duration": 2,
    "start_time": "2021-07-12T12:09:46.662Z"
   },
   {
    "duration": 73,
    "start_time": "2021-07-12T12:09:48.522Z"
   },
   {
    "duration": 3,
    "start_time": "2021-07-12T12:10:22.945Z"
   },
   {
    "duration": 3,
    "start_time": "2021-07-12T12:10:32.235Z"
   },
   {
    "duration": 72,
    "start_time": "2021-07-12T12:10:33.874Z"
   },
   {
    "duration": 2,
    "start_time": "2021-07-12T12:13:29.973Z"
   },
   {
    "duration": 337,
    "start_time": "2021-07-12T12:13:31.302Z"
   },
   {
    "duration": 3,
    "start_time": "2021-07-12T12:13:40.564Z"
   },
   {
    "duration": 347,
    "start_time": "2021-07-12T12:13:42.800Z"
   },
   {
    "duration": 2,
    "start_time": "2021-07-12T12:13:56.584Z"
   },
   {
    "duration": 74,
    "start_time": "2021-07-12T12:13:58.418Z"
   },
   {
    "duration": 3,
    "start_time": "2021-07-12T12:14:34.671Z"
   },
   {
    "duration": 393,
    "start_time": "2021-07-12T12:14:36.689Z"
   },
   {
    "duration": 2,
    "start_time": "2021-07-12T12:14:45.610Z"
   },
   {
    "duration": 72,
    "start_time": "2021-07-12T12:14:47.495Z"
   },
   {
    "duration": 2,
    "start_time": "2021-07-12T12:18:19.168Z"
   },
   {
    "duration": 337,
    "start_time": "2021-07-12T12:18:21.361Z"
   },
   {
    "duration": 3,
    "start_time": "2021-07-12T12:18:38.979Z"
   },
   {
    "duration": 72,
    "start_time": "2021-07-12T12:18:41.015Z"
   },
   {
    "duration": 2,
    "start_time": "2021-07-12T12:18:50.205Z"
   },
   {
    "duration": 72,
    "start_time": "2021-07-12T12:18:52.141Z"
   },
   {
    "duration": 3,
    "start_time": "2021-07-12T12:19:52.504Z"
   },
   {
    "duration": 95,
    "start_time": "2021-07-12T12:19:55.000Z"
   },
   {
    "duration": 2,
    "start_time": "2021-07-12T12:21:33.301Z"
   },
   {
    "duration": 80,
    "start_time": "2021-07-12T12:21:35.195Z"
   },
   {
    "duration": 159,
    "start_time": "2021-07-12T12:27:39.753Z"
   },
   {
    "duration": 634,
    "start_time": "2021-07-12T12:27:46.874Z"
   },
   {
    "duration": 24,
    "start_time": "2021-07-12T12:27:47.510Z"
   },
   {
    "duration": 264,
    "start_time": "2021-07-12T12:27:47.536Z"
   },
   {
    "duration": 73,
    "start_time": "2021-07-12T12:27:47.802Z"
   },
   {
    "duration": 72,
    "start_time": "2021-07-12T12:27:47.877Z"
   },
   {
    "duration": 74,
    "start_time": "2021-07-12T12:27:47.951Z"
   },
   {
    "duration": 73,
    "start_time": "2021-07-12T12:27:48.026Z"
   },
   {
    "duration": 2,
    "start_time": "2021-07-12T12:27:48.102Z"
   },
   {
    "duration": 75,
    "start_time": "2021-07-12T12:27:48.106Z"
   },
   {
    "duration": 2,
    "start_time": "2021-07-12T12:27:48.183Z"
   },
   {
    "duration": 79,
    "start_time": "2021-07-12T12:27:48.187Z"
   },
   {
    "duration": 2,
    "start_time": "2021-07-12T12:27:48.268Z"
   },
   {
    "duration": 110,
    "start_time": "2021-07-12T12:27:48.271Z"
   },
   {
    "duration": 90,
    "start_time": "2021-07-12T12:27:48.383Z"
   },
   {
    "duration": 210,
    "start_time": "2021-07-12T12:27:48.475Z"
   },
   {
    "duration": 1243,
    "start_time": "2021-07-12T12:27:47.444Z"
   },
   {
    "duration": 1241,
    "start_time": "2021-07-12T12:27:47.446Z"
   },
   {
    "duration": 1239,
    "start_time": "2021-07-12T12:27:47.449Z"
   },
   {
    "duration": 1239,
    "start_time": "2021-07-12T12:27:47.450Z"
   },
   {
    "duration": 1237,
    "start_time": "2021-07-12T12:27:47.453Z"
   },
   {
    "duration": 1236,
    "start_time": "2021-07-12T12:27:47.455Z"
   },
   {
    "duration": 1230,
    "start_time": "2021-07-12T12:27:47.462Z"
   },
   {
    "duration": 1227,
    "start_time": "2021-07-12T12:27:47.465Z"
   },
   {
    "duration": 180,
    "start_time": "2021-07-12T12:28:05.840Z"
   },
   {
    "duration": 646,
    "start_time": "2021-07-12T12:31:05.164Z"
   },
   {
    "duration": 426,
    "start_time": "2021-07-12T12:31:20.205Z"
   },
   {
    "duration": 102,
    "start_time": "2021-07-12T12:31:32.421Z"
   },
   {
    "duration": 645,
    "start_time": "2021-07-12T12:37:19.618Z"
   },
   {
    "duration": 24,
    "start_time": "2021-07-12T12:37:20.265Z"
   },
   {
    "duration": 267,
    "start_time": "2021-07-12T12:37:20.290Z"
   },
   {
    "duration": 74,
    "start_time": "2021-07-12T12:37:20.559Z"
   },
   {
    "duration": 74,
    "start_time": "2021-07-12T12:37:20.635Z"
   },
   {
    "duration": 74,
    "start_time": "2021-07-12T12:37:20.710Z"
   },
   {
    "duration": 75,
    "start_time": "2021-07-12T12:37:20.786Z"
   },
   {
    "duration": 3,
    "start_time": "2021-07-12T12:37:20.863Z"
   },
   {
    "duration": 77,
    "start_time": "2021-07-12T12:37:20.868Z"
   },
   {
    "duration": 3,
    "start_time": "2021-07-12T12:37:20.946Z"
   },
   {
    "duration": 79,
    "start_time": "2021-07-12T12:37:20.950Z"
   },
   {
    "duration": 2,
    "start_time": "2021-07-12T12:37:21.031Z"
   },
   {
    "duration": 113,
    "start_time": "2021-07-12T12:37:21.034Z"
   },
   {
    "duration": 89,
    "start_time": "2021-07-12T12:37:21.149Z"
   },
   {
    "duration": 87,
    "start_time": "2021-07-12T12:37:21.240Z"
   },
   {
    "duration": 2,
    "start_time": "2021-07-12T12:37:21.329Z"
   },
   {
    "duration": 84,
    "start_time": "2021-07-12T12:37:21.333Z"
   },
   {
    "duration": 2,
    "start_time": "2021-07-12T12:37:21.418Z"
   },
   {
    "duration": 77,
    "start_time": "2021-07-12T12:37:21.422Z"
   },
   {
    "duration": 2,
    "start_time": "2021-07-12T12:37:21.501Z"
   },
   {
    "duration": 85,
    "start_time": "2021-07-12T12:37:21.504Z"
   },
   {
    "duration": 2,
    "start_time": "2021-07-12T12:37:21.590Z"
   },
   {
    "duration": 77,
    "start_time": "2021-07-12T12:37:21.595Z"
   },
   {
    "duration": 597,
    "start_time": "2021-07-19T09:21:03.759Z"
   },
   {
    "duration": 27,
    "start_time": "2021-07-19T09:21:05.844Z"
   },
   {
    "duration": 249,
    "start_time": "2021-07-19T09:21:08.173Z"
   },
   {
    "duration": 101,
    "start_time": "2021-07-19T09:21:10.932Z"
   },
   {
    "duration": 3,
    "start_time": "2021-07-19T09:24:11.397Z"
   },
   {
    "duration": 306,
    "start_time": "2021-07-19T09:24:24.757Z"
   },
   {
    "duration": 168,
    "start_time": "2021-07-19T09:24:31.822Z"
   },
   {
    "duration": 148,
    "start_time": "2021-07-19T09:26:01.323Z"
   },
   {
    "duration": 137,
    "start_time": "2021-07-19T09:26:14.652Z"
   },
   {
    "duration": 191,
    "start_time": "2021-07-19T09:26:20.192Z"
   },
   {
    "duration": 184,
    "start_time": "2021-07-19T09:26:24.427Z"
   }
  ],
  "kernelspec": {
   "display_name": "Python 3",
   "language": "python",
   "name": "python3"
  },
  "language_info": {
   "codemirror_mode": {
    "name": "ipython",
    "version": 3
   },
   "file_extension": ".py",
   "mimetype": "text/x-python",
   "name": "python",
   "nbconvert_exporter": "python",
   "pygments_lexer": "ipython3",
   "version": "3.7.8"
  },
  "toc": {
   "base_numbering": 1,
   "nav_menu": {},
   "number_sections": false,
   "sideBar": true,
   "skip_h1_title": true,
   "title_cell": "Table of Contents",
   "title_sidebar": "Contents",
   "toc_cell": false,
   "toc_position": {
    "height": "calc(100% - 180px)",
    "left": "10px",
    "top": "150px",
    "width": "165px"
   },
   "toc_section_display": true,
   "toc_window_display": true
  }
 },
 "nbformat": 4,
 "nbformat_minor": 2
}

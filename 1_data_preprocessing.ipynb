{
 "cells": [
  {
   "cell_type": "markdown",
   "metadata": {},
   "source": [
    "## Исследование надёжности заёмщиков\n",
    "\n",
    "Заказчик — кредитный отдел банка. Нужно разобраться, влияет ли семейное положение и количество детей клиента на факт погашения кредита в срок. Входные данные от банка — статистика о платёжеспособности клиентов.\n",
    "\n",
    "Результаты исследования будут учтены при построении модели **кредитного скоринга** — специальной системы, которая оценивает способность потенциального заёмщика вернуть кредит банку."
   ]
  },
  {
   "cell_type": "markdown",
   "metadata": {},
   "source": [
    "### Шаг 1. Откройте файл с данными и изучите общую информацию. "
   ]
  },
  {
   "cell_type": "code",
   "execution_count": 1,
   "metadata": {},
   "outputs": [],
   "source": [
    "import pandas as pd\n",
    "import numpy as np"
   ]
  },
  {
   "cell_type": "code",
   "execution_count": 2,
   "metadata": {},
   "outputs": [],
   "source": [
    "from pymystem3 import Mystem\n",
    "m = Mystem()"
   ]
  },
  {
   "cell_type": "code",
   "execution_count": 3,
   "metadata": {
    "scrolled": true
   },
   "outputs": [],
   "source": [
    "pd.set_option('display.float_format', '{:.2f}'.format)\n",
    "data = pd.read_csv('/datasets/data.csv')"
   ]
  },
  {
   "cell_type": "code",
   "execution_count": 4,
   "metadata": {},
   "outputs": [
    {
     "name": "stdout",
     "output_type": "stream",
     "text": [
      "<class 'pandas.core.frame.DataFrame'>\n",
      "RangeIndex: 21525 entries, 0 to 21524\n",
      "Data columns (total 12 columns):\n",
      "children            21525 non-null int64\n",
      "days_employed       19351 non-null float64\n",
      "dob_years           21525 non-null int64\n",
      "education           21525 non-null object\n",
      "education_id        21525 non-null int64\n",
      "family_status       21525 non-null object\n",
      "family_status_id    21525 non-null int64\n",
      "gender              21525 non-null object\n",
      "income_type         21525 non-null object\n",
      "debt                21525 non-null int64\n",
      "total_income        19351 non-null float64\n",
      "purpose             21525 non-null object\n",
      "dtypes: float64(2), int64(5), object(5)\n",
      "memory usage: 2.0+ MB\n"
     ]
    }
   ],
   "source": [
    "data.info()"
   ]
  },
  {
   "cell_type": "code",
   "execution_count": 5,
   "metadata": {},
   "outputs": [
    {
     "data": {
      "text/html": [
       "<div>\n",
       "<style scoped>\n",
       "    .dataframe tbody tr th:only-of-type {\n",
       "        vertical-align: middle;\n",
       "    }\n",
       "\n",
       "    .dataframe tbody tr th {\n",
       "        vertical-align: top;\n",
       "    }\n",
       "\n",
       "    .dataframe thead th {\n",
       "        text-align: right;\n",
       "    }\n",
       "</style>\n",
       "<table border=\"1\" class=\"dataframe\">\n",
       "  <thead>\n",
       "    <tr style=\"text-align: right;\">\n",
       "      <th></th>\n",
       "      <th>children</th>\n",
       "      <th>days_employed</th>\n",
       "      <th>dob_years</th>\n",
       "      <th>education</th>\n",
       "      <th>education_id</th>\n",
       "      <th>family_status</th>\n",
       "      <th>family_status_id</th>\n",
       "      <th>gender</th>\n",
       "      <th>income_type</th>\n",
       "      <th>debt</th>\n",
       "      <th>total_income</th>\n",
       "      <th>purpose</th>\n",
       "    </tr>\n",
       "  </thead>\n",
       "  <tbody>\n",
       "    <tr>\n",
       "      <td>0</td>\n",
       "      <td>1</td>\n",
       "      <td>-8437.67</td>\n",
       "      <td>42</td>\n",
       "      <td>высшее</td>\n",
       "      <td>0</td>\n",
       "      <td>женат / замужем</td>\n",
       "      <td>0</td>\n",
       "      <td>F</td>\n",
       "      <td>сотрудник</td>\n",
       "      <td>0</td>\n",
       "      <td>253875.64</td>\n",
       "      <td>покупка жилья</td>\n",
       "    </tr>\n",
       "    <tr>\n",
       "      <td>1</td>\n",
       "      <td>1</td>\n",
       "      <td>-4024.80</td>\n",
       "      <td>36</td>\n",
       "      <td>среднее</td>\n",
       "      <td>1</td>\n",
       "      <td>женат / замужем</td>\n",
       "      <td>0</td>\n",
       "      <td>F</td>\n",
       "      <td>сотрудник</td>\n",
       "      <td>0</td>\n",
       "      <td>112080.01</td>\n",
       "      <td>приобретение автомобиля</td>\n",
       "    </tr>\n",
       "    <tr>\n",
       "      <td>2</td>\n",
       "      <td>0</td>\n",
       "      <td>-5623.42</td>\n",
       "      <td>33</td>\n",
       "      <td>Среднее</td>\n",
       "      <td>1</td>\n",
       "      <td>женат / замужем</td>\n",
       "      <td>0</td>\n",
       "      <td>M</td>\n",
       "      <td>сотрудник</td>\n",
       "      <td>0</td>\n",
       "      <td>145885.95</td>\n",
       "      <td>покупка жилья</td>\n",
       "    </tr>\n",
       "    <tr>\n",
       "      <td>3</td>\n",
       "      <td>3</td>\n",
       "      <td>-4124.75</td>\n",
       "      <td>32</td>\n",
       "      <td>среднее</td>\n",
       "      <td>1</td>\n",
       "      <td>женат / замужем</td>\n",
       "      <td>0</td>\n",
       "      <td>M</td>\n",
       "      <td>сотрудник</td>\n",
       "      <td>0</td>\n",
       "      <td>267628.55</td>\n",
       "      <td>дополнительное образование</td>\n",
       "    </tr>\n",
       "    <tr>\n",
       "      <td>4</td>\n",
       "      <td>0</td>\n",
       "      <td>340266.07</td>\n",
       "      <td>53</td>\n",
       "      <td>среднее</td>\n",
       "      <td>1</td>\n",
       "      <td>гражданский брак</td>\n",
       "      <td>1</td>\n",
       "      <td>F</td>\n",
       "      <td>пенсионер</td>\n",
       "      <td>0</td>\n",
       "      <td>158616.08</td>\n",
       "      <td>сыграть свадьбу</td>\n",
       "    </tr>\n",
       "  </tbody>\n",
       "</table>\n",
       "</div>"
      ],
      "text/plain": [
       "   children  days_employed  dob_years education  education_id  \\\n",
       "0         1       -8437.67         42    высшее             0   \n",
       "1         1       -4024.80         36   среднее             1   \n",
       "2         0       -5623.42         33   Среднее             1   \n",
       "3         3       -4124.75         32   среднее             1   \n",
       "4         0      340266.07         53   среднее             1   \n",
       "\n",
       "      family_status  family_status_id gender income_type  debt  total_income  \\\n",
       "0   женат / замужем                 0      F   сотрудник     0     253875.64   \n",
       "1   женат / замужем                 0      F   сотрудник     0     112080.01   \n",
       "2   женат / замужем                 0      M   сотрудник     0     145885.95   \n",
       "3   женат / замужем                 0      M   сотрудник     0     267628.55   \n",
       "4  гражданский брак                 1      F   пенсионер     0     158616.08   \n",
       "\n",
       "                      purpose  \n",
       "0               покупка жилья  \n",
       "1     приобретение автомобиля  \n",
       "2               покупка жилья  \n",
       "3  дополнительное образование  \n",
       "4             сыграть свадьбу  "
      ]
     },
     "execution_count": 5,
     "metadata": {},
     "output_type": "execute_result"
    }
   ],
   "source": [
    "data.head()"
   ]
  },
  {
   "cell_type": "code",
   "execution_count": 6,
   "metadata": {},
   "outputs": [
    {
     "data": {
      "text/html": [
       "<div>\n",
       "<style scoped>\n",
       "    .dataframe tbody tr th:only-of-type {\n",
       "        vertical-align: middle;\n",
       "    }\n",
       "\n",
       "    .dataframe tbody tr th {\n",
       "        vertical-align: top;\n",
       "    }\n",
       "\n",
       "    .dataframe thead th {\n",
       "        text-align: right;\n",
       "    }\n",
       "</style>\n",
       "<table border=\"1\" class=\"dataframe\">\n",
       "  <thead>\n",
       "    <tr style=\"text-align: right;\">\n",
       "      <th></th>\n",
       "      <th>children</th>\n",
       "      <th>days_employed</th>\n",
       "      <th>dob_years</th>\n",
       "      <th>education_id</th>\n",
       "      <th>family_status_id</th>\n",
       "      <th>debt</th>\n",
       "      <th>total_income</th>\n",
       "    </tr>\n",
       "  </thead>\n",
       "  <tbody>\n",
       "    <tr>\n",
       "      <td>count</td>\n",
       "      <td>21525.00</td>\n",
       "      <td>19351.00</td>\n",
       "      <td>21525.00</td>\n",
       "      <td>21525.00</td>\n",
       "      <td>21525.00</td>\n",
       "      <td>21525.00</td>\n",
       "      <td>19351.00</td>\n",
       "    </tr>\n",
       "    <tr>\n",
       "      <td>mean</td>\n",
       "      <td>0.54</td>\n",
       "      <td>63046.50</td>\n",
       "      <td>43.29</td>\n",
       "      <td>0.82</td>\n",
       "      <td>0.97</td>\n",
       "      <td>0.08</td>\n",
       "      <td>167422.30</td>\n",
       "    </tr>\n",
       "    <tr>\n",
       "      <td>std</td>\n",
       "      <td>1.38</td>\n",
       "      <td>140827.31</td>\n",
       "      <td>12.57</td>\n",
       "      <td>0.55</td>\n",
       "      <td>1.42</td>\n",
       "      <td>0.27</td>\n",
       "      <td>102971.57</td>\n",
       "    </tr>\n",
       "    <tr>\n",
       "      <td>min</td>\n",
       "      <td>-1.00</td>\n",
       "      <td>-18388.95</td>\n",
       "      <td>0.00</td>\n",
       "      <td>0.00</td>\n",
       "      <td>0.00</td>\n",
       "      <td>0.00</td>\n",
       "      <td>20667.26</td>\n",
       "    </tr>\n",
       "    <tr>\n",
       "      <td>25%</td>\n",
       "      <td>0.00</td>\n",
       "      <td>-2747.42</td>\n",
       "      <td>33.00</td>\n",
       "      <td>1.00</td>\n",
       "      <td>0.00</td>\n",
       "      <td>0.00</td>\n",
       "      <td>103053.15</td>\n",
       "    </tr>\n",
       "    <tr>\n",
       "      <td>50%</td>\n",
       "      <td>0.00</td>\n",
       "      <td>-1203.37</td>\n",
       "      <td>42.00</td>\n",
       "      <td>1.00</td>\n",
       "      <td>0.00</td>\n",
       "      <td>0.00</td>\n",
       "      <td>145017.94</td>\n",
       "    </tr>\n",
       "    <tr>\n",
       "      <td>75%</td>\n",
       "      <td>1.00</td>\n",
       "      <td>-291.10</td>\n",
       "      <td>53.00</td>\n",
       "      <td>1.00</td>\n",
       "      <td>1.00</td>\n",
       "      <td>0.00</td>\n",
       "      <td>203435.07</td>\n",
       "    </tr>\n",
       "    <tr>\n",
       "      <td>max</td>\n",
       "      <td>20.00</td>\n",
       "      <td>401755.40</td>\n",
       "      <td>75.00</td>\n",
       "      <td>4.00</td>\n",
       "      <td>4.00</td>\n",
       "      <td>1.00</td>\n",
       "      <td>2265604.03</td>\n",
       "    </tr>\n",
       "  </tbody>\n",
       "</table>\n",
       "</div>"
      ],
      "text/plain": [
       "       children  days_employed  dob_years  education_id  family_status_id  \\\n",
       "count  21525.00       19351.00   21525.00      21525.00          21525.00   \n",
       "mean       0.54       63046.50      43.29          0.82              0.97   \n",
       "std        1.38      140827.31      12.57          0.55              1.42   \n",
       "min       -1.00      -18388.95       0.00          0.00              0.00   \n",
       "25%        0.00       -2747.42      33.00          1.00              0.00   \n",
       "50%        0.00       -1203.37      42.00          1.00              0.00   \n",
       "75%        1.00        -291.10      53.00          1.00              1.00   \n",
       "max       20.00      401755.40      75.00          4.00              4.00   \n",
       "\n",
       "          debt  total_income  \n",
       "count 21525.00      19351.00  \n",
       "mean      0.08     167422.30  \n",
       "std       0.27     102971.57  \n",
       "min       0.00      20667.26  \n",
       "25%       0.00     103053.15  \n",
       "50%       0.00     145017.94  \n",
       "75%       0.00     203435.07  \n",
       "max       1.00    2265604.03  "
      ]
     },
     "execution_count": 6,
     "metadata": {},
     "output_type": "execute_result"
    }
   ],
   "source": [
    "data.describe()"
   ]
  },
  {
   "cell_type": "code",
   "execution_count": 7,
   "metadata": {},
   "outputs": [
    {
     "data": {
      "text/plain": [
       "54"
      ]
     },
     "execution_count": 7,
     "metadata": {},
     "output_type": "execute_result"
    }
   ],
   "source": [
    "data.duplicated().sum()"
   ]
  },
  {
   "cell_type": "markdown",
   "metadata": {},
   "source": [
    "### Вывод"
   ]
  },
  {
   "cell_type": "markdown",
   "metadata": {},
   "source": [
    "Входные данные состоят из **21525** записей по клиентам, характеристики клиентов распределены по 12 столбцам:\n",
    "\n",
    "* `children` — количество детей в семье\n",
    "* `days_employed` — трудовой стаж в днях\n",
    "* `dob_days` — возраст клиента в годах\n",
    "* `education` — образование клиента\n",
    "* `education_id` — идентификатор образования\n",
    "* `family_status` — семейное положение\n",
    "* `family_status_id` — идентификатор семейного положения\n",
    "* `gender` — пол клиента\n",
    "* `income_type` — тип занятости\n",
    "* `debt` — имел ли задолженность по возврату кредитов\n",
    "* `total_income` — доход в месяц\n",
    "* `purpose` — цель получения кредита\n",
    "\n",
    "Столбцы `days_employed` и `total_income` содержат не полный набор записей (**2174** значения пропущены в обеих таблицах, что составляет около **10%** всех записей). В чем именно может быть причина пропусков проанализируем далее.\n",
    "\n",
    "Тип данных столбца не соответствует сущности величины трудового стажа в днях. Поскольку дни являются целочисленным значением, использование для этой величины типа `float` выглядит не вполне уместным. Тип данных дохода в месяц также удобнее было бы анализировать в целочисленном виде, а не вещественном, как на данный момент в выгрузке."
   ]
  },
  {
   "cell_type": "markdown",
   "metadata": {},
   "source": [
    "### Шаг 2. Предобработка данных"
   ]
  },
  {
   "cell_type": "markdown",
   "metadata": {},
   "source": [
    "### Обработка пропусков"
   ]
  },
  {
   "cell_type": "markdown",
   "metadata": {},
   "source": [
    "Были обнаружены пропуски значений в колонках с данными о трудовом стаже клиента и доходу в месяц. Убедимся, что пропуски в обеих колонках присутствуют на одних и тех же строках."
   ]
  },
  {
   "cell_type": "code",
   "execution_count": 8,
   "metadata": {},
   "outputs": [
    {
     "name": "stdout",
     "output_type": "stream",
     "text": [
      "<class 'pandas.core.frame.DataFrame'>\n",
      "Int64Index: 2174 entries, 12 to 21510\n",
      "Data columns (total 12 columns):\n",
      "children            2174 non-null int64\n",
      "days_employed       0 non-null float64\n",
      "dob_years           2174 non-null int64\n",
      "education           2174 non-null object\n",
      "education_id        2174 non-null int64\n",
      "family_status       2174 non-null object\n",
      "family_status_id    2174 non-null int64\n",
      "gender              2174 non-null object\n",
      "income_type         2174 non-null object\n",
      "debt                2174 non-null int64\n",
      "total_income        0 non-null float64\n",
      "purpose             2174 non-null object\n",
      "dtypes: float64(2), int64(5), object(5)\n",
      "memory usage: 220.8+ KB\n"
     ]
    }
   ],
   "source": [
    "# отфильтруем входные данные - оставим только строки с пропусками в стаже\n",
    "data[data['days_employed'].isna()].info()"
   ]
  },
  {
   "cell_type": "markdown",
   "metadata": {},
   "source": [
    "Видим, что в отфильтрованном по отсутствующим значениям стажа датафрейме, доход также не содержит ни одной записи, соответственно, все пропущенные значения по стажу находятся на тех же строках, что и отсутствующие значения по доходу.\n",
    "\n",
    "Это может быть связано с тем, что клиент вообще не работает или не работает по найму и, соответственно, не имеет стажа в общем понимании и официальной зарплаты, например, пенсионер или самозанятый, или имеет какую-то специфику в своем типе занятости, например, работает неофициально."
   ]
  },
  {
   "cell_type": "code",
   "execution_count": 9,
   "metadata": {},
   "outputs": [
    {
     "data": {
      "text/plain": [
       "сотрудник          1105\n",
       "компаньон           508\n",
       "пенсионер           413\n",
       "госслужащий         147\n",
       "предприниматель       1\n",
       "Name: income_type, dtype: int64"
      ]
     },
     "execution_count": 9,
     "metadata": {},
     "output_type": "execute_result"
    }
   ],
   "source": [
    "# Посмотрим, какие типы занятости есть у клиентов с отсутствующими значениями стажа и дохода\n",
    "data[data['days_employed'].isna()]['income_type'].value_counts()"
   ]
  },
  {
   "cell_type": "code",
   "execution_count": 10,
   "metadata": {
    "scrolled": true
   },
   "outputs": [
    {
     "data": {
      "text/plain": [
       "сотрудник          11119\n",
       "компаньон           5085\n",
       "пенсионер           3856\n",
       "госслужащий         1459\n",
       "предприниматель        2\n",
       "безработный            2\n",
       "в декрете              1\n",
       "студент                1\n",
       "Name: income_type, dtype: int64"
      ]
     },
     "execution_count": 10,
     "metadata": {},
     "output_type": "execute_result"
    }
   ],
   "source": [
    "# Посмотрим количество всех клиентов, распределенных по типам их занятости\n",
    "data['income_type'].value_counts()"
   ]
  },
  {
   "cell_type": "markdown",
   "metadata": {},
   "source": [
    "Получается, почти у **10%** всех клиентов **не указан стаж и доход** в каждой из групп типа занятости (не считая совсем малочисленных). Это значительная величина, необходимо сделать замену пропущенных значений. \n",
    "Для начала рассмотрим подробнее данные по стажу."
   ]
  },
  {
   "cell_type": "code",
   "execution_count": 11,
   "metadata": {
    "scrolled": true
   },
   "outputs": [
    {
     "data": {
      "text/plain": [
       "-986.93     1\n",
       "-7026.36    1\n",
       "-4236.27    1\n",
       "-6620.40    1\n",
       "-1238.56    1\n",
       "Name: days_employed, dtype: int64"
      ]
     },
     "execution_count": 11,
     "metadata": {},
     "output_type": "execute_result"
    }
   ],
   "source": [
    "# значения по стажу\n",
    "data['days_employed'].value_counts().head()"
   ]
  },
  {
   "cell_type": "markdown",
   "metadata": {},
   "source": [
    "Значения стажа не повторяются, посмотрим минимальное и максимальное значения. "
   ]
  },
  {
   "cell_type": "code",
   "execution_count": 12,
   "metadata": {
    "scrolled": true
   },
   "outputs": [
    {
     "name": "stdout",
     "output_type": "stream",
     "text": [
      "Минимальный стаж: -18388.95\n",
      "Максимальный стаж: 401755.40\n"
     ]
    }
   ],
   "source": [
    "print('Минимальный стаж: {:.2f}'.format(data['days_employed'].min()))\n",
    "print('Максимальный стаж: {:.2f}'.format(data['days_employed'].max()))"
   ]
  },
  {
   "cell_type": "code",
   "execution_count": 13,
   "metadata": {},
   "outputs": [
    {
     "data": {
      "text/plain": [
       "<matplotlib.axes._subplots.AxesSubplot at 0x7f690753b410>"
      ]
     },
     "execution_count": 13,
     "metadata": {},
     "output_type": "execute_result"
    },
    {
     "data": {
      "image/png": "[encoded data removed]",
      "text/plain": [
       "<Figure size 432x288 with 1 Axes>"
      ]
     },
     "metadata": {
      "needs_background": "light"
     },
     "output_type": "display_data"
    }
   ],
   "source": [
    "data['days_employed'].hist(bins=50)"
   ]
  },
  {
   "cell_type": "markdown",
   "metadata": {},
   "source": [
    "Среди значений по стажу присутствуют как положительные, так и отрицательные значения. Отрицательные значения стажа не имеют смысла, посмотрим насколько много таких значений, не является ли это случайной ошибкой."
   ]
  },
  {
   "cell_type": "code",
   "execution_count": 14,
   "metadata": {},
   "outputs": [
    {
     "data": {
      "text/plain": [
       "отрицательный    15906\n",
       "положительный     3445\n",
       "NAN               2174\n",
       "Name: days_employed_group, dtype: int64"
      ]
     },
     "execution_count": 14,
     "metadata": {},
     "output_type": "execute_result"
    }
   ],
   "source": [
    "# группируем по стажу\n",
    "def days_employed_group(days_employed):\n",
    "    try:\n",
    "        if days_employed < 0:\n",
    "            return 'отрицательный'\n",
    "        elif days_employed >= 0:\n",
    "            return 'положительный'\n",
    "        return 'NAN'\n",
    "    except: 'проверьте передаваемые значения'\n",
    "\n",
    "data['days_employed_group'] = data['days_employed'].apply(days_employed_group)\n",
    "data['days_employed_group'].value_counts()"
   ]
  },
  {
   "cell_type": "markdown",
   "metadata": {},
   "source": [
    "Количество отрицательных значений указывает на то, что это не случайная ошибка. Попробуем выяснить, в чем нюанс, построив сводную таблицу и соотнеся данные по отрицательному/положительному стажу и типам занятости."
   ]
  },
  {
   "cell_type": "code",
   "execution_count": 15,
   "metadata": {},
   "outputs": [
    {
     "data": {
      "text/html": [
       "<div>\n",
       "<style scoped>\n",
       "    .dataframe tbody tr th:only-of-type {\n",
       "        vertical-align: middle;\n",
       "    }\n",
       "\n",
       "    .dataframe tbody tr th {\n",
       "        vertical-align: top;\n",
       "    }\n",
       "\n",
       "    .dataframe thead th {\n",
       "        text-align: right;\n",
       "    }\n",
       "</style>\n",
       "<table border=\"1\" class=\"dataframe\">\n",
       "  <thead>\n",
       "    <tr style=\"text-align: right;\">\n",
       "      <th>income_type</th>\n",
       "      <th>безработный</th>\n",
       "      <th>в декрете</th>\n",
       "      <th>госслужащий</th>\n",
       "      <th>компаньон</th>\n",
       "      <th>пенсионер</th>\n",
       "      <th>предприниматель</th>\n",
       "      <th>сотрудник</th>\n",
       "      <th>студент</th>\n",
       "    </tr>\n",
       "    <tr>\n",
       "      <th>days_employed_group</th>\n",
       "      <th></th>\n",
       "      <th></th>\n",
       "      <th></th>\n",
       "      <th></th>\n",
       "      <th></th>\n",
       "      <th></th>\n",
       "      <th></th>\n",
       "      <th></th>\n",
       "    </tr>\n",
       "  </thead>\n",
       "  <tbody>\n",
       "    <tr>\n",
       "      <td>NAN</td>\n",
       "      <td>nan</td>\n",
       "      <td>nan</td>\n",
       "      <td>147.00</td>\n",
       "      <td>508.00</td>\n",
       "      <td>413.00</td>\n",
       "      <td>1.00</td>\n",
       "      <td>1105.00</td>\n",
       "      <td>nan</td>\n",
       "    </tr>\n",
       "    <tr>\n",
       "      <td>отрицательный</td>\n",
       "      <td>nan</td>\n",
       "      <td>1.00</td>\n",
       "      <td>1312.00</td>\n",
       "      <td>4577.00</td>\n",
       "      <td>nan</td>\n",
       "      <td>1.00</td>\n",
       "      <td>10014.00</td>\n",
       "      <td>1.00</td>\n",
       "    </tr>\n",
       "    <tr>\n",
       "      <td>положительный</td>\n",
       "      <td>2.00</td>\n",
       "      <td>nan</td>\n",
       "      <td>nan</td>\n",
       "      <td>nan</td>\n",
       "      <td>3443.00</td>\n",
       "      <td>nan</td>\n",
       "      <td>nan</td>\n",
       "      <td>nan</td>\n",
       "    </tr>\n",
       "  </tbody>\n",
       "</table>\n",
       "</div>"
      ],
      "text/plain": [
       "income_type          безработный  в декрете  госслужащий  компаньон  \\\n",
       "days_employed_group                                                   \n",
       "NAN                          nan        nan       147.00     508.00   \n",
       "отрицательный                nan       1.00      1312.00    4577.00   \n",
       "положительный               2.00        nan          nan        nan   \n",
       "\n",
       "income_type          пенсионер  предприниматель  сотрудник  студент  \n",
       "days_employed_group                                                  \n",
       "NAN                     413.00             1.00    1105.00      nan  \n",
       "отрицательный              nan             1.00   10014.00     1.00  \n",
       "положительный          3443.00              nan        nan      nan  "
      ]
     },
     "execution_count": 15,
     "metadata": {},
     "output_type": "execute_result"
    }
   ],
   "source": [
    "data_pivot_income_vs_employed_group = data.pivot_table(index=['days_employed_group'], columns='income_type', values='children', aggfunc='count') \n",
    "data_pivot_income_vs_employed_group"
   ]
  },
  {
   "cell_type": "markdown",
   "metadata": {},
   "source": [
    "Видим, что положительный стаж только у неработающих клиентов - пенсионеров и безработных. Отрицательный стаж же напротив у работающих - сотрудников, госслужащих и компаньонов. Возможно, это специфика хранения данных в системе, откуда производилась выгрузка."
   ]
  },
  {
   "cell_type": "code",
   "execution_count": 16,
   "metadata": {},
   "outputs": [],
   "source": [
    "# вычислим среднее значение стажа и заполним пропущенные значения стажа\n",
    "days_employed_mean = data['days_employed'].mean()\n",
    "data['days_employed'] = data['days_employed'].fillna(days_employed_mean)"
   ]
  },
  {
   "cell_type": "markdown",
   "metadata": {},
   "source": [
    "Посмотрим, какие уникальные значения есть в целевых для анализа столбцах и нет ли явных проблем с другими данными"
   ]
  },
  {
   "cell_type": "code",
   "execution_count": 17,
   "metadata": {},
   "outputs": [
    {
     "data": {
      "text/plain": [
       "женат / замужем          12380\n",
       "гражданский брак          4177\n",
       "Не женат / не замужем     2813\n",
       "в разводе                 1195\n",
       "вдовец / вдова             960\n",
       "Name: family_status, dtype: int64"
      ]
     },
     "execution_count": 17,
     "metadata": {},
     "output_type": "execute_result"
    }
   ],
   "source": [
    "# значения по семейному положению\n",
    "data['family_status'].value_counts()"
   ]
  },
  {
   "cell_type": "code",
   "execution_count": 18,
   "metadata": {},
   "outputs": [
    {
     "data": {
      "text/plain": [
       " 0     14149\n",
       " 1      4818\n",
       " 2      2055\n",
       " 3       330\n",
       " 20       76\n",
       "-1        47\n",
       " 4        41\n",
       " 5         9\n",
       "Name: children, dtype: int64"
      ]
     },
     "execution_count": 18,
     "metadata": {},
     "output_type": "execute_result"
    }
   ],
   "source": [
    "# значения по количеству детей\n",
    "data['children'].value_counts()"
   ]
  },
  {
   "cell_type": "markdown",
   "metadata": {},
   "source": [
    "Среди данных по количеству детей встречаются отрицательные значения, что противоречит здравому смыслу. Вероятнее всего это ошибка, вызванная человеческим фактором, заменим значения \"-1\" на \"1\". Также встречается значение \"20\", такое количество детей это довольно маловероятно для одного человека, особенно когда таких записей 76 штук, скорее всего здесь также имеет место человеческий фактор и 0 лишний, поменяем значение \"20\" на \"2\"."
   ]
  },
  {
   "cell_type": "code",
   "execution_count": 19,
   "metadata": {},
   "outputs": [
    {
     "data": {
      "text/plain": [
       "0    14149\n",
       "1     4865\n",
       "2     2131\n",
       "3      330\n",
       "4       41\n",
       "5        9\n",
       "Name: children, dtype: int64"
      ]
     },
     "execution_count": 19,
     "metadata": {},
     "output_type": "execute_result"
    }
   ],
   "source": [
    "data.loc[data['children'] == -1, 'children'] = 1\n",
    "data.loc[data['children'] == 20, 'children'] = 2\n",
    "data['children'].value_counts()"
   ]
  },
  {
   "cell_type": "markdown",
   "metadata": {},
   "source": [
    "Посмотрим другие столбцы на корректность предоставленных данных"
   ]
  },
  {
   "cell_type": "code",
   "execution_count": 20,
   "metadata": {},
   "outputs": [
    {
     "data": {
      "text/plain": [
       "array([42, 36, 33, 32, 53, 27, 43, 50, 35, 41, 40, 65, 54, 56, 26, 48, 24,\n",
       "       21, 57, 67, 28, 63, 62, 47, 34, 68, 25, 31, 30, 20, 49, 37, 45, 61,\n",
       "       64, 44, 52, 46, 23, 38, 39, 51,  0, 59, 29, 60, 55, 58, 71, 22, 73,\n",
       "       66, 69, 19, 72, 70, 74, 75])"
      ]
     },
     "execution_count": 20,
     "metadata": {},
     "output_type": "execute_result"
    }
   ],
   "source": [
    "# значения по возрасту\n",
    "data['dob_years'].unique()"
   ]
  },
  {
   "cell_type": "markdown",
   "metadata": {},
   "source": [
    "В списке возрастов присутствует значение \"0\", что указывает на то, что данные не были заполнены. Так как какой-либо дополнительной информацией для устранения данного пропуска мы не обладаем, а данные не являются целевыми, оставим значение \"0\"."
   ]
  },
  {
   "cell_type": "code",
   "execution_count": 21,
   "metadata": {},
   "outputs": [
    {
     "data": {
      "text/plain": [
       "среднее                13750\n",
       "высшее                  4718\n",
       "СРЕДНЕЕ                  772\n",
       "Среднее                  711\n",
       "неоконченное высшее      668\n",
       "ВЫСШЕЕ                   274\n",
       "Высшее                   268\n",
       "начальное                250\n",
       "Неоконченное высшее       47\n",
       "НЕОКОНЧЕННОЕ ВЫСШЕЕ       29\n",
       "НАЧАЛЬНОЕ                 17\n",
       "Начальное                 15\n",
       "ученая степень             4\n",
       "Ученая степень             1\n",
       "УЧЕНАЯ СТЕПЕНЬ             1\n",
       "Name: education, dtype: int64"
      ]
     },
     "execution_count": 21,
     "metadata": {},
     "output_type": "execute_result"
    }
   ],
   "source": [
    "# значения по образованию\n",
    "data['education'].value_counts()"
   ]
  },
  {
   "cell_type": "markdown",
   "metadata": {},
   "source": [
    "Среди наименований уровня образования есть разночтения в написании, необходимо будет привести к единообразию, оставив категории: начальное, среднее, неоконченное высшее, высшее, ученая степень"
   ]
  },
  {
   "cell_type": "code",
   "execution_count": 22,
   "metadata": {},
   "outputs": [
    {
     "data": {
      "text/plain": [
       "женат / замужем          12380\n",
       "гражданский брак          4177\n",
       "Не женат / не замужем     2813\n",
       "в разводе                 1195\n",
       "вдовец / вдова             960\n",
       "Name: family_status, dtype: int64"
      ]
     },
     "execution_count": 22,
     "metadata": {},
     "output_type": "execute_result"
    }
   ],
   "source": [
    "# значения по семейному статусу\n",
    "data['family_status'].value_counts()"
   ]
  },
  {
   "cell_type": "code",
   "execution_count": 23,
   "metadata": {},
   "outputs": [
    {
     "data": {
      "text/plain": [
       "F      14236\n",
       "M       7288\n",
       "XNA        1\n",
       "Name: gender, dtype: int64"
      ]
     },
     "execution_count": 23,
     "metadata": {},
     "output_type": "execute_result"
    }
   ],
   "source": [
    "# значения по полу\n",
    "data['gender'].value_counts()"
   ]
  },
  {
   "cell_type": "markdown",
   "metadata": {},
   "source": [
    "В списке гендеров присутствует один артефакт, поскольку такое значение всего одно, удалим его из выгрузки."
   ]
  },
  {
   "cell_type": "code",
   "execution_count": 24,
   "metadata": {},
   "outputs": [
    {
     "data": {
      "text/html": [
       "<div>\n",
       "<style scoped>\n",
       "    .dataframe tbody tr th:only-of-type {\n",
       "        vertical-align: middle;\n",
       "    }\n",
       "\n",
       "    .dataframe tbody tr th {\n",
       "        vertical-align: top;\n",
       "    }\n",
       "\n",
       "    .dataframe thead th {\n",
       "        text-align: right;\n",
       "    }\n",
       "</style>\n",
       "<table border=\"1\" class=\"dataframe\">\n",
       "  <thead>\n",
       "    <tr style=\"text-align: right;\">\n",
       "      <th></th>\n",
       "      <th>children</th>\n",
       "      <th>days_employed</th>\n",
       "      <th>dob_years</th>\n",
       "      <th>education</th>\n",
       "      <th>education_id</th>\n",
       "      <th>family_status</th>\n",
       "      <th>family_status_id</th>\n",
       "      <th>gender</th>\n",
       "      <th>income_type</th>\n",
       "      <th>debt</th>\n",
       "      <th>total_income</th>\n",
       "      <th>purpose</th>\n",
       "      <th>days_employed_group</th>\n",
       "    </tr>\n",
       "  </thead>\n",
       "  <tbody>\n",
       "    <tr>\n",
       "      <td>10701</td>\n",
       "      <td>0</td>\n",
       "      <td>-2358.60</td>\n",
       "      <td>24</td>\n",
       "      <td>неоконченное высшее</td>\n",
       "      <td>2</td>\n",
       "      <td>гражданский брак</td>\n",
       "      <td>1</td>\n",
       "      <td>XNA</td>\n",
       "      <td>компаньон</td>\n",
       "      <td>0</td>\n",
       "      <td>203905.16</td>\n",
       "      <td>покупка недвижимости</td>\n",
       "      <td>отрицательный</td>\n",
       "    </tr>\n",
       "  </tbody>\n",
       "</table>\n",
       "</div>"
      ],
      "text/plain": [
       "       children  days_employed  dob_years            education  education_id  \\\n",
       "10701         0       -2358.60         24  неоконченное высшее             2   \n",
       "\n",
       "          family_status  family_status_id gender income_type  debt  \\\n",
       "10701  гражданский брак                 1    XNA   компаньон     0   \n",
       "\n",
       "       total_income               purpose days_employed_group  \n",
       "10701     203905.16  покупка недвижимости       отрицательный  "
      ]
     },
     "execution_count": 24,
     "metadata": {},
     "output_type": "execute_result"
    }
   ],
   "source": [
    "# найдем индекс строки с артефактом\n",
    "data[data.gender == 'XNA']"
   ]
  },
  {
   "cell_type": "code",
   "execution_count": 25,
   "metadata": {},
   "outputs": [],
   "source": [
    "# удаляем строку с артефактом\n",
    "data= data.drop(data.index[10701])"
   ]
  },
  {
   "cell_type": "code",
   "execution_count": 26,
   "metadata": {},
   "outputs": [
    {
     "data": {
      "text/plain": [
       "0    19783\n",
       "1     1741\n",
       "Name: debt, dtype: int64"
      ]
     },
     "execution_count": 26,
     "metadata": {},
     "output_type": "execute_result"
    }
   ],
   "source": [
    "# значения по флагу наличия задолженности по возврату кредита\n",
    "data['debt'].value_counts()"
   ]
  },
  {
   "cell_type": "code",
   "execution_count": 27,
   "metadata": {},
   "outputs": [
    {
     "data": {
      "text/plain": [
       "<matplotlib.axes._subplots.AxesSubplot at 0x7f68feb6e050>"
      ]
     },
     "execution_count": 27,
     "metadata": {},
     "output_type": "execute_result"
    },
    {
     "data": {
      "image/png": "[encoded data removed]",
      "text/plain": [
       "<Figure size 432x288 with 1 Axes>"
      ]
     },
     "metadata": {
      "needs_background": "light"
     },
     "output_type": "display_data"
    }
   ],
   "source": [
    "# значения по доходу\n",
    "data['total_income'].hist(bins=50)"
   ]
  },
  {
   "cell_type": "markdown",
   "metadata": {},
   "source": [
    "Заменим пропущенные значения средней величиной, т.к. информация столбца не является целевой для текущего анализа "
   ]
  },
  {
   "cell_type": "code",
   "execution_count": 28,
   "metadata": {},
   "outputs": [],
   "source": [
    "# вычислим среднее значение дохода и сделаем замену пропущенных значений в data\n",
    "total_income_mean = data['total_income'].mean()\n",
    "data['total_income'] = data['total_income'].fillna(total_income_mean)"
   ]
  },
  {
   "cell_type": "code",
   "execution_count": 29,
   "metadata": {},
   "outputs": [
    {
     "data": {
      "text/plain": [
       "свадьба                                   797\n",
       "на проведение свадьбы                     777\n",
       "сыграть свадьбу                           774\n",
       "операции с недвижимостью                  676\n",
       "покупка коммерческой недвижимости         664\n",
       "операции с жильем                         653\n",
       "покупка жилья для сдачи                   653\n",
       "операции с коммерческой недвижимостью     651\n",
       "покупка жилья                             647\n",
       "жилье                                     647\n",
       "покупка жилья для семьи                   641\n",
       "строительство собственной недвижимости    635\n",
       "недвижимость                              634\n",
       "операции со своей недвижимостью           630\n",
       "строительство жилой недвижимости          626\n",
       "покупка недвижимости                      623\n",
       "строительство недвижимости                620\n",
       "покупка своего жилья                      620\n",
       "ремонт жилью                              612\n",
       "покупка жилой недвижимости                607\n",
       "на покупку своего автомобиля              505\n",
       "заняться высшим образованием              496\n",
       "автомобиль                                495\n",
       "сделка с подержанным автомобилем          489\n",
       "свой автомобиль                           480\n",
       "на покупку подержанного автомобиля        479\n",
       "автомобили                                478\n",
       "на покупку автомобиля                     472\n",
       "дополнительное образование                462\n",
       "приобретение автомобиля                   462\n",
       "сделка с автомобилем                      455\n",
       "высшее образование                        453\n",
       "получение дополнительного образования     447\n",
       "образование                               447\n",
       "получение образования                     443\n",
       "профильное образование                    436\n",
       "получение высшего образования             426\n",
       "заняться образованием                     412\n",
       "Name: purpose, dtype: int64"
      ]
     },
     "execution_count": 29,
     "metadata": {},
     "output_type": "execute_result"
    }
   ],
   "source": [
    "# значения по цели\n",
    "data['purpose'].value_counts()"
   ]
  },
  {
   "cell_type": "markdown",
   "metadata": {},
   "source": [
    "Среди целей кредита много синонимов, необходимо в дальнейшем провести их лемматизацию и унифицировать."
   ]
  },
  {
   "cell_type": "markdown",
   "metadata": {},
   "source": [
    "### Вывод"
   ]
  },
  {
   "cell_type": "markdown",
   "metadata": {},
   "source": [
    "Целевой показатель анализа платежеспособности клиентов - **количество детей - содержал некорректные данные**, появившиеся в выгрузке, вероятнее всего, из-за человеческого фактора. Противоречащие здравому смыслу значения (отрицательные и слишком большие для количества детей на одного человека) были заменены на ближайшие по смыслу.\n",
    "\n",
    "Среди данных у некоторых клиентов **не было информации стаж - доход**, что могло быть связано со спецификой занятости таких клиентов и отсутствием официально подтвержденных данных стажа и дохода, либо с вносимыми корректировками в систему и отображением обновленной информации в качестве новой строки (ведь мы увидели некорректные данные, например, отрицательные значения количества детей, и возможна такая ситуация, когда из системы выгружается 2 строки по одному клиенту в случае вносимых изменений в систему - до корректировок и после, но в одной из строк часть информации теряется). Доля клиентов с пропусками составила около **10%**, что является значительной величиной и такую информацию необходимо добавить для формирования полного объема входных данных. Однако в силу того, что категории с пропущенными величинами не являются целевыми для проведения анализа платежеспособности клиентов, данные для замены могут быть весьма условными, поэтому в качестве данных для замены были выбраны средние величины стажа и дохода по всем клиентам выгрузки.\n",
    "\n",
    "Среди значений по стажу присутствуют как положительные, так и отрицательные значения, положительный стаж у неработающих клиентов, отрицательный - у работающих. Возможно, это специфика хранения данных в системе.\n",
    "\n",
    "В данных распределения по полу удалена строка с артефактом.\n",
    "\n",
    "При первичном анализе данных также было обнаружено, что в наименовании категорий уровня образования есть разные варианты написания, по своей сути это повторы, необходимо будет привести их к единообразию. Среди категорий целей кредитования также много синонимов, в таком виде анализировать их довольно трудоемко и неудобно, поэтому необходимо будет лемматизировать список целей кредита для их унификации и возможности проведения анализа."
   ]
  },
  {
   "cell_type": "markdown",
   "metadata": {},
   "source": [
    "### Замена типа данных"
   ]
  },
  {
   "cell_type": "markdown",
   "metadata": {},
   "source": [
    "Как уже было указано, тип данных столбца с информацией о трудовом стаже в днях некорректен, необходимо данные вещественного типа привести к целочисленному типу. Данные столбца с доходм также приведем к целым значениям для удобства дальнейшего анализа.\n",
    "\n",
    "Так как у столбцов `days_employed` и `total_income` текущий тип данных `float`, а целевой тип данных `int`, т.е. оба являются численными, метод преобразования типов данных `to_numeric()` нам не подходит. Совершим преобразование с помощью метода `astype(int)`."
   ]
  },
  {
   "cell_type": "code",
   "execution_count": 30,
   "metadata": {
    "scrolled": true
   },
   "outputs": [
    {
     "data": {
      "text/plain": [
       "children                int64\n",
       "days_employed           int64\n",
       "dob_years               int64\n",
       "education              object\n",
       "education_id            int64\n",
       "family_status          object\n",
       "family_status_id        int64\n",
       "gender                 object\n",
       "income_type            object\n",
       "debt                    int64\n",
       "total_income            int64\n",
       "purpose                object\n",
       "days_employed_group    object\n",
       "dtype: object"
      ]
     },
     "execution_count": 30,
     "metadata": {},
     "output_type": "execute_result"
    }
   ],
   "source": [
    "data['days_employed'] = data['days_employed'].astype(int)\n",
    "data['total_income'] = data['total_income'].astype(int)\n",
    "data.dtypes"
   ]
  },
  {
   "cell_type": "markdown",
   "metadata": {},
   "source": [
    "### Вывод"
   ]
  },
  {
   "cell_type": "markdown",
   "metadata": {},
   "source": [
    "Показатель стажа в днях теперь имеет целочисленный тип данных, что отражает смысл хранимого в данном столбце показателя. Показатель дохода также приведен к целочисленному типу для удобства работы с ним в ходе проведения анализа."
   ]
  },
  {
   "cell_type": "markdown",
   "metadata": {},
   "source": [
    "### Обработка дубликатов"
   ]
  },
  {
   "cell_type": "markdown",
   "metadata": {},
   "source": [
    "Ранее было отмечено, что столбец `education` содержит разное написание одних и тех же категорий. Приведем к единообразию написание категорий уровня образования, используя метод `str.lower()`"
   ]
  },
  {
   "cell_type": "code",
   "execution_count": 31,
   "metadata": {
    "scrolled": true
   },
   "outputs": [
    {
     "data": {
      "text/plain": [
       "среднее                15233\n",
       "высшее                  5260\n",
       "неоконченное высшее      743\n",
       "начальное                282\n",
       "ученая степень             6\n",
       "Name: education, dtype: int64"
      ]
     },
     "execution_count": 31,
     "metadata": {},
     "output_type": "execute_result"
    }
   ],
   "source": [
    "data['education'] = data['education'].str.lower()\n",
    "data['education'].value_counts()"
   ]
  },
  {
   "cell_type": "markdown",
   "metadata": {},
   "source": [
    "Проверим наличие идентичных строк в датафрейме с помощью метода duplicated(), а сами дубликаты при наличии удалим методом drop_duplicates, т.к. он удаляет повторяющиеся строки и возвращает сам датафрейм."
   ]
  },
  {
   "cell_type": "code",
   "execution_count": 32,
   "metadata": {
    "scrolled": true
   },
   "outputs": [
    {
     "data": {
      "text/plain": [
       "False    21453\n",
       "True        71\n",
       "dtype: int64"
      ]
     },
     "execution_count": 32,
     "metadata": {},
     "output_type": "execute_result"
    }
   ],
   "source": [
    "data.duplicated().value_counts()"
   ]
  },
  {
   "cell_type": "code",
   "execution_count": 33,
   "metadata": {
    "scrolled": true
   },
   "outputs": [
    {
     "data": {
      "text/plain": [
       "21453"
      ]
     },
     "execution_count": 33,
     "metadata": {},
     "output_type": "execute_result"
    }
   ],
   "source": [
    "data = data.drop_duplicates()\n",
    "len(data)"
   ]
  },
  {
   "cell_type": "markdown",
   "metadata": {},
   "source": [
    "### Вывод"
   ]
  },
  {
   "cell_type": "markdown",
   "metadata": {},
   "source": [
    "В данных была обнаружена **71 полностью дублирующаяся строка**, что составляет около **0,3%** всех записей из первоначальной выгрузки, это небольшой процент, и эти строки мы удалили для предотвращения искажения итогового результата. \n",
    "\n",
    "Возможно, некоторые клиенты получали несколько кредитов на одинаковые цели на коротком промежутке времени, что является не слишком распространенной ситуацией, но и не совсем невероятной. Другое предположение состоит в том, что дубликаты могли появиться после того, как мы привели не имеющие смысла значения к корректным (например, отрицательные значения по количеству детей), а в наборе уже присутствовала строка с корректными данными, выгруженная из системы, и тем самым появились полностью одинаковые строки, которые ранее различались на некорректно введенное значение и исправленное в системе значение.\n",
    "\n",
    "Также были приведены к единому формату данные, описывающие уровень образования клиентов (убраны дубликаты с разночтением в написании имени категории)."
   ]
  },
  {
   "cell_type": "markdown",
   "metadata": {},
   "source": [
    "### Лемматизация"
   ]
  },
  {
   "cell_type": "markdown",
   "metadata": {},
   "source": [
    "При первичном анализе мы увидели, что среди целей кредитования много синонимов и приняли решение лемматизировать список целей кредита для их унификации. Проведем лемматизацию с помощью инструментов библиотеки pymystem3."
   ]
  },
  {
   "cell_type": "code",
   "execution_count": 34,
   "metadata": {
    "scrolled": true
   },
   "outputs": [
    {
     "data": {
      "text/plain": [
       "38"
      ]
     },
     "execution_count": 34,
     "metadata": {},
     "output_type": "execute_result"
    }
   ],
   "source": [
    "# найдем количество всех уникальных целей кредитования, указанных в выгрузке\n",
    "data['purpose'].value_counts().count()"
   ]
  },
  {
   "cell_type": "markdown",
   "metadata": {},
   "source": [
    "Ранее мы проанализировали все возможные цели кредита, которые были представлены в выгрузке, среди них оказалось всего 38 уникальных, но и они по смыслу во многом пересекаются между собой. Посмотрим еще раз на список целей и сохраним их в отдельную переменную, чтобы унифицировать их."
   ]
  },
  {
   "cell_type": "code",
   "execution_count": 35,
   "metadata": {
    "scrolled": true
   },
   "outputs": [
    {
     "data": {
      "text/plain": [
       "array(['покупка жилья', 'приобретение автомобиля',\n",
       "       'дополнительное образование', 'сыграть свадьбу',\n",
       "       'операции с жильем', 'образование', 'на проведение свадьбы',\n",
       "       'покупка жилья для семьи', 'покупка недвижимости',\n",
       "       'покупка коммерческой недвижимости', 'покупка жилой недвижимости',\n",
       "       'строительство собственной недвижимости', 'недвижимость',\n",
       "       'строительство недвижимости', 'на покупку подержанного автомобиля',\n",
       "       'на покупку своего автомобиля',\n",
       "       'операции с коммерческой недвижимостью',\n",
       "       'строительство жилой недвижимости', 'жилье',\n",
       "       'операции со своей недвижимостью', 'автомобили',\n",
       "       'заняться образованием', 'сделка с подержанным автомобилем',\n",
       "       'получение образования', 'автомобиль', 'свадьба',\n",
       "       'получение дополнительного образования', 'покупка своего жилья',\n",
       "       'операции с недвижимостью', 'получение высшего образования',\n",
       "       'свой автомобиль', 'сделка с автомобилем',\n",
       "       'профильное образование', 'высшее образование',\n",
       "       'покупка жилья для сдачи', 'на покупку автомобиля', 'ремонт жилью',\n",
       "       'заняться высшим образованием'], dtype=object)"
      ]
     },
     "execution_count": 35,
     "metadata": {},
     "output_type": "execute_result"
    }
   ],
   "source": [
    "purpose_dict = data['purpose'].unique()\n",
    "purpose_dict"
   ]
  },
  {
   "cell_type": "markdown",
   "metadata": {},
   "source": [
    "Проведем лемматизацию уникальных значений целей кредитования"
   ]
  },
  {
   "cell_type": "code",
   "execution_count": 36,
   "metadata": {
    "scrolled": true
   },
   "outputs": [
    {
     "name": "stdout",
     "output_type": "stream",
     "text": [
      "['покупка', ' ', 'жилье', ' ', 'приобретение', ' ', 'автомобиль', ' ', 'дополнительный', ' ', 'образование', ' ', 'сыграть', ' ', 'свадьба', ' ', 'операция', ' ', 'с', ' ', 'жилье', ' ', 'образование', ' ', 'на', ' ', 'проведение', ' ', 'свадьба', ' ', 'покупка', ' ', 'жилье', ' ', 'для', ' ', 'семья', ' ', 'покупка', ' ', 'недвижимость', ' ', 'покупка', ' ', 'коммерческий', ' ', 'недвижимость', ' ', 'покупка', ' ', 'жилой', ' ', 'недвижимость', ' ', 'строительство', ' ', 'собственный', ' ', 'недвижимость', ' ', 'недвижимость', ' ', 'строительство', ' ', 'недвижимость', ' ', 'на', ' ', 'покупка', ' ', 'подержать', ' ', 'автомобиль', ' ', 'на', ' ', 'покупка', ' ', 'свой', ' ', 'автомобиль', ' ', 'операция', ' ', 'с', ' ', 'коммерческий', ' ', 'недвижимость', ' ', 'строительство', ' ', 'жилой', ' ', 'недвижимость', ' ', 'жилье', ' ', 'операция', ' ', 'со', ' ', 'свой', ' ', 'недвижимость', ' ', 'автомобиль', ' ', 'заниматься', ' ', 'образование', ' ', 'сделка', ' ', 'с', ' ', 'подержать', ' ', 'автомобиль', ' ', 'получение', ' ', 'образование', ' ', 'автомобиль', ' ', 'свадьба', ' ', 'получение', ' ', 'дополнительный', ' ', 'образование', ' ', 'покупка', ' ', 'свой', ' ', 'жилье', ' ', 'операция', ' ', 'с', ' ', 'недвижимость', ' ', 'получение', ' ', 'высокий', ' ', 'образование', ' ', 'свой', ' ', 'автомобиль', ' ', 'сделка', ' ', 'с', ' ', 'автомобиль', ' ', 'профильный', ' ', 'образование', ' ', 'высокий', ' ', 'образование', ' ', 'покупка', ' ', 'жилье', ' ', 'для', ' ', 'сдача', ' ', 'на', ' ', 'покупка', ' ', 'автомобиль', ' ', 'ремонт', ' ', 'жилье', ' ', 'заниматься', ' ', 'высокий', ' ', 'образование', '\\n']\n"
     ]
    }
   ],
   "source": [
    "purpose_string = ' '.join(purpose_dict)\n",
    "lemmas = m.lemmatize(purpose_string)\n",
    "print(lemmas)"
   ]
  },
  {
   "cell_type": "markdown",
   "metadata": {},
   "source": [
    "Посчитаем количество вхождений каждой леммы и определим унифицированные цели кредитов"
   ]
  },
  {
   "cell_type": "code",
   "execution_count": 37,
   "metadata": {},
   "outputs": [
    {
     "name": "stdout",
     "output_type": "stream",
     "text": [
      "Counter({' ': 96, 'покупка': 10, 'недвижимость': 10, 'автомобиль': 9, 'образование': 9, 'жилье': 7, 'с': 5, 'операция': 4, 'на': 4, 'свой': 4, 'свадьба': 3, 'строительство': 3, 'получение': 3, 'высокий': 3, 'дополнительный': 2, 'для': 2, 'коммерческий': 2, 'жилой': 2, 'подержать': 2, 'заниматься': 2, 'сделка': 2, 'приобретение': 1, 'сыграть': 1, 'проведение': 1, 'семья': 1, 'собственный': 1, 'со': 1, 'профильный': 1, 'сдача': 1, 'ремонт': 1, '\\n': 1})\n"
     ]
    }
   ],
   "source": [
    "from collections import Counter\n",
    "print(Counter(lemmas))"
   ]
  },
  {
   "cell_type": "markdown",
   "metadata": {},
   "source": [
    "Среди лемм наиболее часто встречающиеся цели кредита - это \"недвижимость\", \"автомобиль\", \"образование\", \"жилье\" и \"свадьба\", и не очень популярный, но все же выделим его отдельно - \"ремонт\". Недвижимость и жилье по своей сути являются синонимами, особенно \"жилая недвижимость\", поэтому эти две леммы соединим в одну - \"недвижимость\".\n",
    "\n",
    "Создадим словарь соответствия уникальных значений целей и лемм."
   ]
  },
  {
   "cell_type": "code",
   "execution_count": 38,
   "metadata": {
    "scrolled": true
   },
   "outputs": [
    {
     "data": {
      "text/html": [
       "<div>\n",
       "<style scoped>\n",
       "    .dataframe tbody tr th:only-of-type {\n",
       "        vertical-align: middle;\n",
       "    }\n",
       "\n",
       "    .dataframe tbody tr th {\n",
       "        vertical-align: top;\n",
       "    }\n",
       "\n",
       "    .dataframe thead th {\n",
       "        text-align: right;\n",
       "    }\n",
       "</style>\n",
       "<table border=\"1\" class=\"dataframe\">\n",
       "  <thead>\n",
       "    <tr style=\"text-align: right;\">\n",
       "      <th></th>\n",
       "      <th>purpose</th>\n",
       "      <th>lemmas_list</th>\n",
       "    </tr>\n",
       "  </thead>\n",
       "  <tbody>\n",
       "    <tr>\n",
       "      <td>0</td>\n",
       "      <td>покупка жилья</td>\n",
       "      <td>[покупка,  , жилье, \\n]</td>\n",
       "    </tr>\n",
       "    <tr>\n",
       "      <td>1</td>\n",
       "      <td>приобретение автомобиля</td>\n",
       "      <td>[приобретение,  , автомобиль, \\n]</td>\n",
       "    </tr>\n",
       "    <tr>\n",
       "      <td>2</td>\n",
       "      <td>дополнительное образование</td>\n",
       "      <td>[дополнительный,  , образование, \\n]</td>\n",
       "    </tr>\n",
       "    <tr>\n",
       "      <td>3</td>\n",
       "      <td>сыграть свадьбу</td>\n",
       "      <td>[сыграть,  , свадьба, \\n]</td>\n",
       "    </tr>\n",
       "    <tr>\n",
       "      <td>4</td>\n",
       "      <td>операции с жильем</td>\n",
       "      <td>[операция,  , с,  , жилье, \\n]</td>\n",
       "    </tr>\n",
       "  </tbody>\n",
       "</table>\n",
       "</div>"
      ],
      "text/plain": [
       "                      purpose                           lemmas_list\n",
       "0               покупка жилья               [покупка,  , жилье, \\n]\n",
       "1     приобретение автомобиля     [приобретение,  , автомобиль, \\n]\n",
       "2  дополнительное образование  [дополнительный,  , образование, \\n]\n",
       "3             сыграть свадьбу             [сыграть,  , свадьба, \\n]\n",
       "4           операции с жильем        [операция,  , с,  , жилье, \\n]"
      ]
     },
     "execution_count": 38,
     "metadata": {},
     "output_type": "execute_result"
    }
   ],
   "source": [
    "columns = ['purpose', 'lemmas_list']\n",
    "lemmas_dict = pd.DataFrame(columns=columns)\n",
    "lemmas_dict['purpose'] = purpose_dict\n",
    "lemmas_dict['lemmas_list'] = lemmas_dict['purpose'].apply(m.lemmatize)\n",
    "\n",
    "lemmas_dict.head()"
   ]
  },
  {
   "cell_type": "markdown",
   "metadata": {},
   "source": [
    "Унифицируем цели кредитования с помощью найденных лемм, учитывая наличие синонимов"
   ]
  },
  {
   "cell_type": "code",
   "execution_count": 39,
   "metadata": {},
   "outputs": [
    {
     "data": {
      "text/html": [
       "<div>\n",
       "<style scoped>\n",
       "    .dataframe tbody tr th:only-of-type {\n",
       "        vertical-align: middle;\n",
       "    }\n",
       "\n",
       "    .dataframe tbody tr th {\n",
       "        vertical-align: top;\n",
       "    }\n",
       "\n",
       "    .dataframe thead th {\n",
       "        text-align: right;\n",
       "    }\n",
       "</style>\n",
       "<table border=\"1\" class=\"dataframe\">\n",
       "  <thead>\n",
       "    <tr style=\"text-align: right;\">\n",
       "      <th></th>\n",
       "      <th>purpose</th>\n",
       "      <th>lemma</th>\n",
       "    </tr>\n",
       "  </thead>\n",
       "  <tbody>\n",
       "    <tr>\n",
       "      <td>33</td>\n",
       "      <td>высшее образование</td>\n",
       "      <td>Кредит на образование</td>\n",
       "    </tr>\n",
       "    <tr>\n",
       "      <td>34</td>\n",
       "      <td>покупка жилья для сдачи</td>\n",
       "      <td>Кредит на приобретение недвижимости</td>\n",
       "    </tr>\n",
       "    <tr>\n",
       "      <td>35</td>\n",
       "      <td>на покупку автомобиля</td>\n",
       "      <td>Автокредит</td>\n",
       "    </tr>\n",
       "    <tr>\n",
       "      <td>36</td>\n",
       "      <td>ремонт жилью</td>\n",
       "      <td>Кредит на ремонт</td>\n",
       "    </tr>\n",
       "    <tr>\n",
       "      <td>37</td>\n",
       "      <td>заняться высшим образованием</td>\n",
       "      <td>Кредит на образование</td>\n",
       "    </tr>\n",
       "  </tbody>\n",
       "</table>\n",
       "</div>"
      ],
      "text/plain": [
       "                         purpose                                lemma\n",
       "33            высшее образование                Кредит на образование\n",
       "34       покупка жилья для сдачи  Кредит на приобретение недвижимости\n",
       "35         на покупку автомобиля                           Автокредит\n",
       "36                  ремонт жилью                     Кредит на ремонт\n",
       "37  заняться высшим образованием                Кредит на образование"
      ]
     },
     "execution_count": 39,
     "metadata": {},
     "output_type": "execute_result"
    }
   ],
   "source": [
    "def find_lemma(lemmas_list):\n",
    "    if 'ремонт' in lemmas_list:\n",
    "        return 'Кредит на ремонт'\n",
    "    if 'недвижимость' in lemmas_list:\n",
    "        return 'Кредит на приобретение недвижимости'\n",
    "    elif 'автомобиль' in lemmas_list:\n",
    "        return 'Автокредит'\n",
    "    elif 'образование' in lemmas_list:\n",
    "        return 'Кредит на образование'\n",
    "    elif 'жилье' in lemmas_list:\n",
    "        return 'Кредит на приобретение недвижимости'\n",
    "    elif 'свадьба' in lemmas_list:\n",
    "        return 'Кредит на свадьбу'\n",
    "    \n",
    "\n",
    "lemmas_dict['lemma'] = lemmas_dict['lemmas_list'].apply(find_lemma)\n",
    "lemmas_dict.drop(['lemmas_list'], axis='columns', inplace=True)\n",
    "lemmas_dict.tail()"
   ]
  },
  {
   "cell_type": "code",
   "execution_count": 40,
   "metadata": {
    "scrolled": false
   },
   "outputs": [
    {
     "name": "stdout",
     "output_type": "stream",
     "text": [
      "<class 'pandas.core.frame.DataFrame'>\n",
      "Int64Index: 21453 entries, 0 to 21452\n",
      "Data columns (total 14 columns):\n",
      "children               21453 non-null int64\n",
      "days_employed          21453 non-null int64\n",
      "dob_years              21453 non-null int64\n",
      "education              21453 non-null object\n",
      "education_id           21453 non-null int64\n",
      "family_status          21453 non-null object\n",
      "family_status_id       21453 non-null int64\n",
      "gender                 21453 non-null object\n",
      "income_type            21453 non-null object\n",
      "debt                   21453 non-null int64\n",
      "total_income           21453 non-null int64\n",
      "purpose                21453 non-null object\n",
      "days_employed_group    21453 non-null object\n",
      "lemma                  21453 non-null object\n",
      "dtypes: int64(7), object(7)\n",
      "memory usage: 2.5+ MB\n"
     ]
    }
   ],
   "source": [
    "# Добавим цели кредита, выделенные из лемм, к изначальным данным.\n",
    "data = data.merge(lemmas_dict)\n",
    "data.info()"
   ]
  },
  {
   "cell_type": "code",
   "execution_count": 41,
   "metadata": {},
   "outputs": [
    {
     "data": {
      "text/html": [
       "<div>\n",
       "<style scoped>\n",
       "    .dataframe tbody tr th:only-of-type {\n",
       "        vertical-align: middle;\n",
       "    }\n",
       "\n",
       "    .dataframe tbody tr th {\n",
       "        vertical-align: top;\n",
       "    }\n",
       "\n",
       "    .dataframe thead th {\n",
       "        text-align: right;\n",
       "    }\n",
       "</style>\n",
       "<table border=\"1\" class=\"dataframe\">\n",
       "  <thead>\n",
       "    <tr style=\"text-align: right;\">\n",
       "      <th></th>\n",
       "      <th>lemma</th>\n",
       "      <th>quantity</th>\n",
       "      <th>percent</th>\n",
       "    </tr>\n",
       "  </thead>\n",
       "  <tbody>\n",
       "    <tr>\n",
       "      <td>0</td>\n",
       "      <td>Кредит на приобретение недвижимости</td>\n",
       "      <td>10203</td>\n",
       "      <td>47.56</td>\n",
       "    </tr>\n",
       "    <tr>\n",
       "      <td>1</td>\n",
       "      <td>Автокредит</td>\n",
       "      <td>4306</td>\n",
       "      <td>20.07</td>\n",
       "    </tr>\n",
       "    <tr>\n",
       "      <td>2</td>\n",
       "      <td>Кредит на образование</td>\n",
       "      <td>4013</td>\n",
       "      <td>18.71</td>\n",
       "    </tr>\n",
       "    <tr>\n",
       "      <td>3</td>\n",
       "      <td>Кредит на свадьбу</td>\n",
       "      <td>2324</td>\n",
       "      <td>10.83</td>\n",
       "    </tr>\n",
       "    <tr>\n",
       "      <td>4</td>\n",
       "      <td>Кредит на ремонт</td>\n",
       "      <td>607</td>\n",
       "      <td>2.83</td>\n",
       "    </tr>\n",
       "  </tbody>\n",
       "</table>\n",
       "</div>"
      ],
      "text/plain": [
       "                                 lemma  quantity  percent\n",
       "0  Кредит на приобретение недвижимости     10203    47.56\n",
       "1                           Автокредит      4306    20.07\n",
       "2                Кредит на образование      4013    18.71\n",
       "3                    Кредит на свадьбу      2324    10.83\n",
       "4                     Кредит на ремонт       607     2.83"
      ]
     },
     "execution_count": 41,
     "metadata": {},
     "output_type": "execute_result"
    }
   ],
   "source": [
    "# Выведем итогвую таблицу с распределением всех значений в выгрузке по целям кредитования\n",
    "lemmas_table = data['lemma'].value_counts().reset_index()\n",
    "lemmas_table.columns = ['lemma', 'quantity']\n",
    "sum = lemmas_table['quantity'].sum()\n",
    "lemmas_table['percent'] = lemmas_table['quantity'] / sum * 100\n",
    "lemmas_table"
   ]
  },
  {
   "cell_type": "markdown",
   "metadata": {},
   "source": [
    "### Вывод"
   ]
  },
  {
   "cell_type": "markdown",
   "metadata": {},
   "source": [
    "Столбец с целями по кредитованию в выгрузке содержал множество смысловых повторов, что затрудняло понимание какие цели кредитования являются наиболее востребованными. С помощью лемматизации были выделены **5 основных целей кредитов** (\"недвижимость\", \"автомобиль\", \"образование\", \"ремонт\" и \"свадьба\"). Самый популярный вид кредитования связан с приобретением недвижимости, его доля составляет чуть менее половины всех записей выгрузки (47,5%), далее идут покупка авто и образование, на них приходится 20% и 19% выбоки соответственно. 11% клиентов берут кредит на свадьбу и еще около 3% на ремонт."
   ]
  },
  {
   "cell_type": "markdown",
   "metadata": {},
   "source": [
    "### Категоризация данных"
   ]
  },
  {
   "cell_type": "markdown",
   "metadata": {},
   "source": [
    "Среди данных в таблице присутствует информация с распределением всех клиентов по категориям, причем в `data` есть как словесное название категории, так и ее id. Эту информацию удобнее было бы выделить в отдельные словари, где названию категории будет соответствовать номер. Создадим словарь с данными об образовании и словарь с данными о семейном положении."
   ]
  },
  {
   "cell_type": "code",
   "execution_count": 42,
   "metadata": {},
   "outputs": [
    {
     "data": {
      "text/html": [
       "<div>\n",
       "<style scoped>\n",
       "    .dataframe tbody tr th:only-of-type {\n",
       "        vertical-align: middle;\n",
       "    }\n",
       "\n",
       "    .dataframe tbody tr th {\n",
       "        vertical-align: top;\n",
       "    }\n",
       "\n",
       "    .dataframe thead th {\n",
       "        text-align: right;\n",
       "    }\n",
       "</style>\n",
       "<table border=\"1\" class=\"dataframe\">\n",
       "  <thead>\n",
       "    <tr style=\"text-align: right;\">\n",
       "      <th></th>\n",
       "      <th>education</th>\n",
       "      <th>education_id</th>\n",
       "    </tr>\n",
       "  </thead>\n",
       "  <tbody>\n",
       "    <tr>\n",
       "      <td>0</td>\n",
       "      <td>высшее</td>\n",
       "      <td>0</td>\n",
       "    </tr>\n",
       "    <tr>\n",
       "      <td>1</td>\n",
       "      <td>среднее</td>\n",
       "      <td>1</td>\n",
       "    </tr>\n",
       "    <tr>\n",
       "      <td>2</td>\n",
       "      <td>неоконченное высшее</td>\n",
       "      <td>2</td>\n",
       "    </tr>\n",
       "    <tr>\n",
       "      <td>3</td>\n",
       "      <td>начальное</td>\n",
       "      <td>3</td>\n",
       "    </tr>\n",
       "    <tr>\n",
       "      <td>4</td>\n",
       "      <td>ученая степень</td>\n",
       "      <td>4</td>\n",
       "    </tr>\n",
       "  </tbody>\n",
       "</table>\n",
       "</div>"
      ],
      "text/plain": [
       "             education  education_id\n",
       "0               высшее             0\n",
       "1              среднее             1\n",
       "2  неоконченное высшее             2\n",
       "3            начальное             3\n",
       "4       ученая степень             4"
      ]
     },
     "execution_count": 42,
     "metadata": {},
     "output_type": "execute_result"
    }
   ],
   "source": [
    "# создаем словарь education\n",
    "education_dict = data[['education','education_id']]\n",
    "education_dict = education_dict.drop_duplicates().reset_index(drop=True)\n",
    "education_dict"
   ]
  },
  {
   "cell_type": "code",
   "execution_count": 43,
   "metadata": {
    "scrolled": false
   },
   "outputs": [
    {
     "data": {
      "text/html": [
       "<div>\n",
       "<style scoped>\n",
       "    .dataframe tbody tr th:only-of-type {\n",
       "        vertical-align: middle;\n",
       "    }\n",
       "\n",
       "    .dataframe tbody tr th {\n",
       "        vertical-align: top;\n",
       "    }\n",
       "\n",
       "    .dataframe thead th {\n",
       "        text-align: right;\n",
       "    }\n",
       "</style>\n",
       "<table border=\"1\" class=\"dataframe\">\n",
       "  <thead>\n",
       "    <tr style=\"text-align: right;\">\n",
       "      <th></th>\n",
       "      <th>family_status</th>\n",
       "      <th>family_status_id</th>\n",
       "    </tr>\n",
       "  </thead>\n",
       "  <tbody>\n",
       "    <tr>\n",
       "      <td>0</td>\n",
       "      <td>женат / замужем</td>\n",
       "      <td>0</td>\n",
       "    </tr>\n",
       "    <tr>\n",
       "      <td>1</td>\n",
       "      <td>гражданский брак</td>\n",
       "      <td>1</td>\n",
       "    </tr>\n",
       "    <tr>\n",
       "      <td>2</td>\n",
       "      <td>Не женат / не замужем</td>\n",
       "      <td>4</td>\n",
       "    </tr>\n",
       "    <tr>\n",
       "      <td>3</td>\n",
       "      <td>вдовец / вдова</td>\n",
       "      <td>2</td>\n",
       "    </tr>\n",
       "    <tr>\n",
       "      <td>4</td>\n",
       "      <td>в разводе</td>\n",
       "      <td>3</td>\n",
       "    </tr>\n",
       "  </tbody>\n",
       "</table>\n",
       "</div>"
      ],
      "text/plain": [
       "           family_status  family_status_id\n",
       "0        женат / замужем                 0\n",
       "1       гражданский брак                 1\n",
       "2  Не женат / не замужем                 4\n",
       "3         вдовец / вдова                 2\n",
       "4              в разводе                 3"
      ]
     },
     "execution_count": 43,
     "metadata": {},
     "output_type": "execute_result"
    }
   ],
   "source": [
    "# создаем словарь family_status\n",
    "family_status_dict = data[['family_status','family_status_id']]\n",
    "family_status_dict = family_status_dict.drop_duplicates().reset_index(drop=True)\n",
    "family_status_dict"
   ]
  },
  {
   "cell_type": "markdown",
   "metadata": {},
   "source": [
    "У каждого клиента указан его возраст, но для целей анализа отдельные значения неудобны, удобнее будет разделить клиентов по группам на основе их возраста. Выделим группы:\n",
    "* до 30 лет\n",
    "* от 30 до 40 лет\n",
    "* от 40 до 50 лет\n",
    "* от 50 до 60 лет\n",
    "* старше 60 лет"
   ]
  },
  {
   "cell_type": "code",
   "execution_count": 44,
   "metadata": {
    "scrolled": true
   },
   "outputs": [
    {
     "data": {
      "text/plain": [
       "30 - 40      5662\n",
       "40 - 50      5354\n",
       "50 - 60      4657\n",
       "до 30        3280\n",
       "больше 60    2500\n",
       "Name: age_group, dtype: int64"
      ]
     },
     "execution_count": 44,
     "metadata": {},
     "output_type": "execute_result"
    }
   ],
   "source": [
    "def age_group(age):\n",
    "    if age < 30:\n",
    "        return 'до 30'\n",
    "    if age < 40:\n",
    "        return '30 - 40'\n",
    "    if age < 50:\n",
    "        return '40 - 50'\n",
    "    if age < 60:   \n",
    "        return '50 - 60'\n",
    "    return 'больше 60'\n",
    "\n",
    "data['age_group'] = data['dob_years'].apply(age_group)\n",
    "data['age_group'].value_counts()"
   ]
  },
  {
   "cell_type": "markdown",
   "metadata": {},
   "source": [
    "У клиентов также есть показатели дохода, но как и в случае с возрастом для целей анализа отдельные значения неудобны, удобнее будет разделить клиентов по группам на основе их дохода. \n",
    "Выделим группы по персентилям:\n",
    "* низкий доход - меньше 25% \n",
    "* доход ниже среднего - 25% - 50% \n",
    "* доход выше среднего - 50% - 75%\n",
    "* высокий доход - больше 75%"
   ]
  },
  {
   "cell_type": "code",
   "execution_count": 45,
   "metadata": {},
   "outputs": [
    {
     "name": "stdout",
     "output_type": "stream",
     "text": [
      "25 персентиль дохода: 107620.0\n",
      "Медианное значение дохода: 156041.0\n",
      "75 персентиль дохода: 195799.0\n"
     ]
    }
   ],
   "source": [
    "\n",
    "income_percentile_25 = np.percentile(data['total_income'], 25)\n",
    "income_percentile_50 = data['total_income'].median()\n",
    "income_percentile_75 = np.percentile(data['total_income'], 75)                        \n",
    "print('25 персентиль дохода: {}'.format(income_percentile_25))\n",
    "print('Медианное значение дохода: {}'.format(income_percentile_50))\n",
    "print('75 персентиль дохода: {}'.format(income_percentile_75))"
   ]
  },
  {
   "cell_type": "code",
   "execution_count": 46,
   "metadata": {
    "scrolled": true
   },
   "outputs": [
    {
     "data": {
      "text/plain": [
       "income_group\n",
       "высокий доход         286496.49\n",
       "доход выше среднего   171356.50\n",
       "доход ниже среднего   130868.54\n",
       "низкий доход           80935.96\n",
       "Name: total_income, dtype: float64"
      ]
     },
     "execution_count": 46,
     "metadata": {},
     "output_type": "execute_result"
    }
   ],
   "source": [
    "def income_group(income):\n",
    "    if income < income_percentile_25:\n",
    "        return 'низкий доход'\n",
    "    if income < income_percentile_50:\n",
    "        return 'доход ниже среднего'\n",
    "    if income < income_percentile_75:\n",
    "        return 'доход выше среднего'\n",
    "    return 'высокий доход'\n",
    "\n",
    "data['income_group'] = data['total_income'].apply(income_group)\n",
    "data.groupby('income_group')['total_income'].mean()"
   ]
  },
  {
   "cell_type": "markdown",
   "metadata": {},
   "source": [
    "### Вывод"
   ]
  },
  {
   "cell_type": "markdown",
   "metadata": {},
   "source": [
    "Создали словари с данными об образовании и с данными о семейном положении, выделение категорий в отдельные таблицы может сэкономить время обработки информации и улучшить визуальную составляющую таблицы. Также выделили категории для анализа данных клиентов в соответствии с их возрастом и в соответствии с уровнем дохода, что намного более наглядно, нежели данные, распределенные непосредственно по возрасту клиентов или непосредственно по сумме ежемесячного дохода. "
   ]
  },
  {
   "cell_type": "markdown",
   "metadata": {},
   "source": [
    "### Шаг 3. Ответьте на вопросы"
   ]
  },
  {
   "cell_type": "markdown",
   "metadata": {},
   "source": [
    "- Есть ли зависимость между наличием детей и возвратом кредита в срок?"
   ]
  },
  {
   "cell_type": "code",
   "execution_count": 47,
   "metadata": {},
   "outputs": [
    {
     "data": {
      "text/html": [
       "<div>\n",
       "<style scoped>\n",
       "    .dataframe tbody tr th:only-of-type {\n",
       "        vertical-align: middle;\n",
       "    }\n",
       "\n",
       "    .dataframe tbody tr th {\n",
       "        vertical-align: top;\n",
       "    }\n",
       "\n",
       "    .dataframe thead th {\n",
       "        text-align: right;\n",
       "    }\n",
       "</style>\n",
       "<table border=\"1\" class=\"dataframe\">\n",
       "  <thead>\n",
       "    <tr style=\"text-align: right;\">\n",
       "      <th>debt</th>\n",
       "      <th>0</th>\n",
       "      <th>1</th>\n",
       "      <th>percent_of_problems_debt</th>\n",
       "    </tr>\n",
       "    <tr>\n",
       "      <th>children</th>\n",
       "      <th></th>\n",
       "      <th></th>\n",
       "      <th></th>\n",
       "    </tr>\n",
       "  </thead>\n",
       "  <tbody>\n",
       "    <tr>\n",
       "      <td>0</td>\n",
       "      <td>13027.00</td>\n",
       "      <td>1063.00</td>\n",
       "      <td>7.54</td>\n",
       "    </tr>\n",
       "    <tr>\n",
       "      <td>1</td>\n",
       "      <td>4410.00</td>\n",
       "      <td>445.00</td>\n",
       "      <td>9.17</td>\n",
       "    </tr>\n",
       "    <tr>\n",
       "      <td>2</td>\n",
       "      <td>1926.00</td>\n",
       "      <td>202.00</td>\n",
       "      <td>9.49</td>\n",
       "    </tr>\n",
       "    <tr>\n",
       "      <td>3</td>\n",
       "      <td>303.00</td>\n",
       "      <td>27.00</td>\n",
       "      <td>8.18</td>\n",
       "    </tr>\n",
       "    <tr>\n",
       "      <td>4</td>\n",
       "      <td>37.00</td>\n",
       "      <td>4.00</td>\n",
       "      <td>9.76</td>\n",
       "    </tr>\n",
       "    <tr>\n",
       "      <td>5</td>\n",
       "      <td>9.00</td>\n",
       "      <td>nan</td>\n",
       "      <td>nan</td>\n",
       "    </tr>\n",
       "  </tbody>\n",
       "</table>\n",
       "</div>"
      ],
      "text/plain": [
       "debt            0       1  percent_of_problems_debt\n",
       "children                                           \n",
       "0        13027.00 1063.00                      7.54\n",
       "1         4410.00  445.00                      9.17\n",
       "2         1926.00  202.00                      9.49\n",
       "3          303.00   27.00                      8.18\n",
       "4           37.00    4.00                      9.76\n",
       "5            9.00     nan                       nan"
      ]
     },
     "execution_count": 47,
     "metadata": {},
     "output_type": "execute_result"
    }
   ],
   "source": [
    "# Посчитаем долю проблемных кредитов в каждой из групп, связанных с наличием/количеством детей.\n",
    "data_pivot_children_debt = data.pivot_table(index=['children'], columns='debt', values='purpose', aggfunc='count') \n",
    "data_pivot_children_debt['percent_of_problems_debt'] = data_pivot_children_debt[1] / (data_pivot_children_debt[1] + data_pivot_children_debt[0]) * 100\n",
    "data_pivot_children_debt"
   ]
  },
  {
   "cell_type": "code",
   "execution_count": 48,
   "metadata": {},
   "outputs": [
    {
     "name": "stdout",
     "output_type": "stream",
     "text": [
      "Доля проблемных кредитов среди клиентов с детьми: 9.2%\n"
     ]
    }
   ],
   "source": [
    "# посчитаем долю проблемных кредитов среди всех клиентов с детьми\n",
    "problem_debt_clients_with_children = data_pivot_children_debt[1].sum() - 1063\n",
    "total_debt_clients_with_children = data_pivot_children_debt[0].sum() - 13027 + problem_debt_clients_with_children\n",
    "print('Доля проблемных кредитов среди клиентов с детьми: {:.1%}'.format(problem_debt_clients_with_children / total_debt_clients_with_children))"
   ]
  },
  {
   "cell_type": "markdown",
   "metadata": {},
   "source": [
    "### Вывод"
   ]
  },
  {
   "cell_type": "markdown",
   "metadata": {},
   "source": [
    "Однозначно сказать, что чем больше количество детей, тем больше доля невозвратных долгов, нельзя (при этом величина группы с 5 детьми настолько мала, что ее не учитываем в формировании выводов). Действительно, минимальная доля проблемных долгов - среди клиентов без детей (7,54% проблемных долгов), а максимальная - среди клиентов с 4 детьми (9,76%), и доля проблемных кредитов возрастает с увеличением количества детей до 1 и 2, а вот при наличии 3 детей - снижается. \n",
    "\n",
    "Если же брать укрупненно две группы клиентов - с детьми и без детей, то явно видно, что **клиенты с детьми хуже соблюдают график погашения**, на их долю приходится 9,2% проблемных задолженностей. То есть в среднем из 1000 заемщиков 92 клиента с детьми имеют проблемы с погашением кредита, тогда как среди клиентов без детей таких на 17 меньше в расчете на 1000 заемщиков."
   ]
  },
  {
   "cell_type": "code",
   "execution_count": 49,
   "metadata": {},
   "outputs": [
    {
     "data": {
      "text/html": [
       "<div>\n",
       "<style scoped>\n",
       "    .dataframe tbody tr th:only-of-type {\n",
       "        vertical-align: middle;\n",
       "    }\n",
       "\n",
       "    .dataframe tbody tr th {\n",
       "        vertical-align: top;\n",
       "    }\n",
       "\n",
       "    .dataframe thead th {\n",
       "        text-align: right;\n",
       "    }\n",
       "</style>\n",
       "<table border=\"1\" class=\"dataframe\">\n",
       "  <thead>\n",
       "    <tr style=\"text-align: right;\">\n",
       "      <th></th>\n",
       "      <th>debt</th>\n",
       "    </tr>\n",
       "    <tr>\n",
       "      <th>children</th>\n",
       "      <th></th>\n",
       "    </tr>\n",
       "  </thead>\n",
       "  <tbody>\n",
       "    <tr>\n",
       "      <td>0</td>\n",
       "      <td>0.08</td>\n",
       "    </tr>\n",
       "    <tr>\n",
       "      <td>1</td>\n",
       "      <td>0.09</td>\n",
       "    </tr>\n",
       "    <tr>\n",
       "      <td>2</td>\n",
       "      <td>0.09</td>\n",
       "    </tr>\n",
       "    <tr>\n",
       "      <td>3</td>\n",
       "      <td>0.08</td>\n",
       "    </tr>\n",
       "    <tr>\n",
       "      <td>4</td>\n",
       "      <td>0.10</td>\n",
       "    </tr>\n",
       "    <tr>\n",
       "      <td>5</td>\n",
       "      <td>0.00</td>\n",
       "    </tr>\n",
       "  </tbody>\n",
       "</table>\n",
       "</div>"
      ],
      "text/plain": [
       "          debt\n",
       "children      \n",
       "0         0.08\n",
       "1         0.09\n",
       "2         0.09\n",
       "3         0.08\n",
       "4         0.10\n",
       "5         0.00"
      ]
     },
     "execution_count": 49,
     "metadata": {},
     "output_type": "execute_result"
    }
   ],
   "source": [
    "data.groupby('children').agg({'debt': 'mean'})"
   ]
  },
  {
   "cell_type": "markdown",
   "metadata": {},
   "source": [
    "- Есть ли зависимость между семейным положением и возвратом кредита в срок?"
   ]
  },
  {
   "cell_type": "code",
   "execution_count": 50,
   "metadata": {
    "scrolled": true
   },
   "outputs": [
    {
     "data": {
      "text/html": [
       "<div>\n",
       "<style scoped>\n",
       "    .dataframe tbody tr th:only-of-type {\n",
       "        vertical-align: middle;\n",
       "    }\n",
       "\n",
       "    .dataframe tbody tr th {\n",
       "        vertical-align: top;\n",
       "    }\n",
       "\n",
       "    .dataframe thead th {\n",
       "        text-align: right;\n",
       "    }\n",
       "</style>\n",
       "<table border=\"1\" class=\"dataframe\">\n",
       "  <thead>\n",
       "    <tr style=\"text-align: right;\">\n",
       "      <th>debt</th>\n",
       "      <th>0</th>\n",
       "      <th>1</th>\n",
       "      <th>percent_of_problems_debt</th>\n",
       "    </tr>\n",
       "    <tr>\n",
       "      <th>family_status</th>\n",
       "      <th></th>\n",
       "      <th></th>\n",
       "      <th></th>\n",
       "    </tr>\n",
       "  </thead>\n",
       "  <tbody>\n",
       "    <tr>\n",
       "      <td>вдовец / вдова</td>\n",
       "      <td>896</td>\n",
       "      <td>63</td>\n",
       "      <td>6.57</td>\n",
       "    </tr>\n",
       "    <tr>\n",
       "      <td>в разводе</td>\n",
       "      <td>1110</td>\n",
       "      <td>85</td>\n",
       "      <td>7.11</td>\n",
       "    </tr>\n",
       "    <tr>\n",
       "      <td>женат / замужем</td>\n",
       "      <td>11408</td>\n",
       "      <td>931</td>\n",
       "      <td>7.55</td>\n",
       "    </tr>\n",
       "    <tr>\n",
       "      <td>гражданский брак</td>\n",
       "      <td>3762</td>\n",
       "      <td>388</td>\n",
       "      <td>9.35</td>\n",
       "    </tr>\n",
       "    <tr>\n",
       "      <td>Не женат / не замужем</td>\n",
       "      <td>2536</td>\n",
       "      <td>274</td>\n",
       "      <td>9.75</td>\n",
       "    </tr>\n",
       "  </tbody>\n",
       "</table>\n",
       "</div>"
      ],
      "text/plain": [
       "debt                       0    1  percent_of_problems_debt\n",
       "family_status                                              \n",
       "вдовец / вдова           896   63                      6.57\n",
       "в разводе               1110   85                      7.11\n",
       "женат / замужем        11408  931                      7.55\n",
       "гражданский брак        3762  388                      9.35\n",
       "Не женат / не замужем   2536  274                      9.75"
      ]
     },
     "execution_count": 50,
     "metadata": {},
     "output_type": "execute_result"
    }
   ],
   "source": [
    "# Аналогично, посчитаем долю проблемных кредитов в каждой из групп, связанных с семеным положением\n",
    "data_pivot_family_status_debt = data.pivot_table(index=['family_status'], columns='debt', values='purpose', aggfunc='count') \n",
    "data_pivot_family_status_debt['percent_of_problems_debt'] = data_pivot_family_status_debt[1] / (data_pivot_family_status_debt[1] + data_pivot_family_status_debt[0]) * 100\n",
    "data_pivot_family_status_debt.sort_values(by='percent_of_problems_debt')"
   ]
  },
  {
   "cell_type": "code",
   "execution_count": 51,
   "metadata": {},
   "outputs": [
    {
     "data": {
      "text/html": [
       "<div>\n",
       "<style scoped>\n",
       "    .dataframe tbody tr th:only-of-type {\n",
       "        vertical-align: middle;\n",
       "    }\n",
       "\n",
       "    .dataframe tbody tr th {\n",
       "        vertical-align: top;\n",
       "    }\n",
       "\n",
       "    .dataframe thead th {\n",
       "        text-align: right;\n",
       "    }\n",
       "</style>\n",
       "<table border=\"1\" class=\"dataframe\">\n",
       "  <thead>\n",
       "    <tr style=\"text-align: right;\">\n",
       "      <th>debt</th>\n",
       "      <th>0</th>\n",
       "      <th>1</th>\n",
       "      <th>percent_of_problems_debt</th>\n",
       "    </tr>\n",
       "    <tr>\n",
       "      <th>age_group</th>\n",
       "      <th></th>\n",
       "      <th></th>\n",
       "      <th></th>\n",
       "    </tr>\n",
       "  </thead>\n",
       "  <tbody>\n",
       "    <tr>\n",
       "      <td>больше 60</td>\n",
       "      <td>2377</td>\n",
       "      <td>123</td>\n",
       "      <td>4.92</td>\n",
       "    </tr>\n",
       "    <tr>\n",
       "      <td>50 - 60</td>\n",
       "      <td>4352</td>\n",
       "      <td>305</td>\n",
       "      <td>6.55</td>\n",
       "    </tr>\n",
       "    <tr>\n",
       "      <td>40 - 50</td>\n",
       "      <td>4950</td>\n",
       "      <td>404</td>\n",
       "      <td>7.55</td>\n",
       "    </tr>\n",
       "    <tr>\n",
       "      <td>30 - 40</td>\n",
       "      <td>5110</td>\n",
       "      <td>552</td>\n",
       "      <td>9.75</td>\n",
       "    </tr>\n",
       "    <tr>\n",
       "      <td>до 30</td>\n",
       "      <td>2923</td>\n",
       "      <td>357</td>\n",
       "      <td>10.88</td>\n",
       "    </tr>\n",
       "  </tbody>\n",
       "</table>\n",
       "</div>"
      ],
      "text/plain": [
       "debt          0    1  percent_of_problems_debt\n",
       "age_group                                     \n",
       "больше 60  2377  123                      4.92\n",
       "50 - 60    4352  305                      6.55\n",
       "40 - 50    4950  404                      7.55\n",
       "30 - 40    5110  552                      9.75\n",
       "до 30      2923  357                     10.88"
      ]
     },
     "execution_count": 51,
     "metadata": {},
     "output_type": "execute_result"
    }
   ],
   "source": [
    "data_pivot_age_group_debt = data.pivot_table(index=['age_group'], columns='debt', values='purpose', aggfunc='count') \n",
    "data_pivot_age_group_debt['percent_of_problems_debt'] = data_pivot_age_group_debt[1] / (data_pivot_age_group_debt[1] + data_pivot_age_group_debt[0]) * 100\n",
    "data_pivot_age_group_debt.sort_values(by='percent_of_problems_debt')"
   ]
  },
  {
   "cell_type": "markdown",
   "metadata": {},
   "source": [
    "### Вывод"
   ]
  },
  {
   "cell_type": "markdown",
   "metadata": {},
   "source": [
    "**Наименьшая доля проблемных долгов (6,57%) среди вдовствующих клиентов**, но скорее это могло бы объясняться не семейным положением, а тем, что данные люди скорее всего относятся к старшему поколению и могут более взвешенно подходить к решению кредитования и более ответственно относиться к долгам. **Наибольшая доля проблемных долгов (9,75%) в группе одиноких людей**, и скорее всего большую долю здесь занимает молодежь, которая напротив может быть более импульсивной в принятии решений и менее ответственно относиться к погашению долга. В качестве индикатора для скоринговой модели этот фактор будет скорее всего малопоказательным, действительно более четкую заивисимость можно проследить по возрастным категориям, о чем было сделано предположение ранее. В самом молодом возрасте доля проблемных кредитов наибольшая (10,88%), затем снижается в каждом следующем возрастном десятилетии и достигает минимума показателя проблемности долгов в пожилом возрасте (4,92%), что более чем в 2 раза ниже показателя среди молодежи."
   ]
  },
  {
   "cell_type": "markdown",
   "metadata": {},
   "source": [
    "- Есть ли зависимость между уровнем дохода и возвратом кредита в срок?"
   ]
  },
  {
   "cell_type": "code",
   "execution_count": 52,
   "metadata": {
    "scrolled": true
   },
   "outputs": [
    {
     "data": {
      "text/html": [
       "<div>\n",
       "<style scoped>\n",
       "    .dataframe tbody tr th:only-of-type {\n",
       "        vertical-align: middle;\n",
       "    }\n",
       "\n",
       "    .dataframe tbody tr th {\n",
       "        vertical-align: top;\n",
       "    }\n",
       "\n",
       "    .dataframe thead th {\n",
       "        text-align: right;\n",
       "    }\n",
       "</style>\n",
       "<table border=\"1\" class=\"dataframe\">\n",
       "  <thead>\n",
       "    <tr style=\"text-align: right;\">\n",
       "      <th>debt</th>\n",
       "      <th>0</th>\n",
       "      <th>1</th>\n",
       "      <th>percent_of_problems_debt</th>\n",
       "    </tr>\n",
       "    <tr>\n",
       "      <th>income_group</th>\n",
       "      <th></th>\n",
       "      <th></th>\n",
       "      <th></th>\n",
       "    </tr>\n",
       "  </thead>\n",
       "  <tbody>\n",
       "    <tr>\n",
       "      <td>высокий доход</td>\n",
       "      <td>4981</td>\n",
       "      <td>383</td>\n",
       "      <td>7.14</td>\n",
       "    </tr>\n",
       "    <tr>\n",
       "      <td>доход выше среднего</td>\n",
       "      <td>4900</td>\n",
       "      <td>463</td>\n",
       "      <td>8.63</td>\n",
       "    </tr>\n",
       "    <tr>\n",
       "      <td>доход ниже среднего</td>\n",
       "      <td>4895</td>\n",
       "      <td>468</td>\n",
       "      <td>8.73</td>\n",
       "    </tr>\n",
       "    <tr>\n",
       "      <td>низкий доход</td>\n",
       "      <td>4936</td>\n",
       "      <td>427</td>\n",
       "      <td>7.96</td>\n",
       "    </tr>\n",
       "  </tbody>\n",
       "</table>\n",
       "</div>"
      ],
      "text/plain": [
       "debt                    0    1  percent_of_problems_debt\n",
       "income_group                                            \n",
       "высокий доход        4981  383                      7.14\n",
       "доход выше среднего  4900  463                      8.63\n",
       "доход ниже среднего  4895  468                      8.73\n",
       "низкий доход         4936  427                      7.96"
      ]
     },
     "execution_count": 52,
     "metadata": {},
     "output_type": "execute_result"
    }
   ],
   "source": [
    "data_pivot_income_group_debt = data.pivot_table(index=['income_group'], columns='debt', values='purpose', aggfunc='count') \n",
    "data_pivot_income_group_debt['percent_of_problems_debt'] = data_pivot_income_group_debt[1] / (data_pivot_income_group_debt[1] + data_pivot_income_group_debt[0]) * 100\n",
    "data_pivot_income_group_debt"
   ]
  },
  {
   "cell_type": "markdown",
   "metadata": {},
   "source": [
    "### Вывод"
   ]
  },
  {
   "cell_type": "markdown",
   "metadata": {},
   "source": [
    "Наиболее часто проблемы с выплатами долга встречаются у клиентов, доходы которых ниже среднего (находятся между 25 и 50 персентилями) - у 87 человек из 1000, наименее часто проблемные долги бывают у клиентов с высоким уровнем дохода (выше 75 персентиля) - у 71 человек из 1000."
   ]
  },
  {
   "cell_type": "markdown",
   "metadata": {},
   "source": [
    "- Как разные цели кредита влияют на его возврат в срок?"
   ]
  },
  {
   "cell_type": "code",
   "execution_count": 53,
   "metadata": {},
   "outputs": [
    {
     "data": {
      "text/html": [
       "<div>\n",
       "<style scoped>\n",
       "    .dataframe tbody tr th:only-of-type {\n",
       "        vertical-align: middle;\n",
       "    }\n",
       "\n",
       "    .dataframe tbody tr th {\n",
       "        vertical-align: top;\n",
       "    }\n",
       "\n",
       "    .dataframe thead th {\n",
       "        text-align: right;\n",
       "    }\n",
       "</style>\n",
       "<table border=\"1\" class=\"dataframe\">\n",
       "  <thead>\n",
       "    <tr style=\"text-align: right;\">\n",
       "      <th>debt</th>\n",
       "      <th>0</th>\n",
       "      <th>1</th>\n",
       "      <th>percent_of_problems_debt</th>\n",
       "    </tr>\n",
       "    <tr>\n",
       "      <th>lemma</th>\n",
       "      <th></th>\n",
       "      <th></th>\n",
       "      <th></th>\n",
       "    </tr>\n",
       "  </thead>\n",
       "  <tbody>\n",
       "    <tr>\n",
       "      <td>Кредит на ремонт</td>\n",
       "      <td>572</td>\n",
       "      <td>35</td>\n",
       "      <td>5.77</td>\n",
       "    </tr>\n",
       "    <tr>\n",
       "      <td>Кредит на приобретение недвижимости</td>\n",
       "      <td>9456</td>\n",
       "      <td>747</td>\n",
       "      <td>7.32</td>\n",
       "    </tr>\n",
       "    <tr>\n",
       "      <td>Кредит на свадьбу</td>\n",
       "      <td>2138</td>\n",
       "      <td>186</td>\n",
       "      <td>8.00</td>\n",
       "    </tr>\n",
       "    <tr>\n",
       "      <td>Кредит на образование</td>\n",
       "      <td>3643</td>\n",
       "      <td>370</td>\n",
       "      <td>9.22</td>\n",
       "    </tr>\n",
       "    <tr>\n",
       "      <td>Автокредит</td>\n",
       "      <td>3903</td>\n",
       "      <td>403</td>\n",
       "      <td>9.36</td>\n",
       "    </tr>\n",
       "  </tbody>\n",
       "</table>\n",
       "</div>"
      ],
      "text/plain": [
       "debt                                    0    1  percent_of_problems_debt\n",
       "lemma                                                                   \n",
       "Кредит на ремонт                      572   35                      5.77\n",
       "Кредит на приобретение недвижимости  9456  747                      7.32\n",
       "Кредит на свадьбу                    2138  186                      8.00\n",
       "Кредит на образование                3643  370                      9.22\n",
       "Автокредит                           3903  403                      9.36"
      ]
     },
     "execution_count": 53,
     "metadata": {},
     "output_type": "execute_result"
    }
   ],
   "source": [
    "data_pivot_purpose_lemma_debt = data.pivot_table(index=['lemma'], columns='debt', values='purpose', aggfunc='count') \n",
    "data_pivot_purpose_lemma_debt['percent_of_problems_debt'] = data_pivot_purpose_lemma_debt[1] / (data_pivot_purpose_lemma_debt[1] + data_pivot_purpose_lemma_debt[0]) * 100\n",
    "data_pivot_purpose_lemma_debt.sort_values(by='percent_of_problems_debt')"
   ]
  },
  {
   "cell_type": "markdown",
   "metadata": {},
   "source": [
    "### Вывод"
   ]
  },
  {
   "cell_type": "markdown",
   "metadata": {},
   "source": [
    "**Меньше всего проблемных долгов у людей, берущих кредит на ремонт (5,77%)**, вероятно это люди уже более-менее состоявшиеся, с собственным жильем и более ответственным подходом к погашению долгов, при этом кредит на такую цель будет скорее всего относительно небольшим и на короткий срок.\n",
    "\n",
    "Среди клиентов, берущих кредит на недвижимость, доля проблемных долгов уже выше (7,32%). Скорее всего, если смотреть эту группу более подробно, она не будет однородной - в ней будут как молодые люди, которые могут не иметь стабильного дохода и ухудшать статистику по группе, так и люди старшего возраста, оформляющие кредиты для покупки жилья детям и более аккуратно относящиеся к возврату долга. Неоднородность вероятнее всего будет выражаться и в том, какой тип недвижимости предполагается брать с помощью заемных средств - жилую или коммерческую.\n",
    "\n",
    "Свадебные кредиты имеют проблемы с погашением в 8 случаев из 100. Брак - рискованная затея, а кредит на свадьбу - тем более :) Нередко молодые люди разводятся, а кредит на свадьу остается, кто именно будет платить - непонятно, возникают проблемы с погашением.\n",
    "\n",
    "Несколько неожиданно, что образовательный кредит имеет высокий процент проблемных долгов (92 из 1000 займов), но, возможно, это объясняется тем, что некоторых студентов отчисляют, а студент, недостаточно ответственно подходивший к вопросам обучения и отчисленный из учебного заведения, будет именно также относиться к вопросу погашения долга.\n",
    "\n",
    "И **наиболее проблемные среди типов кредита - это автокредиты**, проблемных среди них 9,36%. Это может быть связано, например, с тем, что предмет кредита может быть утрачен, скажем, в случае аварии, статистика по которым несомненно удручает. Несмотря на то, что банки обычно ставят условием наличие КАСКО при автостраховании, это не всегда может защитить от ситуации, когда автомобиля уже нет, а кредит платить нужно.  "
   ]
  },
  {
   "cell_type": "markdown",
   "metadata": {},
   "source": [
    "### Шаг 4. Общий вывод"
   ]
  },
  {
   "cell_type": "markdown",
   "metadata": {},
   "source": [
    "В представленных данных были обнаружены следующие проблемы:\n",
    "- отсутствие данных по стажу и доходу в 10% случаев\n",
    "- ошибки в количестве детей (отрицательные значения, слишком большие цифры)\n",
    "- артефакт в колонке gender у одной записи\n",
    "- отрицательные значения трудового стажа\n",
    "- повторяющиеся значения в категориях уровня образования\n",
    "- синонимичные не унифицированные значения в целях кредитования\n",
    "- отсутствие категоризации в данных по возрасту и доходам клиентов.\n",
    "\n",
    "Для устранения указанных недостатков была сделана предобработка данных – ошибочные значения заменены на ближайшие по смыслу, пропущенные значения добавлены на основе средней величины, дубликаты удалены, данные по трудовому стажу унифицированы, цели кредитования лемматизированы и также унифицированы по 5 основным направлениям кредитования, проведена категоризация данных возраста и доходов клиентов.\n",
    "\n",
    "На основании обработанных данных были сделаны выводы о зависимостях возврата кредитов по следующим критериям:\n",
    "- критерий наличия детей – клиенты с детьми чаще имеют проблемную задолженность в отличие от клиентов без детей (9,2% клиентов с детьми имеют проблемную задолженность против 7,5% клиентов без детей);\n",
    "- критерий семейное положение – наименьшая доля проблемных долгов среди вдовствующих клиентов (6,6%), наибольшая доля – в группе одиночек (9,8%). В качестве индикатора для скоринговой модели этот фактор будет скорее всего малопоказательным, более четкую зависимость можно проследить по возрастным категориям;\n",
    "- критерий уровня дохода – анализ был проведен по 4 группам дохода (низкий, ниже среднего, выше среднего и высокий), наиболее часто проблемы с выплатами долга встречаются у клиентов, доходы которых ниже среднего (находятся между 25 и 50 персентилями) - у 87 человек из 1000, наименее часто проблемные долги бывают у клиентов с высоким уровнем дохода (выше 75 персентиля) - у 71 человек из 1000;\n",
    "- критерий целевого назначения кредита – в зависимости от цели уровень проблемности долгов разнится почти в 2 раза. Наименьший уровень проблемных долгов соответствуют цели «ремонт» (5,8%), наибольшая доля проблемных долгов у автокредитов (9,4%)\n"
   ]
  }
 ],
 "metadata": {
  "kernelspec": {
   "display_name": "Python 3",
   "language": "python",
   "name": "python3"
  },
  "language_info": {
   "codemirror_mode": {
    "name": "ipython",
    "version": 3
   },
   "file_extension": ".py",
   "mimetype": "text/x-python",
   "name": "python",
   "nbconvert_exporter": "python",
   "pygments_lexer": "ipython3",
   "version": "3.7.8"
  },
  "toc": {
   "base_numbering": 1,
   "nav_menu": {},
   "number_sections": false,
   "sideBar": true,
   "skip_h1_title": true,
   "title_cell": "Table of Contents",
   "title_sidebar": "Contents",
   "toc_cell": false,
   "toc_position": {},
   "toc_section_display": true,
   "toc_window_display": true
  }
 },
 "nbformat": 4,
 "nbformat_minor": 2
}

{
 "cells": [
  {
   "cell_type": "markdown",
   "metadata": {},
   "source": [
    "<div style=\"background: #1e2761; color: white; padding: 10px; font-size: 18pt\">\n",
    "<b><center>Определение перспективного тарифа для телеком компании<b>\n",
    "    \n",
    "</div> "
   ]
  },
  {
   "cell_type": "markdown",
   "metadata": {},
   "source": [
    "<font size=\"5\">Оглавление</font>\n",
    "\n",
    "[Описание задачи](#description)  \n",
    "[Импорты и настройки](#imports)\n",
    "\n",
    "[Шаг 1. Изучение общей информации](#start)  \n",
    "* [1.1 Звонки](#calls)\n",
    "* [1.2 Интернет](#internet)\n",
    "* [1.3 СМС](#messages)\n",
    "* [1.4 Тарифы](#tariffs)\n",
    "* [1.5 Пользователи](#users)  \n",
    "\n",
    "[Вывод по шагу 1](#start_conclusion)\n",
    "\n",
    "[Шаг 2. Предобработка данных](#preprocessing)  \n",
    "* [2.1 Обработка аномальных значений](#illogic)\n",
    "* [2.2 Округление значений](#round)\n",
    "* [2.3 Приведение типов](#types)\n",
    "* [2.4 Добавление расчетных данных](#adding_data)  \n",
    "\n",
    "[Вывод по шагу 2](#preprocessing_conclusion)\n",
    "\n",
    "[Шаг 3. Анализ поведения клиентов](#analysis)  \n",
    "[Вывод по шагу 3](#analysis_conclusion)\n",
    "\n",
    "[Шаг 4. Проверка гипотез](#tests)\n",
    "* [4.1 Различия в средней выручке по тарифам](#tests_income_tarif)\n",
    "* [4.2 Различия в средней выручке по регионам](#tests_income_location)\n",
    "\n",
    "[Вывод по шагу 4](#tests_conclusion)\n",
    "\n",
    "[Общий вывод](#total_conclusion)\n",
    "\n",
    "------"
   ]
  },
  {
   "cell_type": "markdown",
   "metadata": {},
   "source": [
    "<a id='description'></a>\n",
    "## Описание задачи\n",
    "\n",
    "\n",
    "«Мегалайн» — федеральный оператор сотовой связи. Клиентам предлагают два тарифных плана: «Смарт» и «Ультра». Чтобы скорректировать рекламный бюджет, коммерческий департамент хочет понять, какой тариф приносит больше денег.\n",
    "Необходимо сделать предварительный анализ тарифов на небольшой выборке клиентов. В нашем распоряжении данные 500 пользователей «Мегалайна»: кто они, откуда, каким тарифом пользуются, сколько звонков и сообщений каждый отправил за 2018 год. Нужно проанализировать поведение клиентов и сделать вывод — какой тариф лучше."
   ]
  },
  {
   "cell_type": "markdown",
   "metadata": {},
   "source": [
    "<a id='imports'></a>\n",
    "### Импорты и настройки"
   ]
  },
  {
   "cell_type": "code",
   "execution_count": 1,
   "metadata": {},
   "outputs": [],
   "source": [
    "import pandas as pd\n",
    "import numpy as np\n",
    "from scipy import stats as st\n",
    "import matplotlib.pyplot as plt\n",
    "from matplotlib.ticker import FormatStrFormatter"
   ]
  },
  {
   "cell_type": "code",
   "execution_count": 2,
   "metadata": {},
   "outputs": [],
   "source": [
    "pd.set_option('display.float_format', '{:.2f}'.format)\n",
    "pd.set_option('display.max_columns', None)"
   ]
  },
  {
   "cell_type": "markdown",
   "metadata": {},
   "source": [
    "<a id='start'></a>\n",
    "## Шаг 1. Изучение общей информации"
   ]
  },
  {
   "cell_type": "code",
   "execution_count": 3,
   "metadata": {},
   "outputs": [],
   "source": [
    "calls = pd.read_csv('/datasets/calls.csv')\n",
    "internet = pd.read_csv('/datasets/internet.csv')\n",
    "messages = pd.read_csv('/datasets/messages.csv')\n",
    "tariffs = pd.read_csv('/datasets/tariffs.csv')\n",
    "users = pd.read_csv('/datasets/users.csv')"
   ]
  },
  {
   "cell_type": "code",
   "execution_count": 4,
   "metadata": {},
   "outputs": [],
   "source": [
    "def first_look(df):\n",
    "    display(df.info())\n",
    "    display(df.head(5))\n",
    "    display(df.describe())"
   ]
  },
  {
   "cell_type": "markdown",
   "metadata": {},
   "source": [
    "<a id='calls'></a>\n",
    "### 1.1 Звонки"
   ]
  },
  {
   "cell_type": "code",
   "execution_count": 5,
   "metadata": {
    "scrolled": false
   },
   "outputs": [
    {
     "name": "stdout",
     "output_type": "stream",
     "text": [
      "<class 'pandas.core.frame.DataFrame'>\n",
      "RangeIndex: 202607 entries, 0 to 202606\n",
      "Data columns (total 4 columns):\n",
      "id           202607 non-null object\n",
      "call_date    202607 non-null object\n",
      "duration     202607 non-null float64\n",
      "user_id      202607 non-null int64\n",
      "dtypes: float64(1), int64(1), object(2)\n",
      "memory usage: 6.2+ MB\n"
     ]
    },
    {
     "data": {
      "text/plain": [
       "None"
      ]
     },
     "metadata": {},
     "output_type": "display_data"
    },
    {
     "data": {
      "text/html": [
       "<div>\n",
       "<style scoped>\n",
       "    .dataframe tbody tr th:only-of-type {\n",
       "        vertical-align: middle;\n",
       "    }\n",
       "\n",
       "    .dataframe tbody tr th {\n",
       "        vertical-align: top;\n",
       "    }\n",
       "\n",
       "    .dataframe thead th {\n",
       "        text-align: right;\n",
       "    }\n",
       "</style>\n",
       "<table border=\"1\" class=\"dataframe\">\n",
       "  <thead>\n",
       "    <tr style=\"text-align: right;\">\n",
       "      <th></th>\n",
       "      <th>id</th>\n",
       "      <th>call_date</th>\n",
       "      <th>duration</th>\n",
       "      <th>user_id</th>\n",
       "    </tr>\n",
       "  </thead>\n",
       "  <tbody>\n",
       "    <tr>\n",
       "      <td>0</td>\n",
       "      <td>1000_0</td>\n",
       "      <td>2018-07-25</td>\n",
       "      <td>0.00</td>\n",
       "      <td>1000</td>\n",
       "    </tr>\n",
       "    <tr>\n",
       "      <td>1</td>\n",
       "      <td>1000_1</td>\n",
       "      <td>2018-08-17</td>\n",
       "      <td>0.00</td>\n",
       "      <td>1000</td>\n",
       "    </tr>\n",
       "    <tr>\n",
       "      <td>2</td>\n",
       "      <td>1000_2</td>\n",
       "      <td>2018-06-11</td>\n",
       "      <td>2.85</td>\n",
       "      <td>1000</td>\n",
       "    </tr>\n",
       "    <tr>\n",
       "      <td>3</td>\n",
       "      <td>1000_3</td>\n",
       "      <td>2018-09-21</td>\n",
       "      <td>13.80</td>\n",
       "      <td>1000</td>\n",
       "    </tr>\n",
       "    <tr>\n",
       "      <td>4</td>\n",
       "      <td>1000_4</td>\n",
       "      <td>2018-12-15</td>\n",
       "      <td>5.18</td>\n",
       "      <td>1000</td>\n",
       "    </tr>\n",
       "  </tbody>\n",
       "</table>\n",
       "</div>"
      ],
      "text/plain": [
       "       id   call_date  duration  user_id\n",
       "0  1000_0  2018-07-25      0.00     1000\n",
       "1  1000_1  2018-08-17      0.00     1000\n",
       "2  1000_2  2018-06-11      2.85     1000\n",
       "3  1000_3  2018-09-21     13.80     1000\n",
       "4  1000_4  2018-12-15      5.18     1000"
      ]
     },
     "metadata": {},
     "output_type": "display_data"
    },
    {
     "data": {
      "text/html": [
       "<div>\n",
       "<style scoped>\n",
       "    .dataframe tbody tr th:only-of-type {\n",
       "        vertical-align: middle;\n",
       "    }\n",
       "\n",
       "    .dataframe tbody tr th {\n",
       "        vertical-align: top;\n",
       "    }\n",
       "\n",
       "    .dataframe thead th {\n",
       "        text-align: right;\n",
       "    }\n",
       "</style>\n",
       "<table border=\"1\" class=\"dataframe\">\n",
       "  <thead>\n",
       "    <tr style=\"text-align: right;\">\n",
       "      <th></th>\n",
       "      <th>duration</th>\n",
       "      <th>user_id</th>\n",
       "    </tr>\n",
       "  </thead>\n",
       "  <tbody>\n",
       "    <tr>\n",
       "      <td>count</td>\n",
       "      <td>202607.00</td>\n",
       "      <td>202607.00</td>\n",
       "    </tr>\n",
       "    <tr>\n",
       "      <td>mean</td>\n",
       "      <td>6.76</td>\n",
       "      <td>1253.94</td>\n",
       "    </tr>\n",
       "    <tr>\n",
       "      <td>std</td>\n",
       "      <td>5.84</td>\n",
       "      <td>144.72</td>\n",
       "    </tr>\n",
       "    <tr>\n",
       "      <td>min</td>\n",
       "      <td>0.00</td>\n",
       "      <td>1000.00</td>\n",
       "    </tr>\n",
       "    <tr>\n",
       "      <td>25%</td>\n",
       "      <td>1.30</td>\n",
       "      <td>1126.00</td>\n",
       "    </tr>\n",
       "    <tr>\n",
       "      <td>50%</td>\n",
       "      <td>6.00</td>\n",
       "      <td>1260.00</td>\n",
       "    </tr>\n",
       "    <tr>\n",
       "      <td>75%</td>\n",
       "      <td>10.70</td>\n",
       "      <td>1379.00</td>\n",
       "    </tr>\n",
       "    <tr>\n",
       "      <td>max</td>\n",
       "      <td>38.00</td>\n",
       "      <td>1499.00</td>\n",
       "    </tr>\n",
       "  </tbody>\n",
       "</table>\n",
       "</div>"
      ],
      "text/plain": [
       "       duration   user_id\n",
       "count 202607.00 202607.00\n",
       "mean       6.76   1253.94\n",
       "std        5.84    144.72\n",
       "min        0.00   1000.00\n",
       "25%        1.30   1126.00\n",
       "50%        6.00   1260.00\n",
       "75%       10.70   1379.00\n",
       "max       38.00   1499.00"
      ]
     },
     "metadata": {},
     "output_type": "display_data"
    }
   ],
   "source": [
    "first_look(calls)"
   ]
  },
  {
   "cell_type": "markdown",
   "metadata": {},
   "source": [
    "Таблица со звонками содержит информацию в разрезе каждого звонка (по ключу `id`) - дату, продолжительность и `id` клиента. Пропусков в столбцах нет. Данные столбца `call_date` нужно в явном виде привести к `datetime`, чтобы иметь возможность работать с ними как с датой.\n",
    "\n",
    "Минимальное значение продолжительности разговора составляет 0 минут, возможно, это входящие или пропущенные звонки, после дополнительного анализа примем решение о необходимости присутствия их в датафрейме.\n",
    "\n",
    "Количество минут в таблице представлено в виде дробных чисел, тарификация же производится по значениям, округленным до целого количества минут, для корректного начисления сумм необходимо округлить вверх значения длительности разговоров."
   ]
  },
  {
   "cell_type": "code",
   "execution_count": 6,
   "metadata": {},
   "outputs": [
    {
     "data": {
      "text/plain": [
       "39613"
      ]
     },
     "execution_count": 6,
     "metadata": {},
     "output_type": "execute_result"
    }
   ],
   "source": [
    "len(calls[calls['duration'] == 0])"
   ]
  },
  {
   "cell_type": "code",
   "execution_count": 7,
   "metadata": {
    "scrolled": false
   },
   "outputs": [
    {
     "data": {
      "text/plain": [
       "Text(0.5, 0, 'Длительность звонка, мин.')"
      ]
     },
     "execution_count": 7,
     "metadata": {},
     "output_type": "execute_result"
    },
    {
     "data": {
      "image/png": "[encoded data removed]",
      "text/plain": [
       "<Figure size 432x288 with 1 Axes>"
      ]
     },
     "metadata": {
      "needs_background": "light"
     },
     "output_type": "display_data"
    }
   ],
   "source": [
    "calls['duration'].hist(bins=25)\n",
    "plt.title('Распределение количества звонков клиентов выборки по длительности, 2018г')\n",
    "plt.ylabel('Количество звонков, шт')\n",
    "plt.xlabel('Длительность звонка, мин.')"
   ]
  },
  {
   "cell_type": "markdown",
   "metadata": {},
   "source": [
    "Как и было обнаружено, большое количество звонков в районе 0 выглядят как выброс, без них распределение будет похоже на нормальное. Остановимся на предположении, что это пропущенные или не отвеченные вызовы, для целей анализа они не представляют ценности, т.к. не могут быть протарифицированы, поэтому удалим строки с длительностью вызовов равным 0. "
   ]
  },
  {
   "cell_type": "markdown",
   "metadata": {},
   "source": [
    "<a id='internet'></a>\n",
    "### 1.2 Интернет"
   ]
  },
  {
   "cell_type": "code",
   "execution_count": 8,
   "metadata": {},
   "outputs": [
    {
     "name": "stdout",
     "output_type": "stream",
     "text": [
      "<class 'pandas.core.frame.DataFrame'>\n",
      "RangeIndex: 149396 entries, 0 to 149395\n",
      "Data columns (total 5 columns):\n",
      "Unnamed: 0      149396 non-null int64\n",
      "id              149396 non-null object\n",
      "mb_used         149396 non-null float64\n",
      "session_date    149396 non-null object\n",
      "user_id         149396 non-null int64\n",
      "dtypes: float64(1), int64(2), object(2)\n",
      "memory usage: 5.7+ MB\n"
     ]
    },
    {
     "data": {
      "text/plain": [
       "None"
      ]
     },
     "metadata": {},
     "output_type": "display_data"
    },
    {
     "data": {
      "text/html": [
       "<div>\n",
       "<style scoped>\n",
       "    .dataframe tbody tr th:only-of-type {\n",
       "        vertical-align: middle;\n",
       "    }\n",
       "\n",
       "    .dataframe tbody tr th {\n",
       "        vertical-align: top;\n",
       "    }\n",
       "\n",
       "    .dataframe thead th {\n",
       "        text-align: right;\n",
       "    }\n",
       "</style>\n",
       "<table border=\"1\" class=\"dataframe\">\n",
       "  <thead>\n",
       "    <tr style=\"text-align: right;\">\n",
       "      <th></th>\n",
       "      <th>Unnamed: 0</th>\n",
       "      <th>id</th>\n",
       "      <th>mb_used</th>\n",
       "      <th>session_date</th>\n",
       "      <th>user_id</th>\n",
       "    </tr>\n",
       "  </thead>\n",
       "  <tbody>\n",
       "    <tr>\n",
       "      <td>0</td>\n",
       "      <td>0</td>\n",
       "      <td>1000_0</td>\n",
       "      <td>112.95</td>\n",
       "      <td>2018-11-25</td>\n",
       "      <td>1000</td>\n",
       "    </tr>\n",
       "    <tr>\n",
       "      <td>1</td>\n",
       "      <td>1</td>\n",
       "      <td>1000_1</td>\n",
       "      <td>1052.81</td>\n",
       "      <td>2018-09-07</td>\n",
       "      <td>1000</td>\n",
       "    </tr>\n",
       "    <tr>\n",
       "      <td>2</td>\n",
       "      <td>2</td>\n",
       "      <td>1000_2</td>\n",
       "      <td>1197.26</td>\n",
       "      <td>2018-06-25</td>\n",
       "      <td>1000</td>\n",
       "    </tr>\n",
       "    <tr>\n",
       "      <td>3</td>\n",
       "      <td>3</td>\n",
       "      <td>1000_3</td>\n",
       "      <td>550.27</td>\n",
       "      <td>2018-08-22</td>\n",
       "      <td>1000</td>\n",
       "    </tr>\n",
       "    <tr>\n",
       "      <td>4</td>\n",
       "      <td>4</td>\n",
       "      <td>1000_4</td>\n",
       "      <td>302.56</td>\n",
       "      <td>2018-09-24</td>\n",
       "      <td>1000</td>\n",
       "    </tr>\n",
       "  </tbody>\n",
       "</table>\n",
       "</div>"
      ],
      "text/plain": [
       "   Unnamed: 0      id  mb_used session_date  user_id\n",
       "0           0  1000_0   112.95   2018-11-25     1000\n",
       "1           1  1000_1  1052.81   2018-09-07     1000\n",
       "2           2  1000_2  1197.26   2018-06-25     1000\n",
       "3           3  1000_3   550.27   2018-08-22     1000\n",
       "4           4  1000_4   302.56   2018-09-24     1000"
      ]
     },
     "metadata": {},
     "output_type": "display_data"
    },
    {
     "data": {
      "text/html": [
       "<div>\n",
       "<style scoped>\n",
       "    .dataframe tbody tr th:only-of-type {\n",
       "        vertical-align: middle;\n",
       "    }\n",
       "\n",
       "    .dataframe tbody tr th {\n",
       "        vertical-align: top;\n",
       "    }\n",
       "\n",
       "    .dataframe thead th {\n",
       "        text-align: right;\n",
       "    }\n",
       "</style>\n",
       "<table border=\"1\" class=\"dataframe\">\n",
       "  <thead>\n",
       "    <tr style=\"text-align: right;\">\n",
       "      <th></th>\n",
       "      <th>Unnamed: 0</th>\n",
       "      <th>mb_used</th>\n",
       "      <th>user_id</th>\n",
       "    </tr>\n",
       "  </thead>\n",
       "  <tbody>\n",
       "    <tr>\n",
       "      <td>count</td>\n",
       "      <td>149396.00</td>\n",
       "      <td>149396.00</td>\n",
       "      <td>149396.00</td>\n",
       "    </tr>\n",
       "    <tr>\n",
       "      <td>mean</td>\n",
       "      <td>74697.50</td>\n",
       "      <td>370.19</td>\n",
       "      <td>1252.10</td>\n",
       "    </tr>\n",
       "    <tr>\n",
       "      <td>std</td>\n",
       "      <td>43127.05</td>\n",
       "      <td>278.30</td>\n",
       "      <td>144.05</td>\n",
       "    </tr>\n",
       "    <tr>\n",
       "      <td>min</td>\n",
       "      <td>0.00</td>\n",
       "      <td>0.00</td>\n",
       "      <td>1000.00</td>\n",
       "    </tr>\n",
       "    <tr>\n",
       "      <td>25%</td>\n",
       "      <td>37348.75</td>\n",
       "      <td>138.19</td>\n",
       "      <td>1130.00</td>\n",
       "    </tr>\n",
       "    <tr>\n",
       "      <td>50%</td>\n",
       "      <td>74697.50</td>\n",
       "      <td>348.01</td>\n",
       "      <td>1251.00</td>\n",
       "    </tr>\n",
       "    <tr>\n",
       "      <td>75%</td>\n",
       "      <td>112046.25</td>\n",
       "      <td>559.55</td>\n",
       "      <td>1380.00</td>\n",
       "    </tr>\n",
       "    <tr>\n",
       "      <td>max</td>\n",
       "      <td>149395.00</td>\n",
       "      <td>1724.83</td>\n",
       "      <td>1499.00</td>\n",
       "    </tr>\n",
       "  </tbody>\n",
       "</table>\n",
       "</div>"
      ],
      "text/plain": [
       "       Unnamed: 0   mb_used   user_id\n",
       "count   149396.00 149396.00 149396.00\n",
       "mean     74697.50    370.19   1252.10\n",
       "std      43127.05    278.30    144.05\n",
       "min          0.00      0.00   1000.00\n",
       "25%      37348.75    138.19   1130.00\n",
       "50%      74697.50    348.01   1251.00\n",
       "75%     112046.25    559.55   1380.00\n",
       "max     149395.00   1724.83   1499.00"
      ]
     },
     "metadata": {},
     "output_type": "display_data"
    }
   ],
   "source": [
    "first_look(internet)"
   ]
  },
  {
   "cell_type": "markdown",
   "metadata": {},
   "source": [
    "Таблица с интернет траффиком содержит информацию в разрезе каждого подключения (по ключу `id`) - дата, потраченные Мб, `id` клиента. Пропусков в данных нет, столбец `session_date` приведем к формату `datetime`. Столбец `Unnamed: 0` не содержит ценной информации, дублирует столбец с индексами, поэтому удалим его.\n",
    "\n",
    "Минимальное значение потраченных Мб составляет 0, после дополнительного анализа примем решение о необходимости присутствия этих данных в датафрейме.\n",
    "\n",
    "Аналогично минутам количество потраченных Мб в таблице представлено в виде дробных чисел, для корректного начисления сумм в дальнейшем, необходимо округлить вверх значения интернет-траффика."
   ]
  },
  {
   "cell_type": "code",
   "execution_count": 9,
   "metadata": {
    "scrolled": true
   },
   "outputs": [
    {
     "data": {
      "text/plain": [
       "19598"
      ]
     },
     "execution_count": 9,
     "metadata": {},
     "output_type": "execute_result"
    }
   ],
   "source": [
    "len(internet[internet['mb_used'] == 0])"
   ]
  },
  {
   "cell_type": "code",
   "execution_count": 10,
   "metadata": {
    "scrolled": false
   },
   "outputs": [
    {
     "data": {
      "text/plain": [
       "Text(0.5, 0, 'Траффик, Мб.')"
      ]
     },
     "execution_count": 10,
     "metadata": {},
     "output_type": "execute_result"
    },
    {
     "data": {
      "image/png": "[encoded data removed]",
      "text/plain": [
       "<Figure size 432x288 with 1 Axes>"
      ]
     },
     "metadata": {
      "needs_background": "light"
     },
     "output_type": "display_data"
    }
   ],
   "source": [
    "internet['mb_used'].hist(bins=25)\n",
    "plt.title('Распределение кол-ва подключений клиентов выборки по затраченным Мб, 2018г')\n",
    "plt.ylabel('Количество подключений, шт')\n",
    "plt.xlabel('Траффик, Мб.')"
   ]
  },
  {
   "cell_type": "markdown",
   "metadata": {},
   "source": [
    "Аналогично звонкам большое количество подключений с нулевым траффиком выглядят аномальными, без них распределение будет похоже на нормальное. Т.к. нулевые подключения не могут быть протарифицированы, удалим эти строки из выборки."
   ]
  },
  {
   "cell_type": "markdown",
   "metadata": {},
   "source": [
    "<a id='messages'></a>\n",
    "### 1.3 СМС"
   ]
  },
  {
   "cell_type": "code",
   "execution_count": 11,
   "metadata": {},
   "outputs": [
    {
     "name": "stdout",
     "output_type": "stream",
     "text": [
      "<class 'pandas.core.frame.DataFrame'>\n",
      "RangeIndex: 123036 entries, 0 to 123035\n",
      "Data columns (total 3 columns):\n",
      "id              123036 non-null object\n",
      "message_date    123036 non-null object\n",
      "user_id         123036 non-null int64\n",
      "dtypes: int64(1), object(2)\n",
      "memory usage: 2.8+ MB\n"
     ]
    },
    {
     "data": {
      "text/plain": [
       "None"
      ]
     },
     "metadata": {},
     "output_type": "display_data"
    },
    {
     "data": {
      "text/html": [
       "<div>\n",
       "<style scoped>\n",
       "    .dataframe tbody tr th:only-of-type {\n",
       "        vertical-align: middle;\n",
       "    }\n",
       "\n",
       "    .dataframe tbody tr th {\n",
       "        vertical-align: top;\n",
       "    }\n",
       "\n",
       "    .dataframe thead th {\n",
       "        text-align: right;\n",
       "    }\n",
       "</style>\n",
       "<table border=\"1\" class=\"dataframe\">\n",
       "  <thead>\n",
       "    <tr style=\"text-align: right;\">\n",
       "      <th></th>\n",
       "      <th>id</th>\n",
       "      <th>message_date</th>\n",
       "      <th>user_id</th>\n",
       "    </tr>\n",
       "  </thead>\n",
       "  <tbody>\n",
       "    <tr>\n",
       "      <td>0</td>\n",
       "      <td>1000_0</td>\n",
       "      <td>2018-06-27</td>\n",
       "      <td>1000</td>\n",
       "    </tr>\n",
       "    <tr>\n",
       "      <td>1</td>\n",
       "      <td>1000_1</td>\n",
       "      <td>2018-10-08</td>\n",
       "      <td>1000</td>\n",
       "    </tr>\n",
       "    <tr>\n",
       "      <td>2</td>\n",
       "      <td>1000_2</td>\n",
       "      <td>2018-08-04</td>\n",
       "      <td>1000</td>\n",
       "    </tr>\n",
       "    <tr>\n",
       "      <td>3</td>\n",
       "      <td>1000_3</td>\n",
       "      <td>2018-06-16</td>\n",
       "      <td>1000</td>\n",
       "    </tr>\n",
       "    <tr>\n",
       "      <td>4</td>\n",
       "      <td>1000_4</td>\n",
       "      <td>2018-12-05</td>\n",
       "      <td>1000</td>\n",
       "    </tr>\n",
       "  </tbody>\n",
       "</table>\n",
       "</div>"
      ],
      "text/plain": [
       "       id message_date  user_id\n",
       "0  1000_0   2018-06-27     1000\n",
       "1  1000_1   2018-10-08     1000\n",
       "2  1000_2   2018-08-04     1000\n",
       "3  1000_3   2018-06-16     1000\n",
       "4  1000_4   2018-12-05     1000"
      ]
     },
     "metadata": {},
     "output_type": "display_data"
    },
    {
     "data": {
      "text/html": [
       "<div>\n",
       "<style scoped>\n",
       "    .dataframe tbody tr th:only-of-type {\n",
       "        vertical-align: middle;\n",
       "    }\n",
       "\n",
       "    .dataframe tbody tr th {\n",
       "        vertical-align: top;\n",
       "    }\n",
       "\n",
       "    .dataframe thead th {\n",
       "        text-align: right;\n",
       "    }\n",
       "</style>\n",
       "<table border=\"1\" class=\"dataframe\">\n",
       "  <thead>\n",
       "    <tr style=\"text-align: right;\">\n",
       "      <th></th>\n",
       "      <th>user_id</th>\n",
       "    </tr>\n",
       "  </thead>\n",
       "  <tbody>\n",
       "    <tr>\n",
       "      <td>count</td>\n",
       "      <td>123036.00</td>\n",
       "    </tr>\n",
       "    <tr>\n",
       "      <td>mean</td>\n",
       "      <td>1256.99</td>\n",
       "    </tr>\n",
       "    <tr>\n",
       "      <td>std</td>\n",
       "      <td>143.52</td>\n",
       "    </tr>\n",
       "    <tr>\n",
       "      <td>min</td>\n",
       "      <td>1000.00</td>\n",
       "    </tr>\n",
       "    <tr>\n",
       "      <td>25%</td>\n",
       "      <td>1134.00</td>\n",
       "    </tr>\n",
       "    <tr>\n",
       "      <td>50%</td>\n",
       "      <td>1271.00</td>\n",
       "    </tr>\n",
       "    <tr>\n",
       "      <td>75%</td>\n",
       "      <td>1381.00</td>\n",
       "    </tr>\n",
       "    <tr>\n",
       "      <td>max</td>\n",
       "      <td>1499.00</td>\n",
       "    </tr>\n",
       "  </tbody>\n",
       "</table>\n",
       "</div>"
      ],
      "text/plain": [
       "        user_id\n",
       "count 123036.00\n",
       "mean    1256.99\n",
       "std      143.52\n",
       "min     1000.00\n",
       "25%     1134.00\n",
       "50%     1271.00\n",
       "75%     1381.00\n",
       "max     1499.00"
      ]
     },
     "metadata": {},
     "output_type": "display_data"
    }
   ],
   "source": [
    "first_look(messages)"
   ]
  },
  {
   "cell_type": "markdown",
   "metadata": {},
   "source": [
    "Таблица с данными по СМС содержит информацию в разрезе каждого сообщени (по ключу `id`) - дату сообщения и `id` клинета. Пропусков в данных нет, столбец `message_date` нужно привести к формату `datetime`."
   ]
  },
  {
   "cell_type": "markdown",
   "metadata": {},
   "source": [
    "<a id='tariffs'></a>\n",
    "### 1.4 Тарифы"
   ]
  },
  {
   "cell_type": "code",
   "execution_count": 12,
   "metadata": {
    "scrolled": false
   },
   "outputs": [
    {
     "name": "stdout",
     "output_type": "stream",
     "text": [
      "<class 'pandas.core.frame.DataFrame'>\n",
      "RangeIndex: 2 entries, 0 to 1\n",
      "Data columns (total 8 columns):\n",
      "messages_included        2 non-null int64\n",
      "mb_per_month_included    2 non-null int64\n",
      "minutes_included         2 non-null int64\n",
      "rub_monthly_fee          2 non-null int64\n",
      "rub_per_gb               2 non-null int64\n",
      "rub_per_message          2 non-null int64\n",
      "rub_per_minute           2 non-null int64\n",
      "tariff_name              2 non-null object\n",
      "dtypes: int64(7), object(1)\n",
      "memory usage: 256.0+ bytes\n"
     ]
    },
    {
     "data": {
      "text/plain": [
       "None"
      ]
     },
     "metadata": {},
     "output_type": "display_data"
    },
    {
     "data": {
      "text/html": [
       "<div>\n",
       "<style scoped>\n",
       "    .dataframe tbody tr th:only-of-type {\n",
       "        vertical-align: middle;\n",
       "    }\n",
       "\n",
       "    .dataframe tbody tr th {\n",
       "        vertical-align: top;\n",
       "    }\n",
       "\n",
       "    .dataframe thead th {\n",
       "        text-align: right;\n",
       "    }\n",
       "</style>\n",
       "<table border=\"1\" class=\"dataframe\">\n",
       "  <thead>\n",
       "    <tr style=\"text-align: right;\">\n",
       "      <th></th>\n",
       "      <th>messages_included</th>\n",
       "      <th>mb_per_month_included</th>\n",
       "      <th>minutes_included</th>\n",
       "      <th>rub_monthly_fee</th>\n",
       "      <th>rub_per_gb</th>\n",
       "      <th>rub_per_message</th>\n",
       "      <th>rub_per_minute</th>\n",
       "      <th>tariff_name</th>\n",
       "    </tr>\n",
       "  </thead>\n",
       "  <tbody>\n",
       "    <tr>\n",
       "      <td>0</td>\n",
       "      <td>50</td>\n",
       "      <td>15360</td>\n",
       "      <td>500</td>\n",
       "      <td>550</td>\n",
       "      <td>200</td>\n",
       "      <td>3</td>\n",
       "      <td>3</td>\n",
       "      <td>smart</td>\n",
       "    </tr>\n",
       "    <tr>\n",
       "      <td>1</td>\n",
       "      <td>1000</td>\n",
       "      <td>30720</td>\n",
       "      <td>3000</td>\n",
       "      <td>1950</td>\n",
       "      <td>150</td>\n",
       "      <td>1</td>\n",
       "      <td>1</td>\n",
       "      <td>ultra</td>\n",
       "    </tr>\n",
       "  </tbody>\n",
       "</table>\n",
       "</div>"
      ],
      "text/plain": [
       "   messages_included  mb_per_month_included  minutes_included  \\\n",
       "0                 50                  15360               500   \n",
       "1               1000                  30720              3000   \n",
       "\n",
       "   rub_monthly_fee  rub_per_gb  rub_per_message  rub_per_minute tariff_name  \n",
       "0              550         200                3               3       smart  \n",
       "1             1950         150                1               1       ultra  "
      ]
     },
     "metadata": {},
     "output_type": "display_data"
    },
    {
     "data": {
      "text/html": [
       "<div>\n",
       "<style scoped>\n",
       "    .dataframe tbody tr th:only-of-type {\n",
       "        vertical-align: middle;\n",
       "    }\n",
       "\n",
       "    .dataframe tbody tr th {\n",
       "        vertical-align: top;\n",
       "    }\n",
       "\n",
       "    .dataframe thead th {\n",
       "        text-align: right;\n",
       "    }\n",
       "</style>\n",
       "<table border=\"1\" class=\"dataframe\">\n",
       "  <thead>\n",
       "    <tr style=\"text-align: right;\">\n",
       "      <th></th>\n",
       "      <th>messages_included</th>\n",
       "      <th>mb_per_month_included</th>\n",
       "      <th>minutes_included</th>\n",
       "      <th>rub_monthly_fee</th>\n",
       "      <th>rub_per_gb</th>\n",
       "      <th>rub_per_message</th>\n",
       "      <th>rub_per_minute</th>\n",
       "    </tr>\n",
       "  </thead>\n",
       "  <tbody>\n",
       "    <tr>\n",
       "      <td>count</td>\n",
       "      <td>2.00</td>\n",
       "      <td>2.00</td>\n",
       "      <td>2.00</td>\n",
       "      <td>2.00</td>\n",
       "      <td>2.00</td>\n",
       "      <td>2.00</td>\n",
       "      <td>2.00</td>\n",
       "    </tr>\n",
       "    <tr>\n",
       "      <td>mean</td>\n",
       "      <td>525.00</td>\n",
       "      <td>23040.00</td>\n",
       "      <td>1750.00</td>\n",
       "      <td>1250.00</td>\n",
       "      <td>175.00</td>\n",
       "      <td>2.00</td>\n",
       "      <td>2.00</td>\n",
       "    </tr>\n",
       "    <tr>\n",
       "      <td>std</td>\n",
       "      <td>671.75</td>\n",
       "      <td>10861.16</td>\n",
       "      <td>1767.77</td>\n",
       "      <td>989.95</td>\n",
       "      <td>35.36</td>\n",
       "      <td>1.41</td>\n",
       "      <td>1.41</td>\n",
       "    </tr>\n",
       "    <tr>\n",
       "      <td>min</td>\n",
       "      <td>50.00</td>\n",
       "      <td>15360.00</td>\n",
       "      <td>500.00</td>\n",
       "      <td>550.00</td>\n",
       "      <td>150.00</td>\n",
       "      <td>1.00</td>\n",
       "      <td>1.00</td>\n",
       "    </tr>\n",
       "    <tr>\n",
       "      <td>25%</td>\n",
       "      <td>287.50</td>\n",
       "      <td>19200.00</td>\n",
       "      <td>1125.00</td>\n",
       "      <td>900.00</td>\n",
       "      <td>162.50</td>\n",
       "      <td>1.50</td>\n",
       "      <td>1.50</td>\n",
       "    </tr>\n",
       "    <tr>\n",
       "      <td>50%</td>\n",
       "      <td>525.00</td>\n",
       "      <td>23040.00</td>\n",
       "      <td>1750.00</td>\n",
       "      <td>1250.00</td>\n",
       "      <td>175.00</td>\n",
       "      <td>2.00</td>\n",
       "      <td>2.00</td>\n",
       "    </tr>\n",
       "    <tr>\n",
       "      <td>75%</td>\n",
       "      <td>762.50</td>\n",
       "      <td>26880.00</td>\n",
       "      <td>2375.00</td>\n",
       "      <td>1600.00</td>\n",
       "      <td>187.50</td>\n",
       "      <td>2.50</td>\n",
       "      <td>2.50</td>\n",
       "    </tr>\n",
       "    <tr>\n",
       "      <td>max</td>\n",
       "      <td>1000.00</td>\n",
       "      <td>30720.00</td>\n",
       "      <td>3000.00</td>\n",
       "      <td>1950.00</td>\n",
       "      <td>200.00</td>\n",
       "      <td>3.00</td>\n",
       "      <td>3.00</td>\n",
       "    </tr>\n",
       "  </tbody>\n",
       "</table>\n",
       "</div>"
      ],
      "text/plain": [
       "       messages_included  mb_per_month_included  minutes_included  \\\n",
       "count               2.00                   2.00              2.00   \n",
       "mean              525.00               23040.00           1750.00   \n",
       "std               671.75               10861.16           1767.77   \n",
       "min                50.00               15360.00            500.00   \n",
       "25%               287.50               19200.00           1125.00   \n",
       "50%               525.00               23040.00           1750.00   \n",
       "75%               762.50               26880.00           2375.00   \n",
       "max              1000.00               30720.00           3000.00   \n",
       "\n",
       "       rub_monthly_fee  rub_per_gb  rub_per_message  rub_per_minute  \n",
       "count             2.00        2.00             2.00            2.00  \n",
       "mean           1250.00      175.00             2.00            2.00  \n",
       "std             989.95       35.36             1.41            1.41  \n",
       "min             550.00      150.00             1.00            1.00  \n",
       "25%             900.00      162.50             1.50            1.50  \n",
       "50%            1250.00      175.00             2.00            2.00  \n",
       "75%            1600.00      187.50             2.50            2.50  \n",
       "max            1950.00      200.00             3.00            3.00  "
      ]
     },
     "metadata": {},
     "output_type": "display_data"
    }
   ],
   "source": [
    "first_look(tariffs)"
   ]
  },
  {
   "cell_type": "markdown",
   "metadata": {},
   "source": [
    "Таблица с тарифами состоит из 2 строк, каждая из которых содержит информацию по одному из анализируемых тарифов - \"smart\"  и \"ultra\". В информацию о тарифах включено: объемы минут, интернет-траффика и смс, покрываемые абонентской платой, размер абонентской платы, а также стоимость тарификации минут, интернет-траффика и смс свыше лимита. Информация в таблице корректна и соответствует предоставленному словесному описанию тарифов."
   ]
  },
  {
   "cell_type": "markdown",
   "metadata": {},
   "source": [
    "<a id='users'></a>\n",
    "### 1.5 Пользователи"
   ]
  },
  {
   "cell_type": "code",
   "execution_count": 13,
   "metadata": {},
   "outputs": [
    {
     "name": "stdout",
     "output_type": "stream",
     "text": [
      "<class 'pandas.core.frame.DataFrame'>\n",
      "RangeIndex: 500 entries, 0 to 499\n",
      "Data columns (total 8 columns):\n",
      "user_id       500 non-null int64\n",
      "age           500 non-null int64\n",
      "churn_date    38 non-null object\n",
      "city          500 non-null object\n",
      "first_name    500 non-null object\n",
      "last_name     500 non-null object\n",
      "reg_date      500 non-null object\n",
      "tariff        500 non-null object\n",
      "dtypes: int64(2), object(6)\n",
      "memory usage: 31.4+ KB\n"
     ]
    },
    {
     "data": {
      "text/plain": [
       "None"
      ]
     },
     "metadata": {},
     "output_type": "display_data"
    },
    {
     "data": {
      "text/html": [
       "<div>\n",
       "<style scoped>\n",
       "    .dataframe tbody tr th:only-of-type {\n",
       "        vertical-align: middle;\n",
       "    }\n",
       "\n",
       "    .dataframe tbody tr th {\n",
       "        vertical-align: top;\n",
       "    }\n",
       "\n",
       "    .dataframe thead th {\n",
       "        text-align: right;\n",
       "    }\n",
       "</style>\n",
       "<table border=\"1\" class=\"dataframe\">\n",
       "  <thead>\n",
       "    <tr style=\"text-align: right;\">\n",
       "      <th></th>\n",
       "      <th>user_id</th>\n",
       "      <th>age</th>\n",
       "      <th>churn_date</th>\n",
       "      <th>city</th>\n",
       "      <th>first_name</th>\n",
       "      <th>last_name</th>\n",
       "      <th>reg_date</th>\n",
       "      <th>tariff</th>\n",
       "    </tr>\n",
       "  </thead>\n",
       "  <tbody>\n",
       "    <tr>\n",
       "      <td>0</td>\n",
       "      <td>1000</td>\n",
       "      <td>52</td>\n",
       "      <td>NaN</td>\n",
       "      <td>Краснодар</td>\n",
       "      <td>Рафаил</td>\n",
       "      <td>Верещагин</td>\n",
       "      <td>2018-05-25</td>\n",
       "      <td>ultra</td>\n",
       "    </tr>\n",
       "    <tr>\n",
       "      <td>1</td>\n",
       "      <td>1001</td>\n",
       "      <td>41</td>\n",
       "      <td>NaN</td>\n",
       "      <td>Москва</td>\n",
       "      <td>Иван</td>\n",
       "      <td>Ежов</td>\n",
       "      <td>2018-11-01</td>\n",
       "      <td>smart</td>\n",
       "    </tr>\n",
       "    <tr>\n",
       "      <td>2</td>\n",
       "      <td>1002</td>\n",
       "      <td>59</td>\n",
       "      <td>NaN</td>\n",
       "      <td>Стерлитамак</td>\n",
       "      <td>Евгений</td>\n",
       "      <td>Абрамович</td>\n",
       "      <td>2018-06-17</td>\n",
       "      <td>smart</td>\n",
       "    </tr>\n",
       "    <tr>\n",
       "      <td>3</td>\n",
       "      <td>1003</td>\n",
       "      <td>23</td>\n",
       "      <td>NaN</td>\n",
       "      <td>Москва</td>\n",
       "      <td>Белла</td>\n",
       "      <td>Белякова</td>\n",
       "      <td>2018-08-17</td>\n",
       "      <td>ultra</td>\n",
       "    </tr>\n",
       "    <tr>\n",
       "      <td>4</td>\n",
       "      <td>1004</td>\n",
       "      <td>68</td>\n",
       "      <td>NaN</td>\n",
       "      <td>Новокузнецк</td>\n",
       "      <td>Татьяна</td>\n",
       "      <td>Авдеенко</td>\n",
       "      <td>2018-05-14</td>\n",
       "      <td>ultra</td>\n",
       "    </tr>\n",
       "  </tbody>\n",
       "</table>\n",
       "</div>"
      ],
      "text/plain": [
       "   user_id  age churn_date         city first_name  last_name    reg_date  \\\n",
       "0     1000   52        NaN    Краснодар     Рафаил  Верещагин  2018-05-25   \n",
       "1     1001   41        NaN       Москва       Иван       Ежов  2018-11-01   \n",
       "2     1002   59        NaN  Стерлитамак    Евгений  Абрамович  2018-06-17   \n",
       "3     1003   23        NaN       Москва      Белла   Белякова  2018-08-17   \n",
       "4     1004   68        NaN  Новокузнецк    Татьяна   Авдеенко  2018-05-14   \n",
       "\n",
       "  tariff  \n",
       "0  ultra  \n",
       "1  smart  \n",
       "2  smart  \n",
       "3  ultra  \n",
       "4  ultra  "
      ]
     },
     "metadata": {},
     "output_type": "display_data"
    },
    {
     "data": {
      "text/html": [
       "<div>\n",
       "<style scoped>\n",
       "    .dataframe tbody tr th:only-of-type {\n",
       "        vertical-align: middle;\n",
       "    }\n",
       "\n",
       "    .dataframe tbody tr th {\n",
       "        vertical-align: top;\n",
       "    }\n",
       "\n",
       "    .dataframe thead th {\n",
       "        text-align: right;\n",
       "    }\n",
       "</style>\n",
       "<table border=\"1\" class=\"dataframe\">\n",
       "  <thead>\n",
       "    <tr style=\"text-align: right;\">\n",
       "      <th></th>\n",
       "      <th>user_id</th>\n",
       "      <th>age</th>\n",
       "    </tr>\n",
       "  </thead>\n",
       "  <tbody>\n",
       "    <tr>\n",
       "      <td>count</td>\n",
       "      <td>500.00</td>\n",
       "      <td>500.00</td>\n",
       "    </tr>\n",
       "    <tr>\n",
       "      <td>mean</td>\n",
       "      <td>1249.50</td>\n",
       "      <td>46.59</td>\n",
       "    </tr>\n",
       "    <tr>\n",
       "      <td>std</td>\n",
       "      <td>144.48</td>\n",
       "      <td>16.67</td>\n",
       "    </tr>\n",
       "    <tr>\n",
       "      <td>min</td>\n",
       "      <td>1000.00</td>\n",
       "      <td>18.00</td>\n",
       "    </tr>\n",
       "    <tr>\n",
       "      <td>25%</td>\n",
       "      <td>1124.75</td>\n",
       "      <td>32.00</td>\n",
       "    </tr>\n",
       "    <tr>\n",
       "      <td>50%</td>\n",
       "      <td>1249.50</td>\n",
       "      <td>46.00</td>\n",
       "    </tr>\n",
       "    <tr>\n",
       "      <td>75%</td>\n",
       "      <td>1374.25</td>\n",
       "      <td>62.00</td>\n",
       "    </tr>\n",
       "    <tr>\n",
       "      <td>max</td>\n",
       "      <td>1499.00</td>\n",
       "      <td>75.00</td>\n",
       "    </tr>\n",
       "  </tbody>\n",
       "</table>\n",
       "</div>"
      ],
      "text/plain": [
       "       user_id    age\n",
       "count   500.00 500.00\n",
       "mean   1249.50  46.59\n",
       "std     144.48  16.67\n",
       "min    1000.00  18.00\n",
       "25%    1124.75  32.00\n",
       "50%    1249.50  46.00\n",
       "75%    1374.25  62.00\n",
       "max    1499.00  75.00"
      ]
     },
     "metadata": {},
     "output_type": "display_data"
    }
   ],
   "source": [
    "first_look(users)"
   ]
  },
  {
   "cell_type": "markdown",
   "metadata": {},
   "source": [
    "Таблица с информацией о 500 пользователях представлена в разрезе уникальных `id` клиентов. В 7 из 8 столбцов присутствуют все данные. В колонке с датой прекращения действия тарифа (`churn_date`) заполнено 38 значений, значит, у остальных пользователей тариф действующий. Данные в столбцах `reg_date` и `churn_date` необходимо привести к формату `datetime`."
   ]
  },
  {
   "cell_type": "code",
   "execution_count": 14,
   "metadata": {},
   "outputs": [
    {
     "data": {
      "text/plain": [
       "<matplotlib.axes._subplots.AxesSubplot at 0x7f9896a84d90>"
      ]
     },
     "execution_count": 14,
     "metadata": {},
     "output_type": "execute_result"
    },
    {
     "data": {
      "image/png": "[encoded data removed]",
      "text/plain": [
       "<Figure size 432x288 with 1 Axes>"
      ]
     },
     "metadata": {
      "needs_background": "light"
     },
     "output_type": "display_data"
    }
   ],
   "source": [
    "pd.cut(users['age'], 10).value_counts().sort_index().plot(kind='bar')"
   ]
  },
  {
   "cell_type": "markdown",
   "metadata": {},
   "source": [
    "Группы клиентов по возрасту представлены достаточно равномерно"
   ]
  },
  {
   "cell_type": "code",
   "execution_count": 15,
   "metadata": {
    "scrolled": true
   },
   "outputs": [
    {
     "data": {
      "text/plain": [
       "tariff\n",
       "smart    23\n",
       "ultra    15\n",
       "Name: user_id, dtype: int64"
      ]
     },
     "execution_count": 15,
     "metadata": {},
     "output_type": "execute_result"
    }
   ],
   "source": [
    "users[users['churn_date'].notna()].groupby('tariff')['user_id'].count()"
   ]
  },
  {
   "cell_type": "markdown",
   "metadata": {},
   "source": [
    "Клиенты прекращают пользоваться как одним, так и другим тарифом, мы не можем сделать предположения о заведомо неинтересном тарифе для клиентов."
   ]
  },
  {
   "cell_type": "code",
   "execution_count": 16,
   "metadata": {
    "scrolled": true
   },
   "outputs": [
    {
     "data": {
      "text/plain": [
       "array(['Краснодар', 'Москва', 'Стерлитамак', 'Новокузнецк',\n",
       "       'Набережные Челны', 'Ульяновск', 'Челябинск', 'Пермь', 'Тюмень',\n",
       "       'Самара', 'Санкт-Петербург', 'Иваново', 'Чебоксары', 'Омск', 'Уфа',\n",
       "       'Томск', 'Чита', 'Мурманск', 'Петрозаводск', 'Тверь',\n",
       "       'Екатеринбург', 'Махачкала', 'Вологда', 'Череповец', 'Ярославль',\n",
       "       'Сочи', 'Хабаровск', 'Ставрополь', 'Рязань', 'Улан-Удэ', 'Тула',\n",
       "       'Саратов', 'Ростов-на-Дону', 'Казань', 'Иркутск', 'Курск',\n",
       "       'Калуга', 'Якутск', 'Астрахань', 'Химки', 'Владикавказ',\n",
       "       'Волгоград', 'Саранск', 'Ижевск', 'Новосибирск', 'Брянск',\n",
       "       'Тольятти', 'Нижний Тагил', 'Орёл', 'Белгород', 'Воронеж',\n",
       "       'Волжский', 'Курган', 'Барнаул', 'Красноярск', 'Архангельск',\n",
       "       'Липецк', 'Кемерово', 'Киров', 'Сургут', 'Пенза', 'Магнитогорск',\n",
       "       'Нижний Новгород', 'Кострома', 'Владивосток', 'Тамбов', 'Балашиха',\n",
       "       'Севастополь', 'Калининград', 'Оренбург', 'Смоленск',\n",
       "       'Нижневартовск', 'Владимир', 'Новороссийск', 'Грозный', 'Подольск'],\n",
       "      dtype=object)"
      ]
     },
     "execution_count": 16,
     "metadata": {},
     "output_type": "execute_result"
    }
   ],
   "source": [
    "users['city'].unique()"
   ]
  },
  {
   "cell_type": "markdown",
   "metadata": {},
   "source": [
    "Место проживания пользователей унифицированы и не содержат некорректных записей"
   ]
  },
  {
   "cell_type": "code",
   "execution_count": 17,
   "metadata": {},
   "outputs": [
    {
     "data": {
      "text/plain": [
       "smart    351\n",
       "ultra    149\n",
       "Name: tariff, dtype: int64"
      ]
     },
     "execution_count": 17,
     "metadata": {},
     "output_type": "execute_result"
    },
    {
     "data": {
      "image/png": "[encoded data removed]",
      "text/plain": [
       "<Figure size 504x360 with 1 Axes>"
      ]
     },
     "metadata": {},
     "output_type": "display_data"
    }
   ],
   "source": [
    "users['tariff'].value_counts().plot(kind='pie', autopct='%1.f%%', figsize=(7,5))\n",
    "users['tariff'].value_counts()"
   ]
  },
  {
   "cell_type": "markdown",
   "metadata": {},
   "source": [
    "Подавляющее большинство клиентов выборки (70%) предпочли тариф \"smart\" (и, вероятно, чувствовали себя весьма smart при этом), проанализируем в дальнейшем насколько этот выбор соответствует стратегии компании, стремящейся к увеличению своего дохода."
   ]
  },
  {
   "cell_type": "markdown",
   "metadata": {},
   "source": [
    "<a id='start_conclusion'></a>\n",
    "## Вывод по шагу 1"
   ]
  },
  {
   "cell_type": "markdown",
   "metadata": {},
   "source": [
    "Полученные данные довольно \"чистые\" и нуждаются в минимальной предобработке:  \n",
    "1. Для удобства дальнейшего анализа обработаем аномальные значения, т.е. удалим строки с нулевыми значениями потраченных минут и интернет-траффика в соответствующих таблицах. Удалим `Unnamed: 0` столбец таблицы `internet`. \n",
    "2. Для корректной тарификации и расчета выручки необходимо округлить вверх значения потраченных минут и интернет-траффика в разрезе каждой операции.\n",
    "3. Для возможности работы с датами необходимо привести соответствующие столбцы в таблицах к формату `datetime`."
   ]
  },
  {
   "cell_type": "markdown",
   "metadata": {},
   "source": [
    "<a id='preprocessing'></a>\n",
    "## Шаг 2. Предобработка данных"
   ]
  },
  {
   "cell_type": "markdown",
   "metadata": {},
   "source": [
    "<a id='illogic'></a>\n",
    "### Шаг 2.1 Обработка аномальных значений"
   ]
  },
  {
   "cell_type": "markdown",
   "metadata": {},
   "source": [
    "Удалим звонки с нулевой длительностью (39613 шт) - вероятно, это входящие звонки или пропущенные, в любом случае их невозможно протарифицировать, в противном случае они будут бесполезно увеличивать объем данных в выборке и влиять на среднее количество звонков."
   ]
  },
  {
   "cell_type": "code",
   "execution_count": 18,
   "metadata": {
    "scrolled": false
   },
   "outputs": [
    {
     "name": "stdout",
     "output_type": "stream",
     "text": [
      "<class 'pandas.core.frame.DataFrame'>\n",
      "Int64Index: 162994 entries, 2 to 202606\n",
      "Data columns (total 4 columns):\n",
      "id           162994 non-null object\n",
      "call_date    162994 non-null object\n",
      "duration     162994 non-null float64\n",
      "user_id      162994 non-null int64\n",
      "dtypes: float64(1), int64(1), object(2)\n",
      "memory usage: 6.2+ MB\n"
     ]
    }
   ],
   "source": [
    "calls_new = calls.drop(calls.loc[calls['duration'] == 0].index)\n",
    "calls_new.info()"
   ]
  },
  {
   "cell_type": "markdown",
   "metadata": {},
   "source": [
    "Удалим строки с нулевым траффиком (19598 шт), аналогично звонкам, они не смогут быть протарифицированы, но будут влиять на объем данных и статистику количества подключений. Также удалим столбец unnamed, т.к. он повторяет столбец с индексами"
   ]
  },
  {
   "cell_type": "code",
   "execution_count": 19,
   "metadata": {},
   "outputs": [
    {
     "name": "stdout",
     "output_type": "stream",
     "text": [
      "<class 'pandas.core.frame.DataFrame'>\n",
      "Int64Index: 129798 entries, 0 to 149395\n",
      "Data columns (total 4 columns):\n",
      "id              129798 non-null object\n",
      "mb_used         129798 non-null float64\n",
      "session_date    129798 non-null object\n",
      "user_id         129798 non-null int64\n",
      "dtypes: float64(1), int64(1), object(2)\n",
      "memory usage: 5.0+ MB\n"
     ]
    }
   ],
   "source": [
    "internet_new = internet.drop(internet[internet['mb_used'] == 0].index)\n",
    "del(internet_new['Unnamed: 0'])\n",
    "internet_new.info()"
   ]
  },
  {
   "cell_type": "markdown",
   "metadata": {},
   "source": [
    "<a id='round'></a>\n",
    "### Шаг 2.2 Округление значений"
   ]
  },
  {
   "cell_type": "markdown",
   "metadata": {},
   "source": [
    "«Мегалайн» всегда округляет вверх значения минут и мегабайтов, значит, для корректного дальнейшего расчета стоимости необходимо провести округление каждого из звонков и каждого из подключений к интернету, используем соответствующую функцию `ceil()`"
   ]
  },
  {
   "cell_type": "code",
   "execution_count": 20,
   "metadata": {},
   "outputs": [],
   "source": [
    "calls_new['duration_ceil'] = calls_new['duration'].apply('ceil')"
   ]
  },
  {
   "cell_type": "code",
   "execution_count": 21,
   "metadata": {},
   "outputs": [],
   "source": [
    "internet_new['mb_used_ceil'] = internet_new['mb_used'].apply('ceil')"
   ]
  },
  {
   "cell_type": "markdown",
   "metadata": {},
   "source": [
    "<a id='types'></a>\n",
    "### Шаг 2.3 Приведение типов"
   ]
  },
  {
   "cell_type": "markdown",
   "metadata": {},
   "source": [
    "Переименуем столбцы с датой в каждой из таблиц и дадим унифицированное название `date`, затем приведем данные к типу `datetime`"
   ]
  },
  {
   "cell_type": "code",
   "execution_count": 22,
   "metadata": {},
   "outputs": [],
   "source": [
    "calls_new.rename({'call_date' : 'date'}, axis=1, inplace=True)\n",
    "internet_new.rename({'session_date' : 'date'}, axis=1, inplace=True)\n",
    "messages.rename({'message_date' : 'date'}, axis=1, inplace=True)"
   ]
  },
  {
   "cell_type": "code",
   "execution_count": 23,
   "metadata": {},
   "outputs": [],
   "source": [
    "frames = [calls_new, internet_new, messages]\n",
    "for df in frames:\n",
    "    df['date'] = pd.to_datetime(df['date'], format='%Y-%m-%d')"
   ]
  },
  {
   "cell_type": "markdown",
   "metadata": {},
   "source": [
    "<a id='adding_data'></a>\n",
    "### Шаг 2.4 Добавление расчетных данных"
   ]
  },
  {
   "cell_type": "markdown",
   "metadata": {},
   "source": [
    "Детализированные до операций данные позволили нам округлить информацию по минутам и Мб, для дальнейшего анализа агрегируем операции по месяцам, т.к. абонентская плата и превышения лимитов рассчитываются в рамках календарного месяца."
   ]
  },
  {
   "cell_type": "code",
   "execution_count": 24,
   "metadata": {
    "scrolled": false
   },
   "outputs": [],
   "source": [
    "for df in frames:\n",
    "    df['month'] = pd.to_datetime(df['date'], format='%Y-%m-%d').dt.month"
   ]
  },
  {
   "cell_type": "code",
   "execution_count": 25,
   "metadata": {},
   "outputs": [
    {
     "data": {
      "text/html": [
       "<div>\n",
       "<style scoped>\n",
       "    .dataframe tbody tr th:only-of-type {\n",
       "        vertical-align: middle;\n",
       "    }\n",
       "\n",
       "    .dataframe tbody tr th {\n",
       "        vertical-align: top;\n",
       "    }\n",
       "\n",
       "    .dataframe thead th {\n",
       "        text-align: right;\n",
       "    }\n",
       "</style>\n",
       "<table border=\"1\" class=\"dataframe\">\n",
       "  <thead>\n",
       "    <tr style=\"text-align: right;\">\n",
       "      <th></th>\n",
       "      <th>month</th>\n",
       "      <th>user_id</th>\n",
       "      <th>duration_count</th>\n",
       "      <th>duration_sum</th>\n",
       "    </tr>\n",
       "  </thead>\n",
       "  <tbody>\n",
       "    <tr>\n",
       "      <td>0</td>\n",
       "      <td>1</td>\n",
       "      <td>1005</td>\n",
       "      <td>11</td>\n",
       "      <td>95.00</td>\n",
       "    </tr>\n",
       "    <tr>\n",
       "      <td>1</td>\n",
       "      <td>1</td>\n",
       "      <td>1032</td>\n",
       "      <td>44</td>\n",
       "      <td>380.00</td>\n",
       "    </tr>\n",
       "    <tr>\n",
       "      <td>2</td>\n",
       "      <td>1</td>\n",
       "      <td>1045</td>\n",
       "      <td>1</td>\n",
       "      <td>9.00</td>\n",
       "    </tr>\n",
       "    <tr>\n",
       "      <td>3</td>\n",
       "      <td>1</td>\n",
       "      <td>1055</td>\n",
       "      <td>47</td>\n",
       "      <td>551.00</td>\n",
       "    </tr>\n",
       "    <tr>\n",
       "      <td>4</td>\n",
       "      <td>1</td>\n",
       "      <td>1071</td>\n",
       "      <td>18</td>\n",
       "      <td>194.00</td>\n",
       "    </tr>\n",
       "  </tbody>\n",
       "</table>\n",
       "</div>"
      ],
      "text/plain": [
       "   month  user_id  duration_count  duration_sum\n",
       "0      1     1005              11         95.00\n",
       "1      1     1032              44        380.00\n",
       "2      1     1045               1          9.00\n",
       "3      1     1055              47        551.00\n",
       "4      1     1071              18        194.00"
      ]
     },
     "execution_count": 25,
     "metadata": {},
     "output_type": "execute_result"
    }
   ],
   "source": [
    "calls_by_month = calls_new.groupby(['month', 'user_id']).agg({'duration_ceil' : ['count', 'sum']}).reset_index()\n",
    "calls_by_month.set_axis(['month', 'user_id', 'duration_count', 'duration_sum'], axis=1, inplace=True)\n",
    "calls_by_month.head()"
   ]
  },
  {
   "cell_type": "code",
   "execution_count": 26,
   "metadata": {
    "scrolled": true
   },
   "outputs": [
    {
     "data": {
      "text/html": [
       "<div>\n",
       "<style scoped>\n",
       "    .dataframe tbody tr th:only-of-type {\n",
       "        vertical-align: middle;\n",
       "    }\n",
       "\n",
       "    .dataframe tbody tr th {\n",
       "        vertical-align: top;\n",
       "    }\n",
       "\n",
       "    .dataframe thead th {\n",
       "        text-align: right;\n",
       "    }\n",
       "</style>\n",
       "<table border=\"1\" class=\"dataframe\">\n",
       "  <thead>\n",
       "    <tr style=\"text-align: right;\">\n",
       "      <th></th>\n",
       "      <th>month</th>\n",
       "      <th>user_id</th>\n",
       "      <th>duration_count</th>\n",
       "      <th>duration_sum</th>\n",
       "    </tr>\n",
       "  </thead>\n",
       "  <tbody>\n",
       "    <tr>\n",
       "      <td>count</td>\n",
       "      <td>3168.00</td>\n",
       "      <td>3168.00</td>\n",
       "      <td>3168.00</td>\n",
       "      <td>3168.00</td>\n",
       "    </tr>\n",
       "    <tr>\n",
       "      <td>mean</td>\n",
       "      <td>8.32</td>\n",
       "      <td>1251.48</td>\n",
       "      <td>51.45</td>\n",
       "      <td>457.80</td>\n",
       "    </tr>\n",
       "    <tr>\n",
       "      <td>std</td>\n",
       "      <td>2.91</td>\n",
       "      <td>144.57</td>\n",
       "      <td>26.44</td>\n",
       "      <td>237.42</td>\n",
       "    </tr>\n",
       "    <tr>\n",
       "      <td>min</td>\n",
       "      <td>1.00</td>\n",
       "      <td>1000.00</td>\n",
       "      <td>1.00</td>\n",
       "      <td>1.00</td>\n",
       "    </tr>\n",
       "    <tr>\n",
       "      <td>25%</td>\n",
       "      <td>6.00</td>\n",
       "      <td>1126.00</td>\n",
       "      <td>33.00</td>\n",
       "      <td>290.75</td>\n",
       "    </tr>\n",
       "    <tr>\n",
       "      <td>50%</td>\n",
       "      <td>9.00</td>\n",
       "      <td>1254.00</td>\n",
       "      <td>50.00</td>\n",
       "      <td>447.50</td>\n",
       "    </tr>\n",
       "    <tr>\n",
       "      <td>75%</td>\n",
       "      <td>11.00</td>\n",
       "      <td>1379.00</td>\n",
       "      <td>67.00</td>\n",
       "      <td>592.25</td>\n",
       "    </tr>\n",
       "    <tr>\n",
       "      <td>max</td>\n",
       "      <td>12.00</td>\n",
       "      <td>1499.00</td>\n",
       "      <td>190.00</td>\n",
       "      <td>1673.00</td>\n",
       "    </tr>\n",
       "  </tbody>\n",
       "</table>\n",
       "</div>"
      ],
      "text/plain": [
       "        month  user_id  duration_count  duration_sum\n",
       "count 3168.00  3168.00         3168.00       3168.00\n",
       "mean     8.32  1251.48           51.45        457.80\n",
       "std      2.91   144.57           26.44        237.42\n",
       "min      1.00  1000.00            1.00          1.00\n",
       "25%      6.00  1126.00           33.00        290.75\n",
       "50%      9.00  1254.00           50.00        447.50\n",
       "75%     11.00  1379.00           67.00        592.25\n",
       "max     12.00  1499.00          190.00       1673.00"
      ]
     },
     "execution_count": 26,
     "metadata": {},
     "output_type": "execute_result"
    }
   ],
   "source": [
    "calls_by_month.describe()"
   ]
  },
  {
   "cell_type": "code",
   "execution_count": 27,
   "metadata": {},
   "outputs": [
    {
     "data": {
      "text/plain": [
       "162994"
      ]
     },
     "execution_count": 27,
     "metadata": {},
     "output_type": "execute_result"
    }
   ],
   "source": [
    "# проверка кол-во звонков тотал\n",
    "calls_by_month['duration_count'].sum()"
   ]
  },
  {
   "cell_type": "code",
   "execution_count": 28,
   "metadata": {
    "scrolled": false
   },
   "outputs": [
    {
     "data": {
      "text/html": [
       "<div>\n",
       "<style scoped>\n",
       "    .dataframe tbody tr th:only-of-type {\n",
       "        vertical-align: middle;\n",
       "    }\n",
       "\n",
       "    .dataframe tbody tr th {\n",
       "        vertical-align: top;\n",
       "    }\n",
       "\n",
       "    .dataframe thead th {\n",
       "        text-align: right;\n",
       "    }\n",
       "</style>\n",
       "<table border=\"1\" class=\"dataframe\">\n",
       "  <thead>\n",
       "    <tr style=\"text-align: right;\">\n",
       "      <th></th>\n",
       "      <th>month</th>\n",
       "      <th>user_id</th>\n",
       "      <th>mb_used_count</th>\n",
       "      <th>mb_used_sum</th>\n",
       "    </tr>\n",
       "  </thead>\n",
       "  <tbody>\n",
       "    <tr>\n",
       "      <td>count</td>\n",
       "      <td>3201.00</td>\n",
       "      <td>3201.00</td>\n",
       "      <td>3201.00</td>\n",
       "      <td>3201.00</td>\n",
       "    </tr>\n",
       "    <tr>\n",
       "      <td>mean</td>\n",
       "      <td>8.32</td>\n",
       "      <td>1251.41</td>\n",
       "      <td>40.55</td>\n",
       "      <td>17297.55</td>\n",
       "    </tr>\n",
       "    <tr>\n",
       "      <td>std</td>\n",
       "      <td>2.90</td>\n",
       "      <td>144.83</td>\n",
       "      <td>16.15</td>\n",
       "      <td>7513.50</td>\n",
       "    </tr>\n",
       "    <tr>\n",
       "      <td>min</td>\n",
       "      <td>1.00</td>\n",
       "      <td>1000.00</td>\n",
       "      <td>1.00</td>\n",
       "      <td>202.00</td>\n",
       "    </tr>\n",
       "    <tr>\n",
       "      <td>25%</td>\n",
       "      <td>6.00</td>\n",
       "      <td>1124.00</td>\n",
       "      <td>30.00</td>\n",
       "      <td>12567.00</td>\n",
       "    </tr>\n",
       "    <tr>\n",
       "      <td>50%</td>\n",
       "      <td>9.00</td>\n",
       "      <td>1251.00</td>\n",
       "      <td>41.00</td>\n",
       "      <td>16986.00</td>\n",
       "    </tr>\n",
       "    <tr>\n",
       "      <td>75%</td>\n",
       "      <td>11.00</td>\n",
       "      <td>1379.00</td>\n",
       "      <td>51.00</td>\n",
       "      <td>21458.00</td>\n",
       "    </tr>\n",
       "    <tr>\n",
       "      <td>max</td>\n",
       "      <td>12.00</td>\n",
       "      <td>1499.00</td>\n",
       "      <td>101.00</td>\n",
       "      <td>49789.00</td>\n",
       "    </tr>\n",
       "  </tbody>\n",
       "</table>\n",
       "</div>"
      ],
      "text/plain": [
       "        month  user_id  mb_used_count  mb_used_sum\n",
       "count 3201.00  3201.00        3201.00      3201.00\n",
       "mean     8.32  1251.41          40.55     17297.55\n",
       "std      2.90   144.83          16.15      7513.50\n",
       "min      1.00  1000.00           1.00       202.00\n",
       "25%      6.00  1124.00          30.00     12567.00\n",
       "50%      9.00  1251.00          41.00     16986.00\n",
       "75%     11.00  1379.00          51.00     21458.00\n",
       "max     12.00  1499.00         101.00     49789.00"
      ]
     },
     "execution_count": 28,
     "metadata": {},
     "output_type": "execute_result"
    }
   ],
   "source": [
    "internet_by_month = internet_new.groupby(['month', 'user_id']).agg({'mb_used_ceil' : ['count', 'sum']}).reset_index()\n",
    "internet_by_month.set_axis(['month', 'user_id', 'mb_used_count', 'mb_used_sum'], axis=1, inplace=True)\n",
    "internet_by_month.describe()"
   ]
  },
  {
   "cell_type": "code",
   "execution_count": 29,
   "metadata": {},
   "outputs": [
    {
     "data": {
      "text/plain": [
       "129798"
      ]
     },
     "execution_count": 29,
     "metadata": {},
     "output_type": "execute_result"
    }
   ],
   "source": [
    "# проверка сумма по количеству Mb\n",
    "internet_by_month['mb_used_count'].sum()"
   ]
  },
  {
   "cell_type": "code",
   "execution_count": 30,
   "metadata": {
    "scrolled": true
   },
   "outputs": [],
   "source": [
    "messages_by_month = messages.groupby(['month', 'user_id'])['id'].count()"
   ]
  },
  {
   "cell_type": "code",
   "execution_count": 31,
   "metadata": {},
   "outputs": [],
   "source": [
    "messages_by_month = messages_by_month.reset_index()\n",
    "messages_by_month.rename({'id' : 'messages_count'}, axis=1, inplace=True)"
   ]
  },
  {
   "cell_type": "code",
   "execution_count": 32,
   "metadata": {
    "scrolled": false
   },
   "outputs": [
    {
     "data": {
      "text/html": [
       "<div>\n",
       "<style scoped>\n",
       "    .dataframe tbody tr th:only-of-type {\n",
       "        vertical-align: middle;\n",
       "    }\n",
       "\n",
       "    .dataframe tbody tr th {\n",
       "        vertical-align: top;\n",
       "    }\n",
       "\n",
       "    .dataframe thead th {\n",
       "        text-align: right;\n",
       "    }\n",
       "</style>\n",
       "<table border=\"1\" class=\"dataframe\">\n",
       "  <thead>\n",
       "    <tr style=\"text-align: right;\">\n",
       "      <th></th>\n",
       "      <th>month</th>\n",
       "      <th>user_id</th>\n",
       "      <th>messages_count</th>\n",
       "    </tr>\n",
       "  </thead>\n",
       "  <tbody>\n",
       "    <tr>\n",
       "      <td>0</td>\n",
       "      <td>1</td>\n",
       "      <td>1005</td>\n",
       "      <td>7</td>\n",
       "    </tr>\n",
       "    <tr>\n",
       "      <td>1</td>\n",
       "      <td>1</td>\n",
       "      <td>1032</td>\n",
       "      <td>38</td>\n",
       "    </tr>\n",
       "    <tr>\n",
       "      <td>2</td>\n",
       "      <td>1</td>\n",
       "      <td>1045</td>\n",
       "      <td>5</td>\n",
       "    </tr>\n",
       "    <tr>\n",
       "      <td>3</td>\n",
       "      <td>1</td>\n",
       "      <td>1055</td>\n",
       "      <td>30</td>\n",
       "    </tr>\n",
       "    <tr>\n",
       "      <td>4</td>\n",
       "      <td>1</td>\n",
       "      <td>1071</td>\n",
       "      <td>16</td>\n",
       "    </tr>\n",
       "  </tbody>\n",
       "</table>\n",
       "</div>"
      ],
      "text/plain": [
       "   month  user_id  messages_count\n",
       "0      1     1005               7\n",
       "1      1     1032              38\n",
       "2      1     1045               5\n",
       "3      1     1055              30\n",
       "4      1     1071              16"
      ]
     },
     "execution_count": 32,
     "metadata": {},
     "output_type": "execute_result"
    }
   ],
   "source": [
    "messages_by_month.head()"
   ]
  },
  {
   "cell_type": "code",
   "execution_count": 33,
   "metadata": {
    "scrolled": true
   },
   "outputs": [
    {
     "data": {
      "text/html": [
       "<div>\n",
       "<style scoped>\n",
       "    .dataframe tbody tr th:only-of-type {\n",
       "        vertical-align: middle;\n",
       "    }\n",
       "\n",
       "    .dataframe tbody tr th {\n",
       "        vertical-align: top;\n",
       "    }\n",
       "\n",
       "    .dataframe thead th {\n",
       "        text-align: right;\n",
       "    }\n",
       "</style>\n",
       "<table border=\"1\" class=\"dataframe\">\n",
       "  <thead>\n",
       "    <tr style=\"text-align: right;\">\n",
       "      <th></th>\n",
       "      <th>month</th>\n",
       "      <th>user_id</th>\n",
       "      <th>messages_count</th>\n",
       "    </tr>\n",
       "  </thead>\n",
       "  <tbody>\n",
       "    <tr>\n",
       "      <td>count</td>\n",
       "      <td>2717.00</td>\n",
       "      <td>2717.00</td>\n",
       "      <td>2717.00</td>\n",
       "    </tr>\n",
       "    <tr>\n",
       "      <td>mean</td>\n",
       "      <td>8.35</td>\n",
       "      <td>1255.64</td>\n",
       "      <td>45.28</td>\n",
       "    </tr>\n",
       "    <tr>\n",
       "      <td>std</td>\n",
       "      <td>2.89</td>\n",
       "      <td>146.23</td>\n",
       "      <td>35.05</td>\n",
       "    </tr>\n",
       "    <tr>\n",
       "      <td>min</td>\n",
       "      <td>1.00</td>\n",
       "      <td>1000.00</td>\n",
       "      <td>1.00</td>\n",
       "    </tr>\n",
       "    <tr>\n",
       "      <td>25%</td>\n",
       "      <td>6.00</td>\n",
       "      <td>1126.00</td>\n",
       "      <td>19.00</td>\n",
       "    </tr>\n",
       "    <tr>\n",
       "      <td>50%</td>\n",
       "      <td>9.00</td>\n",
       "      <td>1266.00</td>\n",
       "      <td>38.00</td>\n",
       "    </tr>\n",
       "    <tr>\n",
       "      <td>75%</td>\n",
       "      <td>11.00</td>\n",
       "      <td>1384.00</td>\n",
       "      <td>63.00</td>\n",
       "    </tr>\n",
       "    <tr>\n",
       "      <td>max</td>\n",
       "      <td>12.00</td>\n",
       "      <td>1499.00</td>\n",
       "      <td>224.00</td>\n",
       "    </tr>\n",
       "  </tbody>\n",
       "</table>\n",
       "</div>"
      ],
      "text/plain": [
       "        month  user_id  messages_count\n",
       "count 2717.00  2717.00         2717.00\n",
       "mean     8.35  1255.64           45.28\n",
       "std      2.89   146.23           35.05\n",
       "min      1.00  1000.00            1.00\n",
       "25%      6.00  1126.00           19.00\n",
       "50%      9.00  1266.00           38.00\n",
       "75%     11.00  1384.00           63.00\n",
       "max     12.00  1499.00          224.00"
      ]
     },
     "execution_count": 33,
     "metadata": {},
     "output_type": "execute_result"
    }
   ],
   "source": [
    "messages_by_month.describe()"
   ]
  },
  {
   "cell_type": "code",
   "execution_count": 34,
   "metadata": {},
   "outputs": [
    {
     "data": {
      "text/plain": [
       "month               22674\n",
       "user_id           3411561\n",
       "messages_count     123036\n",
       "dtype: int64"
      ]
     },
     "execution_count": 34,
     "metadata": {},
     "output_type": "execute_result"
    }
   ],
   "source": [
    "# проверка суммарное кол-во смс\n",
    "messages_by_month.sum()"
   ]
  },
  {
   "cell_type": "markdown",
   "metadata": {},
   "source": [
    "Соберем свод из таблиц со звонками, траффиком и смс, сгруппированных по клиентам и месяцам:\n",
    "* calls_by_month\n",
    "* internet_by_month\n",
    "* messages_by_month"
   ]
  },
  {
   "cell_type": "code",
   "execution_count": 35,
   "metadata": {},
   "outputs": [],
   "source": [
    "df = pd.merge(left = calls_by_month, right = internet_by_month, how = 'outer', on = ['user_id', 'month'])\n",
    "df = pd.merge(left = df, right = messages_by_month, how = 'outer', on = ['user_id', 'month'])"
   ]
  },
  {
   "cell_type": "code",
   "execution_count": 36,
   "metadata": {
    "scrolled": true
   },
   "outputs": [
    {
     "data": {
      "text/html": [
       "<div>\n",
       "<style scoped>\n",
       "    .dataframe tbody tr th:only-of-type {\n",
       "        vertical-align: middle;\n",
       "    }\n",
       "\n",
       "    .dataframe tbody tr th {\n",
       "        vertical-align: top;\n",
       "    }\n",
       "\n",
       "    .dataframe thead th {\n",
       "        text-align: right;\n",
       "    }\n",
       "</style>\n",
       "<table border=\"1\" class=\"dataframe\">\n",
       "  <thead>\n",
       "    <tr style=\"text-align: right;\">\n",
       "      <th></th>\n",
       "      <th>month</th>\n",
       "      <th>user_id</th>\n",
       "      <th>duration_count</th>\n",
       "      <th>duration_sum</th>\n",
       "      <th>mb_used_count</th>\n",
       "      <th>mb_used_sum</th>\n",
       "      <th>messages_count</th>\n",
       "    </tr>\n",
       "  </thead>\n",
       "  <tbody>\n",
       "    <tr>\n",
       "      <td>count</td>\n",
       "      <td>3214.00</td>\n",
       "      <td>3214.00</td>\n",
       "      <td>3168.00</td>\n",
       "      <td>3168.00</td>\n",
       "      <td>3201.00</td>\n",
       "      <td>3201.00</td>\n",
       "      <td>2717.00</td>\n",
       "    </tr>\n",
       "    <tr>\n",
       "      <td>mean</td>\n",
       "      <td>8.32</td>\n",
       "      <td>1251.59</td>\n",
       "      <td>51.45</td>\n",
       "      <td>457.80</td>\n",
       "      <td>40.55</td>\n",
       "      <td>17297.55</td>\n",
       "      <td>45.28</td>\n",
       "    </tr>\n",
       "    <tr>\n",
       "      <td>std</td>\n",
       "      <td>2.91</td>\n",
       "      <td>144.66</td>\n",
       "      <td>26.44</td>\n",
       "      <td>237.42</td>\n",
       "      <td>16.15</td>\n",
       "      <td>7513.50</td>\n",
       "      <td>35.05</td>\n",
       "    </tr>\n",
       "    <tr>\n",
       "      <td>min</td>\n",
       "      <td>1.00</td>\n",
       "      <td>1000.00</td>\n",
       "      <td>1.00</td>\n",
       "      <td>1.00</td>\n",
       "      <td>1.00</td>\n",
       "      <td>202.00</td>\n",
       "      <td>1.00</td>\n",
       "    </tr>\n",
       "    <tr>\n",
       "      <td>25%</td>\n",
       "      <td>6.00</td>\n",
       "      <td>1125.00</td>\n",
       "      <td>33.00</td>\n",
       "      <td>290.75</td>\n",
       "      <td>30.00</td>\n",
       "      <td>12567.00</td>\n",
       "      <td>19.00</td>\n",
       "    </tr>\n",
       "    <tr>\n",
       "      <td>50%</td>\n",
       "      <td>9.00</td>\n",
       "      <td>1253.00</td>\n",
       "      <td>50.00</td>\n",
       "      <td>447.50</td>\n",
       "      <td>41.00</td>\n",
       "      <td>16986.00</td>\n",
       "      <td>38.00</td>\n",
       "    </tr>\n",
       "    <tr>\n",
       "      <td>75%</td>\n",
       "      <td>11.00</td>\n",
       "      <td>1378.75</td>\n",
       "      <td>67.00</td>\n",
       "      <td>592.25</td>\n",
       "      <td>51.00</td>\n",
       "      <td>21458.00</td>\n",
       "      <td>63.00</td>\n",
       "    </tr>\n",
       "    <tr>\n",
       "      <td>max</td>\n",
       "      <td>12.00</td>\n",
       "      <td>1499.00</td>\n",
       "      <td>190.00</td>\n",
       "      <td>1673.00</td>\n",
       "      <td>101.00</td>\n",
       "      <td>49789.00</td>\n",
       "      <td>224.00</td>\n",
       "    </tr>\n",
       "  </tbody>\n",
       "</table>\n",
       "</div>"
      ],
      "text/plain": [
       "        month  user_id  duration_count  duration_sum  mb_used_count  \\\n",
       "count 3214.00  3214.00         3168.00       3168.00        3201.00   \n",
       "mean     8.32  1251.59           51.45        457.80          40.55   \n",
       "std      2.91   144.66           26.44        237.42          16.15   \n",
       "min      1.00  1000.00            1.00          1.00           1.00   \n",
       "25%      6.00  1125.00           33.00        290.75          30.00   \n",
       "50%      9.00  1253.00           50.00        447.50          41.00   \n",
       "75%     11.00  1378.75           67.00        592.25          51.00   \n",
       "max     12.00  1499.00          190.00       1673.00         101.00   \n",
       "\n",
       "       mb_used_sum  messages_count  \n",
       "count      3201.00         2717.00  \n",
       "mean      17297.55           45.28  \n",
       "std        7513.50           35.05  \n",
       "min         202.00            1.00  \n",
       "25%       12567.00           19.00  \n",
       "50%       16986.00           38.00  \n",
       "75%       21458.00           63.00  \n",
       "max       49789.00          224.00  "
      ]
     },
     "execution_count": 36,
     "metadata": {},
     "output_type": "execute_result"
    }
   ],
   "source": [
    "df.describe()"
   ]
  },
  {
   "cell_type": "markdown",
   "metadata": {},
   "source": [
    "Добавим информацию по каждому клиенту из таблицы `users`, интересующие в рамках текущего анализа столбцы - тариф и город клиента."
   ]
  },
  {
   "cell_type": "code",
   "execution_count": 37,
   "metadata": {},
   "outputs": [],
   "source": [
    "df = pd.merge(left = df, right = users, how = 'outer', on = 'user_id')"
   ]
  },
  {
   "cell_type": "markdown",
   "metadata": {},
   "source": [
    "Добавим в таблицу данные по тарифам для подсчета выручки с каждого пользователя"
   ]
  },
  {
   "cell_type": "code",
   "execution_count": 38,
   "metadata": {},
   "outputs": [],
   "source": [
    "df = pd.merge(left = df, right = tariffs, how = 'outer', left_on = 'tariff', right_on = 'tariff_name')\n",
    "del(df['tariff_name'])"
   ]
  },
  {
   "cell_type": "markdown",
   "metadata": {},
   "source": [
    "Добавим расчетные столбцы с превышением лимитов фактических расходов минут, траффика и СМС"
   ]
  },
  {
   "cell_type": "code",
   "execution_count": 39,
   "metadata": {},
   "outputs": [],
   "source": [
    "df['duration_delta'] = np.where(df['duration_sum'] > df['minutes_included'],\\\n",
    "                                df['duration_sum'] - df['minutes_included'], 0)\n",
    "df['messages_delta'] = np.where(df['messages_count'] > df['messages_included'],\\\n",
    "                                df['messages_count'] - df['messages_included'], 0)\n",
    "df['gb_used_delta'] = np.where(df['mb_used_sum'] > df['mb_per_month_included'],\\\n",
    "                               np.ceil( (df['mb_used_sum'] - df['mb_per_month_included'])/1024), 0)"
   ]
  },
  {
   "cell_type": "markdown",
   "metadata": {},
   "source": [
    "Добавим расчетный столбец `income` с итого выручкой по клиенту за конкретный месяц"
   ]
  },
  {
   "cell_type": "code",
   "execution_count": 40,
   "metadata": {},
   "outputs": [],
   "source": [
    "df['income'] = df['duration_delta'] * df['rub_per_minute']\\\n",
    "            + df['messages_delta'] * df['rub_per_message']\\\n",
    "            + df['gb_used_delta'] * df['rub_per_gb']\\\n",
    "            + df['rub_monthly_fee']"
   ]
  },
  {
   "cell_type": "code",
   "execution_count": 41,
   "metadata": {},
   "outputs": [
    {
     "data": {
      "text/plain": [
       "4928251.0"
      ]
     },
     "execution_count": 41,
     "metadata": {},
     "output_type": "execute_result"
    }
   ],
   "source": [
    "# проверка итого выручка\n",
    "df['income'].sum()"
   ]
  },
  {
   "cell_type": "markdown",
   "metadata": {},
   "source": [
    "<a id='preprocessing_conclusion'></a>\n",
    "## Вывод по шагу 2"
   ]
  },
  {
   "cell_type": "markdown",
   "metadata": {},
   "source": [
    "Для возможности проведения анализа была сделана предобработка данных:\n",
    "1. Удалены строки с нулевыми значениями потраченных минут и интернет-траффика\n",
    "2. Округлены вверх значения потраченных минут и интернет-траффика в разрезе каждой операции.\n",
    "3. Приведены соответствующие столбцы дат в таблицах к формату `datetime`, выделены месяца операций\n",
    "\n",
    "Данные были укрупнены и агрегированы по месяцам. По ключу \"клиент-месяц\" информация была собрана в единую таблицу `df`. Были добавлены расчетные столбцы превышения лимитов фактическими расходами, проведена тарификация и рассчитана общая выручка по каждому клиенту в месяц (столбец `income`). "
   ]
  },
  {
   "cell_type": "code",
   "execution_count": 61,
   "metadata": {},
   "outputs": [
    {
     "data": {
      "text/html": [
       "<div>\n",
       "<style scoped>\n",
       "    .dataframe tbody tr th:only-of-type {\n",
       "        vertical-align: middle;\n",
       "    }\n",
       "\n",
       "    .dataframe tbody tr th {\n",
       "        vertical-align: top;\n",
       "    }\n",
       "\n",
       "    .dataframe thead th {\n",
       "        text-align: right;\n",
       "    }\n",
       "</style>\n",
       "<table border=\"1\" class=\"dataframe\">\n",
       "  <thead>\n",
       "    <tr style=\"text-align: right;\">\n",
       "      <th></th>\n",
       "      <th>month</th>\n",
       "      <th>user_id</th>\n",
       "      <th>duration_count</th>\n",
       "      <th>duration_sum</th>\n",
       "      <th>mb_used_count</th>\n",
       "      <th>mb_used_sum</th>\n",
       "      <th>messages_count</th>\n",
       "      <th>age</th>\n",
       "      <th>churn_date</th>\n",
       "      <th>city</th>\n",
       "      <th>first_name</th>\n",
       "      <th>last_name</th>\n",
       "      <th>reg_date</th>\n",
       "      <th>tariff</th>\n",
       "      <th>messages_included</th>\n",
       "      <th>mb_per_month_included</th>\n",
       "      <th>minutes_included</th>\n",
       "      <th>rub_monthly_fee</th>\n",
       "      <th>rub_per_gb</th>\n",
       "      <th>rub_per_message</th>\n",
       "      <th>rub_per_minute</th>\n",
       "      <th>duration_delta</th>\n",
       "      <th>messages_delta</th>\n",
       "      <th>gb_used_delta</th>\n",
       "      <th>income</th>\n",
       "    </tr>\n",
       "  </thead>\n",
       "  <tbody>\n",
       "    <tr>\n",
       "      <td>0</td>\n",
       "      <td>1.00</td>\n",
       "      <td>1005</td>\n",
       "      <td>11.00</td>\n",
       "      <td>95.00</td>\n",
       "      <td>6.00</td>\n",
       "      <td>2730.00</td>\n",
       "      <td>7.00</td>\n",
       "      <td>67</td>\n",
       "      <td>NaN</td>\n",
       "      <td>Набережные Челны</td>\n",
       "      <td>Афанасий</td>\n",
       "      <td>Горлов</td>\n",
       "      <td>2018-01-25</td>\n",
       "      <td>smart</td>\n",
       "      <td>50</td>\n",
       "      <td>15360</td>\n",
       "      <td>500</td>\n",
       "      <td>550</td>\n",
       "      <td>200</td>\n",
       "      <td>3</td>\n",
       "      <td>3</td>\n",
       "      <td>0.00</td>\n",
       "      <td>0.00</td>\n",
       "      <td>0.00</td>\n",
       "      <td>550.00</td>\n",
       "    </tr>\n",
       "    <tr>\n",
       "      <td>1</td>\n",
       "      <td>2.00</td>\n",
       "      <td>1005</td>\n",
       "      <td>55.00</td>\n",
       "      <td>456.00</td>\n",
       "      <td>22.00</td>\n",
       "      <td>7394.00</td>\n",
       "      <td>38.00</td>\n",
       "      <td>67</td>\n",
       "      <td>NaN</td>\n",
       "      <td>Набережные Челны</td>\n",
       "      <td>Афанасий</td>\n",
       "      <td>Горлов</td>\n",
       "      <td>2018-01-25</td>\n",
       "      <td>smart</td>\n",
       "      <td>50</td>\n",
       "      <td>15360</td>\n",
       "      <td>500</td>\n",
       "      <td>550</td>\n",
       "      <td>200</td>\n",
       "      <td>3</td>\n",
       "      <td>3</td>\n",
       "      <td>0.00</td>\n",
       "      <td>0.00</td>\n",
       "      <td>0.00</td>\n",
       "      <td>550.00</td>\n",
       "    </tr>\n",
       "    <tr>\n",
       "      <td>2</td>\n",
       "      <td>3.00</td>\n",
       "      <td>1005</td>\n",
       "      <td>63.00</td>\n",
       "      <td>606.00</td>\n",
       "      <td>25.00</td>\n",
       "      <td>11117.00</td>\n",
       "      <td>56.00</td>\n",
       "      <td>67</td>\n",
       "      <td>NaN</td>\n",
       "      <td>Набережные Челны</td>\n",
       "      <td>Афанасий</td>\n",
       "      <td>Горлов</td>\n",
       "      <td>2018-01-25</td>\n",
       "      <td>smart</td>\n",
       "      <td>50</td>\n",
       "      <td>15360</td>\n",
       "      <td>500</td>\n",
       "      <td>550</td>\n",
       "      <td>200</td>\n",
       "      <td>3</td>\n",
       "      <td>3</td>\n",
       "      <td>106.00</td>\n",
       "      <td>6.00</td>\n",
       "      <td>0.00</td>\n",
       "      <td>886.00</td>\n",
       "    </tr>\n",
       "  </tbody>\n",
       "</table>\n",
       "</div>"
      ],
      "text/plain": [
       "   month  user_id  duration_count  duration_sum  mb_used_count  mb_used_sum  \\\n",
       "0   1.00     1005           11.00         95.00           6.00      2730.00   \n",
       "1   2.00     1005           55.00        456.00          22.00      7394.00   \n",
       "2   3.00     1005           63.00        606.00          25.00     11117.00   \n",
       "\n",
       "   messages_count  age churn_date              city first_name last_name  \\\n",
       "0            7.00   67        NaN  Набережные Челны   Афанасий    Горлов   \n",
       "1           38.00   67        NaN  Набережные Челны   Афанасий    Горлов   \n",
       "2           56.00   67        NaN  Набережные Челны   Афанасий    Горлов   \n",
       "\n",
       "     reg_date tariff  messages_included  mb_per_month_included  \\\n",
       "0  2018-01-25  smart                 50                  15360   \n",
       "1  2018-01-25  smart                 50                  15360   \n",
       "2  2018-01-25  smart                 50                  15360   \n",
       "\n",
       "   minutes_included  rub_monthly_fee  rub_per_gb  rub_per_message  \\\n",
       "0               500              550         200                3   \n",
       "1               500              550         200                3   \n",
       "2               500              550         200                3   \n",
       "\n",
       "   rub_per_minute  duration_delta  messages_delta  gb_used_delta  income  \n",
       "0               3            0.00            0.00           0.00  550.00  \n",
       "1               3            0.00            0.00           0.00  550.00  \n",
       "2               3          106.00            6.00           0.00  886.00  "
      ]
     },
     "execution_count": 61,
     "metadata": {},
     "output_type": "execute_result"
    }
   ],
   "source": [
    "df.head(3)"
   ]
  },
  {
   "cell_type": "markdown",
   "metadata": {},
   "source": [
    "<a id='analysis'></a>\n",
    "## Шаг 3. Анализ поведения клиентов"
   ]
  },
  {
   "cell_type": "markdown",
   "metadata": {},
   "source": [
    "Исходя из таблицы `df`, содержащей все необходимые столбцы, сравним статистики двух тарифов"
   ]
  },
  {
   "cell_type": "code",
   "execution_count": 43,
   "metadata": {},
   "outputs": [],
   "source": [
    "df = df.drop(df[df['month'].isna()].index)"
   ]
  },
  {
   "cell_type": "code",
   "execution_count": 44,
   "metadata": {
    "scrolled": false
   },
   "outputs": [
    {
     "data": {
      "text/html": [
       "<div>\n",
       "<style scoped>\n",
       "    .dataframe tbody tr th:only-of-type {\n",
       "        vertical-align: middle;\n",
       "    }\n",
       "\n",
       "    .dataframe tbody tr th {\n",
       "        vertical-align: top;\n",
       "    }\n",
       "\n",
       "    .dataframe thead th {\n",
       "        text-align: right;\n",
       "    }\n",
       "</style>\n",
       "<table border=\"1\" class=\"dataframe\">\n",
       "  <thead>\n",
       "    <tr style=\"text-align: right;\">\n",
       "      <th></th>\n",
       "      <th>count</th>\n",
       "      <th>mean</th>\n",
       "      <th>std</th>\n",
       "      <th>min</th>\n",
       "      <th>25%</th>\n",
       "      <th>50%</th>\n",
       "      <th>75%</th>\n",
       "      <th>max</th>\n",
       "    </tr>\n",
       "  </thead>\n",
       "  <tbody>\n",
       "    <tr>\n",
       "      <td>month</td>\n",
       "      <td>3214.00</td>\n",
       "      <td>8.32</td>\n",
       "      <td>2.91</td>\n",
       "      <td>1.00</td>\n",
       "      <td>6.00</td>\n",
       "      <td>9.00</td>\n",
       "      <td>11.00</td>\n",
       "      <td>12.00</td>\n",
       "    </tr>\n",
       "    <tr>\n",
       "      <td>user_id</td>\n",
       "      <td>3214.00</td>\n",
       "      <td>1251.59</td>\n",
       "      <td>144.66</td>\n",
       "      <td>1000.00</td>\n",
       "      <td>1125.00</td>\n",
       "      <td>1253.00</td>\n",
       "      <td>1378.75</td>\n",
       "      <td>1499.00</td>\n",
       "    </tr>\n",
       "    <tr>\n",
       "      <td>duration_count</td>\n",
       "      <td>3168.00</td>\n",
       "      <td>51.45</td>\n",
       "      <td>26.44</td>\n",
       "      <td>1.00</td>\n",
       "      <td>33.00</td>\n",
       "      <td>50.00</td>\n",
       "      <td>67.00</td>\n",
       "      <td>190.00</td>\n",
       "    </tr>\n",
       "    <tr>\n",
       "      <td>duration_sum</td>\n",
       "      <td>3168.00</td>\n",
       "      <td>457.80</td>\n",
       "      <td>237.42</td>\n",
       "      <td>1.00</td>\n",
       "      <td>290.75</td>\n",
       "      <td>447.50</td>\n",
       "      <td>592.25</td>\n",
       "      <td>1673.00</td>\n",
       "    </tr>\n",
       "    <tr>\n",
       "      <td>mb_used_count</td>\n",
       "      <td>3201.00</td>\n",
       "      <td>40.55</td>\n",
       "      <td>16.15</td>\n",
       "      <td>1.00</td>\n",
       "      <td>30.00</td>\n",
       "      <td>41.00</td>\n",
       "      <td>51.00</td>\n",
       "      <td>101.00</td>\n",
       "    </tr>\n",
       "    <tr>\n",
       "      <td>mb_used_sum</td>\n",
       "      <td>3201.00</td>\n",
       "      <td>17297.55</td>\n",
       "      <td>7513.50</td>\n",
       "      <td>202.00</td>\n",
       "      <td>12567.00</td>\n",
       "      <td>16986.00</td>\n",
       "      <td>21458.00</td>\n",
       "      <td>49789.00</td>\n",
       "    </tr>\n",
       "    <tr>\n",
       "      <td>messages_count</td>\n",
       "      <td>2717.00</td>\n",
       "      <td>45.28</td>\n",
       "      <td>35.05</td>\n",
       "      <td>1.00</td>\n",
       "      <td>19.00</td>\n",
       "      <td>38.00</td>\n",
       "      <td>63.00</td>\n",
       "      <td>224.00</td>\n",
       "    </tr>\n",
       "    <tr>\n",
       "      <td>age</td>\n",
       "      <td>3214.00</td>\n",
       "      <td>46.64</td>\n",
       "      <td>16.59</td>\n",
       "      <td>18.00</td>\n",
       "      <td>32.00</td>\n",
       "      <td>46.00</td>\n",
       "      <td>62.00</td>\n",
       "      <td>75.00</td>\n",
       "    </tr>\n",
       "    <tr>\n",
       "      <td>messages_included</td>\n",
       "      <td>3214.00</td>\n",
       "      <td>341.15</td>\n",
       "      <td>438.04</td>\n",
       "      <td>50.00</td>\n",
       "      <td>50.00</td>\n",
       "      <td>50.00</td>\n",
       "      <td>1000.00</td>\n",
       "      <td>1000.00</td>\n",
       "    </tr>\n",
       "    <tr>\n",
       "      <td>mb_per_month_included</td>\n",
       "      <td>3214.00</td>\n",
       "      <td>20067.41</td>\n",
       "      <td>7082.49</td>\n",
       "      <td>15360.00</td>\n",
       "      <td>15360.00</td>\n",
       "      <td>15360.00</td>\n",
       "      <td>30720.00</td>\n",
       "      <td>30720.00</td>\n",
       "    </tr>\n",
       "    <tr>\n",
       "      <td>minutes_included</td>\n",
       "      <td>3214.00</td>\n",
       "      <td>1266.18</td>\n",
       "      <td>1152.75</td>\n",
       "      <td>500.00</td>\n",
       "      <td>500.00</td>\n",
       "      <td>500.00</td>\n",
       "      <td>3000.00</td>\n",
       "      <td>3000.00</td>\n",
       "    </tr>\n",
       "    <tr>\n",
       "      <td>rub_monthly_fee</td>\n",
       "      <td>3214.00</td>\n",
       "      <td>979.06</td>\n",
       "      <td>645.54</td>\n",
       "      <td>550.00</td>\n",
       "      <td>550.00</td>\n",
       "      <td>550.00</td>\n",
       "      <td>1950.00</td>\n",
       "      <td>1950.00</td>\n",
       "    </tr>\n",
       "    <tr>\n",
       "      <td>rub_per_gb</td>\n",
       "      <td>3214.00</td>\n",
       "      <td>184.68</td>\n",
       "      <td>23.05</td>\n",
       "      <td>150.00</td>\n",
       "      <td>150.00</td>\n",
       "      <td>200.00</td>\n",
       "      <td>200.00</td>\n",
       "      <td>200.00</td>\n",
       "    </tr>\n",
       "    <tr>\n",
       "      <td>rub_per_message</td>\n",
       "      <td>3214.00</td>\n",
       "      <td>2.39</td>\n",
       "      <td>0.92</td>\n",
       "      <td>1.00</td>\n",
       "      <td>1.00</td>\n",
       "      <td>3.00</td>\n",
       "      <td>3.00</td>\n",
       "      <td>3.00</td>\n",
       "    </tr>\n",
       "    <tr>\n",
       "      <td>rub_per_minute</td>\n",
       "      <td>3214.00</td>\n",
       "      <td>2.39</td>\n",
       "      <td>0.92</td>\n",
       "      <td>1.00</td>\n",
       "      <td>1.00</td>\n",
       "      <td>3.00</td>\n",
       "      <td>3.00</td>\n",
       "      <td>3.00</td>\n",
       "    </tr>\n",
       "    <tr>\n",
       "      <td>duration_delta</td>\n",
       "      <td>3214.00</td>\n",
       "      <td>28.85</td>\n",
       "      <td>73.08</td>\n",
       "      <td>0.00</td>\n",
       "      <td>0.00</td>\n",
       "      <td>0.00</td>\n",
       "      <td>0.00</td>\n",
       "      <td>935.00</td>\n",
       "    </tr>\n",
       "    <tr>\n",
       "      <td>messages_delta</td>\n",
       "      <td>3214.00</td>\n",
       "      <td>4.02</td>\n",
       "      <td>11.51</td>\n",
       "      <td>0.00</td>\n",
       "      <td>0.00</td>\n",
       "      <td>0.00</td>\n",
       "      <td>0.00</td>\n",
       "      <td>93.00</td>\n",
       "    </tr>\n",
       "    <tr>\n",
       "      <td>gb_used_delta</td>\n",
       "      <td>3214.00</td>\n",
       "      <td>2.34</td>\n",
       "      <td>3.53</td>\n",
       "      <td>0.00</td>\n",
       "      <td>0.00</td>\n",
       "      <td>0.00</td>\n",
       "      <td>4.00</td>\n",
       "      <td>23.00</td>\n",
       "    </tr>\n",
       "    <tr>\n",
       "      <td>income</td>\n",
       "      <td>3214.00</td>\n",
       "      <td>1532.59</td>\n",
       "      <td>799.65</td>\n",
       "      <td>550.00</td>\n",
       "      <td>750.00</td>\n",
       "      <td>1667.50</td>\n",
       "      <td>1950.00</td>\n",
       "      <td>6770.00</td>\n",
       "    </tr>\n",
       "  </tbody>\n",
       "</table>\n",
       "</div>"
      ],
      "text/plain": [
       "                        count     mean     std      min      25%      50%  \\\n",
       "month                 3214.00     8.32    2.91     1.00     6.00     9.00   \n",
       "user_id               3214.00  1251.59  144.66  1000.00  1125.00  1253.00   \n",
       "duration_count        3168.00    51.45   26.44     1.00    33.00    50.00   \n",
       "duration_sum          3168.00   457.80  237.42     1.00   290.75   447.50   \n",
       "mb_used_count         3201.00    40.55   16.15     1.00    30.00    41.00   \n",
       "mb_used_sum           3201.00 17297.55 7513.50   202.00 12567.00 16986.00   \n",
       "messages_count        2717.00    45.28   35.05     1.00    19.00    38.00   \n",
       "age                   3214.00    46.64   16.59    18.00    32.00    46.00   \n",
       "messages_included     3214.00   341.15  438.04    50.00    50.00    50.00   \n",
       "mb_per_month_included 3214.00 20067.41 7082.49 15360.00 15360.00 15360.00   \n",
       "minutes_included      3214.00  1266.18 1152.75   500.00   500.00   500.00   \n",
       "rub_monthly_fee       3214.00   979.06  645.54   550.00   550.00   550.00   \n",
       "rub_per_gb            3214.00   184.68   23.05   150.00   150.00   200.00   \n",
       "rub_per_message       3214.00     2.39    0.92     1.00     1.00     3.00   \n",
       "rub_per_minute        3214.00     2.39    0.92     1.00     1.00     3.00   \n",
       "duration_delta        3214.00    28.85   73.08     0.00     0.00     0.00   \n",
       "messages_delta        3214.00     4.02   11.51     0.00     0.00     0.00   \n",
       "gb_used_delta         3214.00     2.34    3.53     0.00     0.00     0.00   \n",
       "income                3214.00  1532.59  799.65   550.00   750.00  1667.50   \n",
       "\n",
       "                           75%      max  \n",
       "month                    11.00    12.00  \n",
       "user_id                1378.75  1499.00  \n",
       "duration_count           67.00   190.00  \n",
       "duration_sum            592.25  1673.00  \n",
       "mb_used_count            51.00   101.00  \n",
       "mb_used_sum           21458.00 49789.00  \n",
       "messages_count           63.00   224.00  \n",
       "age                      62.00    75.00  \n",
       "messages_included      1000.00  1000.00  \n",
       "mb_per_month_included 30720.00 30720.00  \n",
       "minutes_included       3000.00  3000.00  \n",
       "rub_monthly_fee        1950.00  1950.00  \n",
       "rub_per_gb              200.00   200.00  \n",
       "rub_per_message           3.00     3.00  \n",
       "rub_per_minute            3.00     3.00  \n",
       "duration_delta            0.00   935.00  \n",
       "messages_delta            0.00    93.00  \n",
       "gb_used_delta             4.00    23.00  \n",
       "income                 1950.00  6770.00  "
      ]
     },
     "execution_count": 44,
     "metadata": {},
     "output_type": "execute_result"
    }
   ],
   "source": [
    "df.describe().T"
   ]
  },
  {
   "cell_type": "code",
   "execution_count": 45,
   "metadata": {
    "scrolled": true
   },
   "outputs": [
    {
     "data": {
      "text/html": [
       "<div>\n",
       "<style scoped>\n",
       "    .dataframe tbody tr th:only-of-type {\n",
       "        vertical-align: middle;\n",
       "    }\n",
       "\n",
       "    .dataframe tbody tr th {\n",
       "        vertical-align: top;\n",
       "    }\n",
       "\n",
       "    .dataframe thead tr th {\n",
       "        text-align: left;\n",
       "    }\n",
       "\n",
       "    .dataframe thead tr:last-of-type th {\n",
       "        text-align: right;\n",
       "    }\n",
       "</style>\n",
       "<table border=\"1\" class=\"dataframe\">\n",
       "  <thead>\n",
       "    <tr>\n",
       "      <th></th>\n",
       "      <th colspan=\"2\" halign=\"left\">duration_sum</th>\n",
       "      <th colspan=\"2\" halign=\"left\">mb_used_sum</th>\n",
       "      <th colspan=\"2\" halign=\"left\">messages_count</th>\n",
       "      <th colspan=\"2\" halign=\"left\">income</th>\n",
       "    </tr>\n",
       "    <tr>\n",
       "      <th></th>\n",
       "      <th>sum</th>\n",
       "      <th>mean</th>\n",
       "      <th>sum</th>\n",
       "      <th>mean</th>\n",
       "      <th>sum</th>\n",
       "      <th>mean</th>\n",
       "      <th>sum</th>\n",
       "      <th>mean</th>\n",
       "    </tr>\n",
       "    <tr>\n",
       "      <th>tariff</th>\n",
       "      <th></th>\n",
       "      <th></th>\n",
       "      <th></th>\n",
       "      <th></th>\n",
       "      <th></th>\n",
       "      <th></th>\n",
       "      <th></th>\n",
       "      <th></th>\n",
       "    </tr>\n",
       "  </thead>\n",
       "  <tbody>\n",
       "    <tr>\n",
       "      <td>smart</td>\n",
       "      <td>931577.00</td>\n",
       "      <td>419.44</td>\n",
       "      <td>36174861.00</td>\n",
       "      <td>16243.76</td>\n",
       "      <td>74413.00</td>\n",
       "      <td>38.72</td>\n",
       "      <td>2885751.00</td>\n",
       "      <td>1294.64</td>\n",
       "    </tr>\n",
       "    <tr>\n",
       "      <td>ultra</td>\n",
       "      <td>518724.00</td>\n",
       "      <td>547.76</td>\n",
       "      <td>19194598.00</td>\n",
       "      <td>19706.98</td>\n",
       "      <td>48623.00</td>\n",
       "      <td>61.16</td>\n",
       "      <td>2040000.00</td>\n",
       "      <td>2071.07</td>\n",
       "    </tr>\n",
       "  </tbody>\n",
       "</table>\n",
       "</div>"
      ],
      "text/plain": [
       "       duration_sum        mb_used_sum          messages_count        \\\n",
       "                sum   mean         sum     mean            sum  mean   \n",
       "tariff                                                                 \n",
       "smart     931577.00 419.44 36174861.00 16243.76       74413.00 38.72   \n",
       "ultra     518724.00 547.76 19194598.00 19706.98       48623.00 61.16   \n",
       "\n",
       "           income          \n",
       "              sum    mean  \n",
       "tariff                     \n",
       "smart  2885751.00 1294.64  \n",
       "ultra  2040000.00 2071.07  "
      ]
     },
     "execution_count": 45,
     "metadata": {},
     "output_type": "execute_result"
    }
   ],
   "source": [
    "df.groupby('tariff').agg({'duration_sum' : ['sum', 'mean'],\\\n",
    "                          'mb_used_sum' : ['sum', 'mean'],\\\n",
    "                          'messages_count' : ['sum', 'mean'],\\\n",
    "                         'income' : ['sum', 'mean']})"
   ]
  },
  {
   "cell_type": "code",
   "execution_count": 46,
   "metadata": {
    "scrolled": false
   },
   "outputs": [
    {
     "data": {
      "image/png": "[encoded data removed]",
      "text/plain": [
       "<Figure size 432x288 with 1 Axes>"
      ]
     },
     "metadata": {
      "needs_background": "light"
     },
     "output_type": "display_data"
    },
    {
     "data": {
      "image/png": "[encoded data removed]",
      "text/plain": [
       "<Figure size 432x288 with 1 Axes>"
      ]
     },
     "metadata": {
      "needs_background": "light"
     },
     "output_type": "display_data"
    },
    {
     "data": {
      "image/png": "[encoded data removed]",
      "text/plain": [
       "<Figure size 432x288 with 1 Axes>"
      ]
     },
     "metadata": {
      "needs_background": "light"
     },
     "output_type": "display_data"
    },
    {
     "data": {
      "image/png": "[encoded data removed]",
      "text/plain": [
       "<Figure size 432x288 with 1 Axes>"
      ]
     },
     "metadata": {
      "needs_background": "light"
     },
     "output_type": "display_data"
    }
   ],
   "source": [
    "columns = ['duration_sum', 'mb_used_sum', 'messages_count', 'income']\n",
    "dimension = {'duration_sum' : 'Duration of calls, minute', 'mb_used_sum' : 'Internet traffic, Mb',\\\n",
    "       'messages_count' : 'Messages, pcs', 'income' : 'Income, RUR'}\n",
    "\n",
    "for col in columns:\n",
    "    df.pivot_table(index='month', columns='tariff', values=col).plot(grid=True)\n",
    "    plt.ylabel('{}'.format(dimension.get(col)))"
   ]
  },
  {
   "cell_type": "markdown",
   "metadata": {},
   "source": [
    "Как было отмечено ранее, тариф \"smart\" пользуется большей популярностью, абсолютные значения затрат по минутам, траффику и СМС и абсолютные значения дохода по нашей выборке действительно выше, чем в целом по тарифу \"ultra\". Но при этом анализируя средние показатели видим обратную ситуацию - все относительные величины в любом из месяцев выше именно по тарифу \"ultra\". Это выглядит довольно здраво, ведь клиент вероятнее всего выбирает тариф, ориентируясь на свой объем потребления, а, значит, тариф \"ultra\", который в рамках абонентской платы предлагает увеличенные размеры минут, траффика и СМС, выбирают люди, которые и тратят больше. "
   ]
  },
  {
   "cell_type": "code",
   "execution_count": 47,
   "metadata": {},
   "outputs": [],
   "source": [
    "def count_mean(tariff):\n",
    "    return (df[df['tariff'] == tariff])[['duration_sum', 'mb_used_sum', 'messages_count', 'income']].mean()"
   ]
  },
  {
   "cell_type": "code",
   "execution_count": 48,
   "metadata": {},
   "outputs": [],
   "source": [
    "def count_var(tariff):\n",
    "    return np.var(df[df['tariff'] == tariff])[['duration_sum', 'mb_used_sum', 'messages_count', 'income']]"
   ]
  },
  {
   "cell_type": "code",
   "execution_count": 49,
   "metadata": {},
   "outputs": [],
   "source": [
    "def count_std(tariff):\n",
    "    return np.std(df[df['tariff'] == tariff], ddof=1)[['duration_sum', 'mb_used_sum', 'messages_count', 'income']]"
   ]
  },
  {
   "cell_type": "code",
   "execution_count": 50,
   "metadata": {
    "scrolled": false
   },
   "outputs": [
    {
     "data": {
      "text/html": [
       "<div>\n",
       "<style scoped>\n",
       "    .dataframe tbody tr th:only-of-type {\n",
       "        vertical-align: middle;\n",
       "    }\n",
       "\n",
       "    .dataframe tbody tr th {\n",
       "        vertical-align: top;\n",
       "    }\n",
       "\n",
       "    .dataframe thead th {\n",
       "        text-align: right;\n",
       "    }\n",
       "</style>\n",
       "<table border=\"1\" class=\"dataframe\">\n",
       "  <thead>\n",
       "    <tr style=\"text-align: right;\">\n",
       "      <th></th>\n",
       "      <th>mean_smart</th>\n",
       "      <th>mean_ultra</th>\n",
       "      <th>var_smart</th>\n",
       "      <th>var_ultra</th>\n",
       "      <th>std_smart</th>\n",
       "      <th>std_ultra</th>\n",
       "    </tr>\n",
       "  </thead>\n",
       "  <tbody>\n",
       "    <tr>\n",
       "      <td>duration_sum</td>\n",
       "      <td>419.44</td>\n",
       "      <td>547.76</td>\n",
       "      <td>35702.05</td>\n",
       "      <td>93239.87</td>\n",
       "      <td>188.99</td>\n",
       "      <td>305.51</td>\n",
       "    </tr>\n",
       "    <tr>\n",
       "      <td>mb_used_sum</td>\n",
       "      <td>16243.76</td>\n",
       "      <td>19706.98</td>\n",
       "      <td>34324671.67</td>\n",
       "      <td>98645116.49</td>\n",
       "      <td>5860.04</td>\n",
       "      <td>9937.13</td>\n",
       "    </tr>\n",
       "    <tr>\n",
       "      <td>messages_count</td>\n",
       "      <td>38.72</td>\n",
       "      <td>61.16</td>\n",
       "      <td>717.22</td>\n",
       "      <td>2107.01</td>\n",
       "      <td>26.79</td>\n",
       "      <td>45.93</td>\n",
       "    </tr>\n",
       "    <tr>\n",
       "      <td>income</td>\n",
       "      <td>1294.64</td>\n",
       "      <td>2071.07</td>\n",
       "      <td>673628.97</td>\n",
       "      <td>143345.56</td>\n",
       "      <td>820.93</td>\n",
       "      <td>378.80</td>\n",
       "    </tr>\n",
       "  </tbody>\n",
       "</table>\n",
       "</div>"
      ],
      "text/plain": [
       "                mean_smart  mean_ultra   var_smart   var_ultra  std_smart  \\\n",
       "duration_sum        419.44      547.76    35702.05    93239.87     188.99   \n",
       "mb_used_sum       16243.76    19706.98 34324671.67 98645116.49    5860.04   \n",
       "messages_count       38.72       61.16      717.22     2107.01      26.79   \n",
       "income             1294.64     2071.07   673628.97   143345.56     820.93   \n",
       "\n",
       "                std_ultra  \n",
       "duration_sum       305.51  \n",
       "mb_used_sum       9937.13  \n",
       "messages_count      45.93  \n",
       "income             378.80  "
      ]
     },
     "execution_count": 50,
     "metadata": {},
     "output_type": "execute_result"
    }
   ],
   "source": [
    "pd.DataFrame({'mean_smart' : count_mean('smart'), 'mean_ultra' : count_mean('ultra'),\\\n",
    "    'var_smart' : count_var('smart'), 'var_ultra' : count_var('ultra'),\\\n",
    "    'std_smart' : count_std('smart'), 'std_ultra' : count_std('ultra')})"
   ]
  },
  {
   "cell_type": "markdown",
   "metadata": {},
   "source": [
    "Как было отмечено выше, средние расходы минут, траффика и СМС выше у клиентов с тарифом \"ultra\", но одновременно с этим больше и разброс значений по каждому из этих показателей. А вот по среднему доходу ситуация иная - средний доход по выборке выше у клиентов с тарифом \"ultra\", а вот дисперсия и стандартное отклонение выше у клиентов с тарифом \"smart\", что говорит о большей волатильности данных, часть клиентов с этим тарифом сильно превышают лимиты, что выражается в расчетной сумме доходов."
   ]
  },
  {
   "cell_type": "code",
   "execution_count": 62,
   "metadata": {},
   "outputs": [
    {
     "data": {
      "image/png": "[encoded data removed]",
      "text/plain": [
       "<Figure size 432x288 with 1 Axes>"
      ]
     },
     "metadata": {
      "needs_background": "light"
     },
     "output_type": "display_data"
    },
    {
     "data": {
      "image/png": "[encoded data removed]",
      "text/plain": [
       "<Figure size 432x288 with 1 Axes>"
      ]
     },
     "metadata": {
      "needs_background": "light"
     },
     "output_type": "display_data"
    },
    {
     "data": {
      "image/png": "[encoded data removed]",
      "text/plain": [
       "<Figure size 432x288 with 1 Axes>"
      ]
     },
     "metadata": {
      "needs_background": "light"
     },
     "output_type": "display_data"
    },
    {
     "data": {
      "image/png": "[encoded data removed]",
      "text/plain": [
       "<Figure size 432x288 with 1 Axes>"
      ]
     },
     "metadata": {
      "needs_background": "light"
     },
     "output_type": "display_data"
    }
   ],
   "source": [
    "for col in columns:\n",
    "    f, ax = plt.subplots()\n",
    "    df[df['tariff'] == 'smart'][col].plot(kind='hist', bins=20, ax=ax, label='smart', alpha=0.5, density=True)\n",
    "    df[df['tariff'] == 'ultra'][col].plot(kind='hist', bins=20, ax=ax, label='ultra', alpha=0.5, density=True)\n",
    "    plt.legend()\n",
    "    ax.set_title('Distribution of {}, 2018 year'.format(dimension.get(col)))\n",
    "    ax.set_ylabel('Number, pcs')\n",
    "    ax.set_xlabel('{}'.format(dimension.get(col)))"
   ]
  },
  {
   "cell_type": "code",
   "execution_count": 52,
   "metadata": {
    "scrolled": false
   },
   "outputs": [
    {
     "name": "stderr",
     "output_type": "stream",
     "text": [
      "/opt/conda/lib/python3.7/site-packages/numpy/core/_asarray.py:83: VisibleDeprecationWarning: Creating an ndarray from ragged nested sequences (which is a list-or-tuple of lists-or-tuples-or ndarrays with different lengths or shapes) is deprecated. If you meant to do this, you must specify 'dtype=object' when creating the ndarray\n",
      "  return array(a, dtype, copy=False, order=order)\n"
     ]
    },
    {
     "data": {
      "image/png": "[encoded data removed]",
      "text/plain": [
       "<Figure size 576x432 with 1 Axes>"
      ]
     },
     "metadata": {
      "needs_background": "light"
     },
     "output_type": "display_data"
    },
    {
     "data": {
      "image/png": "[encoded data removed]",
      "text/plain": [
       "<Figure size 576x432 with 1 Axes>"
      ]
     },
     "metadata": {
      "needs_background": "light"
     },
     "output_type": "display_data"
    },
    {
     "data": {
      "image/png": "[encoded data removed]",
      "text/plain": [
       "<Figure size 576x432 with 1 Axes>"
      ]
     },
     "metadata": {
      "needs_background": "light"
     },
     "output_type": "display_data"
    },
    {
     "data": {
      "image/png": "[encoded data removed]",
      "text/plain": [
       "<Figure size 576x432 with 1 Axes>"
      ]
     },
     "metadata": {
      "needs_background": "light"
     },
     "output_type": "display_data"
    }
   ],
   "source": [
    "for col in columns:\n",
    "    df.boxplot(column=col, by=['tariff'], figsize=(8,6))\n",
    "    plt.title('{} by 2018 year'.format(dimension.get(col)))\n",
    "    plt.ylabel('Number, pcs')\n",
    "    plt.show()\n",
    "    np.warnings.filterwarnings('ignore')"
   ]
  },
  {
   "cell_type": "markdown",
   "metadata": {},
   "source": [
    "Если сравнивать распределения между тарифами, то они схожи по любому из анализируемых показателей, с той только разницей, что количество наблюдений по тарифу \"smart\" больше. Распределения звонков и интернет-траффика похожи на нормальные, с некоторыми выбросами, если судить по ящику с усами.\n",
    "\n",
    "График распределения по сообщениям в значительной степени сосредоточен возле минимальных значений, вероятно, это можно объяснить низкой популярностью СМС сообщений после активного распространения мессенджеров.\n",
    "\n",
    "Распределения дохода имеют пик на уровне величины абонентской платы по каждому из тарифов. Причем по тарифу \"ultra\" ящик с усами выродился в линию, соответствующую сумме абонентской платы - получается, что первый и третий квартиль равны между собой и равны медиане, по всей видимости большинство клиентов данного тарифа не превышают установленные лимиты и платят только абонентскую плату."
   ]
  },
  {
   "cell_type": "code",
   "execution_count": 53,
   "metadata": {},
   "outputs": [],
   "source": [
    "income_limit_smart = pd.cut((df[df['tariff'] == 'smart'])['income'],\\\n",
    "                            bins=[0, 550, np.inf], labels=['абонентская плата', 'больше лимита']).value_counts()\n",
    "income_limit_ultra = pd.cut((df[df['tariff'] == 'ultra'])['income'],\\\n",
    "                            bins=[0, 1950, np.inf], labels=['абонентская плата', 'больше лимита']).value_counts()"
   ]
  },
  {
   "cell_type": "code",
   "execution_count": 54,
   "metadata": {
    "scrolled": false
   },
   "outputs": [
    {
     "data": {
      "text/html": [
       "<div>\n",
       "<style scoped>\n",
       "    .dataframe tbody tr th:only-of-type {\n",
       "        vertical-align: middle;\n",
       "    }\n",
       "\n",
       "    .dataframe tbody tr th {\n",
       "        vertical-align: top;\n",
       "    }\n",
       "\n",
       "    .dataframe thead th {\n",
       "        text-align: right;\n",
       "    }\n",
       "</style>\n",
       "<table border=\"1\" class=\"dataframe\">\n",
       "  <thead>\n",
       "    <tr style=\"text-align: right;\">\n",
       "      <th></th>\n",
       "      <th>абонентская плата</th>\n",
       "      <th>больше лимита</th>\n",
       "    </tr>\n",
       "  </thead>\n",
       "  <tbody>\n",
       "    <tr>\n",
       "      <td>smart</td>\n",
       "      <td>564</td>\n",
       "      <td>1665</td>\n",
       "    </tr>\n",
       "    <tr>\n",
       "      <td>ultra</td>\n",
       "      <td>851</td>\n",
       "      <td>134</td>\n",
       "    </tr>\n",
       "  </tbody>\n",
       "</table>\n",
       "</div>"
      ],
      "text/plain": [
       "       абонентская плата  больше лимита\n",
       "smart                564           1665\n",
       "ultra                851            134"
      ]
     },
     "execution_count": 54,
     "metadata": {},
     "output_type": "execute_result"
    },
    {
     "data": {
      "image/png": "[encoded data removed]",
      "text/plain": [
       "<Figure size 720x576 with 2 Axes>"
      ]
     },
     "metadata": {},
     "output_type": "display_data"
    }
   ],
   "source": [
    "fig, (ax1, ax2) = plt.subplots(1,2)\n",
    "income_limit_smart.plot(kind='pie', ax=ax1, autopct='%1.f%%', figsize=(10,8), label='smart')\n",
    "income_limit_ultra.plot(kind='pie', ax=ax2, autopct='%1.f%%', figsize=(10,8), label='ultra')\n",
    "\n",
    "pd.DataFrame(data = [income_limit_smart, income_limit_ultra], index=['smart', 'ultra'])"
   ]
  },
  {
   "cell_type": "markdown",
   "metadata": {},
   "source": [
    "Действительно, клиентам тарифа \"ultra\" в подавляющем большинстве (86%) хватает предложенных тарифом минут, смс и Мб, поэтому на диаграмме размаха мы видели только единственную линию.\n",
    "\n",
    "А вот три четверти клиентов тарифа \"smart\" используют дополнительные минуты, смс и Мб, но даже при этом средний доход от этих клиентов не достигает средней величины доходов от клиентов тарифа \"ultra\"."
   ]
  },
  {
   "cell_type": "markdown",
   "metadata": {},
   "source": [
    "<a id='analysis_conclusion'></a>\n",
    "## Вывод по шагу 3"
   ]
  },
  {
   "cell_type": "markdown",
   "metadata": {},
   "source": [
    "70% клиентов используют тариф \"smart\", что отражается и на общем расходе минут/смс/интернет-траффика, а также суммарных расходах клиентов. Однако средние показатели демонстрируют противоположную картину - клиенты тарифа \"ultra\" и тратят больше минут/смс/мб (при этом имея бОльшую, чем по смарту, волатильность), и приносят больший средний доход, причем с меньшим разбросом значений. Вероятно, сказывается факт того, что в рамках тарифа \"ultra\" клиентам в большей массе достаточно заложенных минут/смс/мб (86% платежей составляет абонентская плата без доп.платежей), а в \"smart\" наоборот большинству этого недостаточно и происходит превышение лимита, 3/4 платжей тарифа \"smart\" выше абонентской платы.\n",
    "\n",
    "Проверим статистичекую значимость обнаруженного превышения среднего уровня доходов от тарифа \"ultra\" над средним доходом тарифа \"smart\"."
   ]
  },
  {
   "cell_type": "markdown",
   "metadata": {},
   "source": [
    "<a id='tests'></a>\n",
    "## Шаг 4. Проверка гипотез"
   ]
  },
  {
   "cell_type": "markdown",
   "metadata": {},
   "source": [
    "<a id='tests_income_tarif'></a>\n",
    "### Шаг 4.1 Различия в средней выручке по тарифам"
   ]
  },
  {
   "cell_type": "markdown",
   "metadata": {},
   "source": [
    "Для сопоставления данных о неравенстве средних двух совокупностей сформулируем гипотезы - нулевая гипотеза предполагает, что значения не различаются, альтернативная, напротив, утверждает, что значения различны.\n",
    "\n",
    "H0: Средняя выручка тарифа \"smart\" = средней выручке тарифа \"ultra\"\\\n",
    "H1: Средняя выручка тарифа \"smart\" не равна средней выручке тарифа \"ultra\""
   ]
  },
  {
   "cell_type": "code",
   "execution_count": 55,
   "metadata": {},
   "outputs": [
    {
     "name": "stdout",
     "output_type": "stream",
     "text": [
      "p-значение:  2.7240946993530856e-246\n"
     ]
    }
   ],
   "source": [
    "results = st.ttest_ind(df[df['tariff'] == 'smart']['income'],\\\n",
    "                       df[df['tariff'] == 'ultra']['income'], equal_var = False)\n",
    "\n",
    "print('p-значение: ', results.pvalue)"
   ]
  },
  {
   "cell_type": "markdown",
   "metadata": {},
   "source": [
    "При малом объеме выборки более вероятно получить случайный  результат, а при увеличении объема выборки случайные отклонения компенсируют друг друга, и получить значимое различие в выборках при их однородности менее вероятно. Учитывая, что объем выборки по тарифу \"smart\" составляет 2229, а по тарифу \"ultra\" - 985, выберем для проведения статистического анализа меньший, чем стандартный, уровень значимости. Определим уровень значимости в размере 1%. "
   ]
  },
  {
   "cell_type": "code",
   "execution_count": 56,
   "metadata": {
    "scrolled": false
   },
   "outputs": [
    {
     "name": "stdout",
     "output_type": "stream",
     "text": [
      "Отвергаем нулевую гипотезу\n"
     ]
    }
   ],
   "source": [
    "alpha = .01\n",
    "if (results.pvalue < alpha):\n",
    "    print(\"Отвергаем нулевую гипотезу\")\n",
    "else:\n",
    "    print(\"Не получилось отвергнуть нулевую гипотезу\")"
   ]
  },
  {
   "cell_type": "markdown",
   "metadata": {},
   "source": [
    "Полученное значение p-value говорит о том, что с очень малой вероятностью, стремящейся к 0, найденное различие средних доходов можно получить случайно, таким образом, выбранный критерий значимости не был превышен, можем отвергнуть нулевую гипотезу и сделать вывод о значимом различии между средними выручками от разных тарифов по данным выборки."
   ]
  },
  {
   "cell_type": "markdown",
   "metadata": {},
   "source": [
    "Проведем односторонний тест и проверим гипотезу превышения средней выручки по тарифу \"ultra\" над выручкой тарифа \"smart\". Нулевая гипотеза снова предполагает, что они одинаковы, альтернативная  - что  выручка тарифа \"ultra\" > 1294.64 RUR\n",
    "\n",
    "H0: Средняя выручка тарифа \"smart\" = средней выручке тарифа \"ultra\"\\\n",
    "H1: Средняя выручка тарифа \"smart\" меньше средней выручки тарифа \"ultra\""
   ]
  },
  {
   "cell_type": "code",
   "execution_count": 57,
   "metadata": {},
   "outputs": [
    {
     "name": "stdout",
     "output_type": "stream",
     "text": [
      "Отвергаем нулевую гипотезу\n"
     ]
    }
   ],
   "source": [
    "smart_mean = df[df['tariff'] == 'smart']['income'].mean()\n",
    "results = st.ttest_1samp(df[df['tariff'] == 'ultra']['income'], smart_mean)\n",
    "\n",
    "if (results.pvalue / 2 < alpha) and (df[df['tariff'] == 'ultra']['income'].mean() > smart_mean):\n",
    "    print(\"Отвергаем нулевую гипотезу\")\n",
    "else:\n",
    "    print(\"Не получилось отвергнуть нулевую гипотезу\")"
   ]
  },
  {
   "cell_type": "markdown",
   "metadata": {},
   "source": [
    "Гипотеза о равенстве выручек снова была отвергнута, данные выборки не противоречат гипотезе о превышении выручки тарифа \"ultra\" над выручкой тарифа \"smart\""
   ]
  },
  {
   "cell_type": "markdown",
   "metadata": {},
   "source": [
    "<a id='tests_income_location'></a>\n",
    "### Шаг 4.2 Различия в средней выручке по регионам"
   ]
  },
  {
   "cell_type": "markdown",
   "metadata": {},
   "source": [
    "H0: Средняя выручка по Москве = средней выручке по другим регионам\\\n",
    "H1: Средняя выручка по Москве не равна средней выручке по другим регионам"
   ]
  },
  {
   "cell_type": "code",
   "execution_count": 58,
   "metadata": {},
   "outputs": [
    {
     "name": "stdout",
     "output_type": "stream",
     "text": [
      "p-значение:  0.531666503831252\n"
     ]
    }
   ],
   "source": [
    "results = st.ttest_ind(df[df['city'] == 'Москва']['income'],\\\n",
    "                       df[df['city'] != 'Москва']['income'])\n",
    "\n",
    "print('p-значение: ', results.pvalue)"
   ]
  },
  {
   "cell_type": "code",
   "execution_count": 59,
   "metadata": {
    "scrolled": true
   },
   "outputs": [
    {
     "name": "stdout",
     "output_type": "stream",
     "text": [
      "Не получилось отвергнуть нулевую гипотезу\n"
     ]
    }
   ],
   "source": [
    "if (results.pvalue < alpha):\n",
    "    print(\"Отвергаем нулевую гипотезу\")\n",
    "else:\n",
    "    print(\"Не получилось отвергнуть нулевую гипотезу\")"
   ]
  },
  {
   "cell_type": "markdown",
   "metadata": {},
   "source": [
    "Полученные по выборке данные о средних выручках по регионам не противоречат нулевой гипотезе, с учетом выбранного критерия значимости разница в средних выручках по Москве и в регионах статистически не была подтверждена."
   ]
  },
  {
   "cell_type": "markdown",
   "metadata": {},
   "source": [
    "<a id='tests_conclusion'></a>\n",
    "## Вывод по шагу 4"
   ]
  },
  {
   "cell_type": "markdown",
   "metadata": {},
   "source": [
    "Для выбранного критерия значимости на уровне 1% проведенный тест позволил отбросить нулевую гипотезу и сделать вывод о значимом различии между средними выручками от разных тарифов по данным выборки. Односторонний тест показал, что данные выборки не противоречат гипотезе о превышении выручки тарифа \"ultra\" над выручкой тарифа \"smart\".\n",
    "\n",
    "А вот данные по выручке в зависимости от региона не получили статистического подтверждения с учетом выбранного уровня значимости, нулевая гипотеза не была отвергнута."
   ]
  },
  {
   "cell_type": "markdown",
   "metadata": {},
   "source": [
    "<a id='total_conclusion'></a>\n",
    "## Шаг 5. Общий вывод"
   ]
  },
  {
   "cell_type": "markdown",
   "metadata": {},
   "source": [
    "Большинство клиентов выбирают тариф \"smart\" (70% анализируемой выборки), при этом в среднем тратят меньше минут разговора, сообщений и объема интернет-трафика, чем на тарифе \"ultra\". \n",
    "\n",
    "Среднее значение дохода, которое приносит тариф \"smart\" (1295 руб. в месяц на 1 клиента), также ниже аналогичного показателя тарифа \"ultra\" (2071 руб.), причем последний отличается еще и меньшим разбросом значений. Проведенные статистические тесты с уровнем значимости в 1% говорят о том, что данные выборки не противоречат гипотезе о превышении средней выручки от одного клиента с тарифом \"ultra\" над средней выручкой от тарифа \"smart\". Вероятно, в рамках тарифа \"ultra\" клиентам в большей массе достаточно заложенных минут/смс/мб (86% платежей составляет абонентская плата без доп.платежей), а в \"smart\" наоборот большинству этого недостаточно и происходит превышение лимита, 3/4 платжей тарифа \"smart\" выше абонентской платы.\n",
    "\n",
    "Но несмотря на то, что в рамках тарифа \"ultra\" клиенты за редким исключением перерасходуют предложенные лимиты, размер абонентской платы по данному тарифу выше, чем граница третьего квартиля по средней выручке клиентов тарифа \"smart\". Поэтому с точки зрения уровня возможного дохода привлекательней для продвижения выглядит тариф \"ultra\" вне зависимости от региона продвижения."
   ]
  }
 ],
 "metadata": {
  "kernelspec": {
   "display_name": "Python 3",
   "language": "python",
   "name": "python3"
  },
  "language_info": {
   "codemirror_mode": {
    "name": "ipython",
    "version": 3
   },
   "file_extension": ".py",
   "mimetype": "text/x-python",
   "name": "python",
   "nbconvert_exporter": "python",
   "pygments_lexer": "ipython3",
   "version": "3.7.8"
  },
  "toc": {
   "base_numbering": 1,
   "nav_menu": {},
   "number_sections": false,
   "sideBar": true,
   "skip_h1_title": true,
   "title_cell": "Table of Contents",
   "title_sidebar": "Contents",
   "toc_cell": false,
   "toc_position": {
    "height": "477px",
    "left": "102px",
    "top": "110px",
    "width": "228px"
   },
   "toc_section_display": true,
   "toc_window_display": true
  }
 },
 "nbformat": 4,
 "nbformat_minor": 2
}
